{
 "cells": [
  {
   "cell_type": "markdown",
   "metadata": {},
   "source": [
    "Filling in the \"publication\" field is complicated in batch uploads to the database, so this script is a faster option to update the publication field for models based on an input .csv file containing a list of models and the corresponding publication. T"
   ]
  },
  {
   "cell_type": "code",
   "execution_count": 3,
   "metadata": {},
   "outputs": [
    {
     "name": "stderr",
     "output_type": "stream",
     "text": [
      "/Library/Frameworks/Python.framework/Versions/3.12/lib/python3.12/site-packages/elasticsearch/_sync/client/__init__.py:400: SecurityWarning: Connecting to 'https://localhost:9200' using TLS with verify_certs=False is insecure\n",
      "  _transport = transport_class(\n"
     ]
    }
   ],
   "source": [
    "from dotenv import load_dotenv\n",
    "import os\n",
    "from elasticsearch import Elasticsearch  # Base function for interacting with Elasticsearch\n",
    "from load_func import *\n",
    "\n",
    "# remove excessive HTTPS request warnings\n",
    "import urllib3\n",
    "urllib3.disable_warnings(urllib3.exceptions.InsecureRequestWarning)\n",
    "\n",
    "# connect to Elasticsearch\n",
    "load_dotenv()\n",
    "client = Elasticsearch(\"https://localhost:9200/\", api_key=os.getenv('API_KEY'),verify_certs=False)\n",
    "\n",
    "# index name\n",
    "INDEX_NAME = \"wind\"\n",
    "\n",
    "# get list of documents to udpate\n",
    "DIR_NAME = os.getcwd()\n",
    "FILE_NAME = \"publications.csv\"\n",
    "FILE_PATH = os.path.join(DIR_NAME, FILE_NAME)\n",
    "models, _ = read_csv(FILE_PATH)\n",
    "\n",
    "for m in models:\n",
    "    q = {\n",
    "        \"script\": {\n",
    "            \"source\": f\"ctx._source.Publication='{m[1]}'\",  # update publication field\n",
    "            \"lang\": \"painless\"\n",
    "        },\n",
    "        \"query\": {\n",
    "            \"match\": {\n",
    "                'Model name': m[0]\n",
    "            }\n",
    "        }\n",
    "    }\n",
    "    try :\n",
    "        client.update_by_query(body=q, index='wind')\n",
    "    except Exception as e:\n",
    "        print(f\"Failed to update {m[0]}: {e}\")\n",
    "        continue"
   ]
  }
 ],
 "metadata": {
  "kernelspec": {
   "display_name": "Python 3",
   "language": "python",
   "name": "python3"
  },
  "language_info": {
   "codemirror_mode": {
    "name": "ipython",
    "version": 3
   },
   "file_extension": ".py",
   "mimetype": "text/x-python",
   "name": "python",
   "nbconvert_exporter": "python",
   "pygments_lexer": "ipython3",
   "version": "3.12.0"
  },
  "orig_nbformat": 4
 },
 "nbformat": 4,
 "nbformat_minor": 2
}
