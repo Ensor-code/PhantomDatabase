{
 "cells": [
  {
   "cell_type": "markdown",
   "metadata": {},
   "source": [
    "This script edits model entries in the database to add or modify the publication field for a provided list of model."
   ]
  },
  {
   "cell_type": "code",
   "execution_count": 1,
   "metadata": {},
   "outputs": [
    {
     "name": "stderr",
     "output_type": "stream",
     "text": [
      "/Library/Frameworks/Python.framework/Versions/3.12/lib/python3.12/site-packages/elasticsearch/_sync/client/__init__.py:400: SecurityWarning: Connecting to 'https://localhost:9200' using TLS with verify_certs=False is insecure\n",
      "  _transport = transport_class(\n"
     ]
    }
   ],
   "source": [
    "from dotenv import load_dotenv\n",
    "import os\n",
    "from elasticsearch import Elasticsearch  # Base function for interacting with Elasticsearch\n",
    "from load_ini import *\n",
    "\n",
    "# remove excessive HTTPS request warnings\n",
    "import urllib3\n",
    "urllib3.disable_warnings(urllib3.exceptions.InsecureRequestWarning)\n",
    "\n",
    "# connect to Elasticsearch\n",
    "load_dotenv()\n",
    "client = Elasticsearch(\"https://localhost:9200/\", api_key=os.getenv('API_KEY'),verify_certs=False)\n",
    "\n",
    "# index name\n",
    "INDEX_NAME = \"wind\"\n",
    "\n",
    "# get list of documents to udpate\n",
    "DIR_NAME = os.getcwd()\n",
    "FILE_NAME = \"pubs.csv\"\n",
    "FILE_PATH = os.path.join(DIR_NAME, FILE_NAME)\n",
    "models, _ = read_csv(FILE_PATH)\n",
    "\n",
    "for m in models:\n",
    "    q = {\n",
    "        \"script\": {\n",
    "            \"source\": f\"ctx._source.Publication='{m[0]}'\",  # update publication field\n",
    "            \"lang\": \"painless\"\n",
    "        },\n",
    "        \"query\": {\n",
    "            \"match\": {\n",
    "                'Model name': m[1]\n",
    "            }\n",
    "        }\n",
    "    }\n",
    "    client.update_by_query(body=q, index='wind')"
   ]
  }
 ],
 "metadata": {
  "kernelspec": {
   "display_name": "Python 3",
   "language": "python",
   "name": "python3"
  },
  "language_info": {
   "codemirror_mode": {
    "name": "ipython",
    "version": 3
   },
   "file_extension": ".py",
   "mimetype": "text/x-python",
   "name": "python",
   "nbconvert_exporter": "python",
   "pygments_lexer": "ipython3",
   "version": "3.12.0"
  },
  "orig_nbformat": 4
 },
 "nbformat": 4,
 "nbformat_minor": 2
}
