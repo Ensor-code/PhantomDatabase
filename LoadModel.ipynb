{
 "cells": [
  {
   "cell_type": "code",
   "execution_count": null,
   "metadata": {},
   "outputs": [],
   "source": [
    "from dotenv import load_dotenv\n",
    "import os\n",
    "from elasticsearch import helpers  # For bulk Data Uploading\n",
    "from elasticsearch import Elasticsearch  # Base function for interacting with Elasticsearch\n",
    "from elasticsearch import RequestError\n",
    "from pprint import pprint\n",
    "from load_ini import *"
   ]
  },
  {
   "cell_type": "markdown",
   "metadata": {},
   "source": [
    "## Connect to Elastic search \n",
    "This is done using your own API key, generated using kibana, which should be stored localy on your machine. We stored our API key in a .env file in the same folder as this script, and use the python module dotenv to load it as an environment variable."
   ]
  },
  {
   "cell_type": "code",
   "execution_count": null,
   "metadata": {},
   "outputs": [],
   "source": [
    "load_dotenv()\n",
    "client = Elasticsearch(\"https://localhost:9200/\", api_key=os.getenv('API_KEY'),verify_certs=False)\n",
    "\n",
    "#test client\n",
    "print(client.info())"
   ]
  },
  {
   "cell_type": "markdown",
   "metadata": {},
   "source": [
    "## Create the dictionnaries containing all the mappings"
   ]
  },
  {
   "cell_type": "markdown",
   "metadata": {},
   "source": [
    "We read the mappings list from the metadata.csv file, which is generated externally from the shared excel file, and the list is then transformed into a dictionnary of mappings with the proper formatting."
   ]
  },
  {
   "cell_type": "code",
   "execution_count": null,
   "metadata": {},
   "outputs": [],
   "source": [
    "# grab mappings list from the csv file, which should be in the same directory as the script\n",
    "DIR_NAME = os.getcwd()\n",
    "FILE_NAME = \"metadata.csv\"\n",
    "FILE_PATH = os.path.join(DIR_NAME, FILE_NAME)\n",
    "data, header = read_csv(FILE_PATH)\n",
    "\n",
    "# create the dictionnary of mappings\n",
    "mappings = create_mapping(data, header)\n",
    "pprint(mappings)"
   ]
  },
  {
   "cell_type": "markdown",
   "metadata": {},
   "source": [
    "Add other settings to the index parameters"
   ]
  },
  {
   "cell_type": "code",
   "execution_count": null,
   "metadata": {},
   "outputs": [],
   "source": [
    "\"\"\"\n",
    "\"settings\" is technically not needed if we are working on a simple local host, but can be changed to optimise search performance on a database that is hosted on a cluster and searched by multiple users.\n",
    "\"mappings\" is required if you wish to explicitly map fields to specific values\n",
    "\"\"\"\n",
    "\n",
    "index_definition = {\n",
    "    \"settings\": {\n",
    "        \"number_of_shards\": 1,\n",
    "    },\n",
    "    \"mappings\": {\"properties\": mappings},\n",
    "}"
   ]
  },
  {
   "cell_type": "markdown",
   "metadata": {},
   "source": [
    "Create the index using the parameters set above."
   ]
  },
  {
   "cell_type": "code",
   "execution_count": null,
   "metadata": {},
   "outputs": [],
   "source": [
    "\"\"\" For now we use a test index, but the name of the index should be changed later on\"\"\"\n",
    "\n",
    "try:\n",
    "    client.indices.create(index=\"test_index\", body=index_definition)\n",
    "except RequestError:\n",
    "    print(\"Index already exists, delete it if you want to recreate it\")\n"
   ]
  },
  {
   "cell_type": "markdown",
   "metadata": {},
   "source": [
    "## Kibana\n",
    "\n",
    "Once the index is created in elasticsearch, in order to view it in Kibana, go to **Management** and on left menu bar, scroll down to the **Kibana** subsection, and click **Data Views**. From here, on the top right, click **Create data view** in order to integrate the new index into the Kibana interface. This will allow you to view how kibana interprets the index you have created. "
   ]
  },
  {
   "cell_type": "markdown",
   "metadata": {},
   "source": [
    "## Loading data\n",
    "Now that the index is created and visible in Kibana, we can start mapping models to the index."
   ]
  },
  {
   "cell_type": "code",
   "execution_count": null,
   "metadata": {},
   "outputs": [],
   "source": [
    "# Define directories and file names here\n",
    "DIR = \"/Users/camille/Documents/runs/phantom/wind\"  # Careful, this is a local path - change it to your own\n",
    "PREFIX = \"wind\"\n",
    "MODELS = [\"v10e00\", \"v20e00\", \"v05e00\"]"
   ]
  },
  {
   "cell_type": "markdown",
   "metadata": {},
   "source": [
    "### Load information from .setup and .in file\n",
    "We can map the parameters of interest by reading them from our data files, for instance .setup and .in files.\n",
    "\n"
   ]
  },
  {
   "cell_type": "code",
   "execution_count": null,
   "metadata": {},
   "outputs": [],
   "source": [
    "# Add 1 model\n",
    "testData = LoadSetupData(os.path.join(DIR,MODELS[0]),PREFIX,index_definition)\n",
    "pprint(testData)\n",
    "client.index(index='test_index', body=testData)\n",
    "del testData"
   ]
  },
  {
   "cell_type": "markdown",
   "metadata": {},
   "source": [
    "We can also load multiple models at a time, which is preferable of course."
   ]
  },
  {
   "cell_type": "code",
   "execution_count": null,
   "metadata": {},
   "outputs": [],
   "source": [
    "# Add multiple models\n",
    "base_command = {\"_index\": \"test_index\", \"_op_type\": \"index\"}\n",
    "operations = []\n",
    "for model in MODELS:\n",
    "    modelData = LoadSetupData(os.path.join(DIR, model), PREFIX, index_definition)\n",
    "    operations.append((base_command | {\"_source\": modelData}))\n",
    "    del modelData\n",
    "print(operations)\n",
    "helpers.bulk(client, operations, refresh=True)\n",
    "del operations"
   ]
  },
  {
   "cell_type": "markdown",
   "metadata": {},
   "source": [
    "### Now look into Dashboards: Analytics - Dashboards to visualise data\n",
    "Documentation: https://www.elastic.co/guide/en/kibana/current/create-a-dashboard-of-panels-with-web-server-data.html\n",
    "\n"
   ]
  },
  {
   "cell_type": "markdown",
   "metadata": {},
   "source": []
  }
 ],
 "metadata": {
  "kernelspec": {
   "display_name": "Python 3",
   "language": "python",
   "name": "python3"
  },
  "language_info": {
   "codemirror_mode": {
    "name": "ipython",
    "version": 3
   },
   "file_extension": ".py",
   "mimetype": "text/x-python",
   "name": "python",
   "nbconvert_exporter": "python",
   "pygments_lexer": "ipython3",
   "version": "3.12.7"
  },
  "orig_nbformat": 4
 },
 "nbformat": 4,
 "nbformat_minor": 2
}
