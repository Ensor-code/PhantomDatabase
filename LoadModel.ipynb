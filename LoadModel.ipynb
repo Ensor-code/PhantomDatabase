{
 "cells": [
  {
   "cell_type": "code",
   "execution_count": null,
   "metadata": {},
   "outputs": [],
   "source": [
    "from typing import Dict, Any"
   ]
  },
  {
   "cell_type": "code",
   "execution_count": null,
   "metadata": {},
   "outputs": [],
   "source": [
    "from dotenv import load_dotenv\n",
    "import os\n",
    "from elasticsearch import helpers  # For bulk Data Uploading\n",
    "from elasticsearch import Elasticsearch  # Base function for interacting with Elasticsearch\n",
    "\n",
    "load_dotenv()\n",
    "client = Elasticsearch(\"http://localhost:9200/\", api_key=os.getenv('apikey'))\n",
    "\n",
    "#test client\n",
    "print(client.info())"
   ]
  },
  {
   "cell_type": "markdown",
   "metadata": {},
   "source": [
    "### Creating the dictionnaries containing all the mappings"
   ]
  },
  {
   "cell_type": "markdown",
   "metadata": {},
   "source": [
    "We read the mappings list from the metadata.csv file, which is generated externally from the shared excel file, and the list is then transformed into a dictionnary of mappings with the proper formatting."
   ]
  },
  {
   "cell_type": "code",
   "execution_count": 6,
   "metadata": {},
   "outputs": [
    {
     "name": "stdout",
     "output_type": "stream",
     "text": [
      "['label', 'type', 'units', 'file']\n",
      "{'Publication/reference': {'type': 'keyword'},\n",
      " 'Tfloor': {'meta': {'file': '.in'}, 'type': 'float'},\n",
      " 'alpha_rad': {'meta': {'file': '.in'}, 'type': 'float'},\n",
      " 'code hash': {'meta': {'file': 'header.txt'}, 'type': 'keyword'},\n",
      " 'dtmax': {'meta': {'file': '.in'}, 'type': 'float'},\n",
      " 'eccentricity': {'meta': {'file': '.setup'}, 'type': 'float'},\n",
      " 'equation of state': {'meta': {'file': '.in'}, 'type': 'integer'},\n",
      " 'excitation_HI': {'meta': {'file': '.in'}, 'type': 'integer'},\n",
      " 'f_acc': {'meta': {'file': '.in'}, 'type': 'float'},\n",
      " 'icompanion_star': {'meta': {'file': '.setup'}, 'type': 'integer'},\n",
      " 'icool_method': {'meta': {'file': '.in'}, 'type': 'integer'},\n",
      " 'icooling': {'meta': {'file': '.in'}, 'type': 'integer'},\n",
      " 'idust_opacity': {'meta': {'file': '.in'}, 'type': 'integer'},\n",
      " 'iget_tdust': {'meta': {'file': '.in'}, 'type': 'integer'},\n",
      " 'init wind velocity': {'meta': {'file': '.in', 'units': 'km/s'},\n",
      "                        'type': 'float'},\n",
      " 'isink_radiation': {'meta': {'file': '.in'}, 'type': 'integer'},\n",
      " 'iwind_res': {'meta': {'file': '.in'}, 'type': 'integer'},\n",
      " 'mean molecular weight': {'meta': {'file': '.in'}, 'type': 'float'},\n",
      " 'nfulldump': {'meta': {'file': '.in'}, 'type': 'integer'},\n",
      " 'outer boundary': {'meta': {'file': '.in', 'units': 'au'}, 'type': 'float'},\n",
      " 'particle mass': {'meta': {'file': 'header.txt', 'units': 'Msol'},\n",
      "                   'type': 'float'},\n",
      " 'path to folder': {'type': 'keyword'},\n",
      " 'primary Racc': {'meta': {'file': '.setup', 'units': 'Rsol'}, 'type': 'float'},\n",
      " 'primary Reff': {'meta': {'file': '.setup', 'units': 'Rsol'}, 'type': 'float'},\n",
      " 'primary Teff': {'meta': {'file': '.setup', 'units': 'K'}, 'type': 'float'},\n",
      " 'primary mass': {'meta': {'file': '.setup', 'units': 'Msol'}, 'type': 'float'},\n",
      " 'resolution (current)': {'meta': {'file': 'header.txt'}, 'type': 'integer'},\n",
      " 'secondary Racc': {'meta': {'file': '.setup', 'units': 'Rsol'},\n",
      "                    'type': 'float'},\n",
      " 'secondary Reff': {'meta': {'file': '.setup', 'units': 'Rsol'},\n",
      "                    'type': 'float'},\n",
      " 'secondary Teff': {'meta': {'file': '.setup', 'units': 'K'}, 'type': 'float'},\n",
      " 'secondary mass': {'meta': {'file': '.setup', 'units': 'Msol'},\n",
      "                    'type': 'float'},\n",
      " 'semi-major axis': {'meta': {'file': '.setup', 'units': 'au'},\n",
      "                     'type': 'float'},\n",
      " 'simulation time': {'meta': {'file': '.ev', 'units': 's'}, 'type': 'float'},\n",
      " 'subst': {'meta': {'file': '.setup'}, 'type': 'interger'},\n",
      " 'term wind velocity': {'meta': {'file': 'wind_1D.dat', 'units': 'km/s'},\n",
      "                        'type': 'float'},\n",
      " 'tertiary Racc': {'meta': {'file': '.setup', 'units': 'Rsol'},\n",
      "                   'type': 'float'},\n",
      " 'tertiary Reff': {'meta': {'file': '.setup', 'units': 'Rsol'},\n",
      "                   'type': 'float'},\n",
      " 'tertiary Teff': {'meta': {'file': '.setup', 'units': 'K'}, 'type': 'float'},\n",
      " 'tertiary mass': {'meta': {'file': '.setup', 'units': 'Msol'},\n",
      "                   'type': 'float'},\n",
      " 'tmax': {'meta': {'file': '.in'}, 'type': 'float'},\n",
      " 'wind inject radius': {'meta': {'file': '.in', 'units': 'au'},\n",
      "                        'type': 'float'},\n",
      " 'wind mass-loss rate': {'meta': {'file': '.in', 'units': 'Msol/yr'},\n",
      "                         'type': 'float'},\n",
      " 'wind polytropic index': {'meta': {'file': '.setup'}, 'type': 'float'},\n",
      " 'wind temperature': {'meta': {'file': '.in', 'units': 'K'}, 'type': 'float'},\n",
      " 'wind_sh_spacing': {'meta': {'file': '.in'}, 'type': 'float'}}\n"
     ]
    }
   ],
   "source": [
    "import os\n",
    "from pprint import pprint\n",
    "from read_csv import *\n",
    "\n",
    "# grab mappings list from the csv file, which should be in the same directory as the script\n",
    "DIR_NAME = os.getcwd()\n",
    "FILE_NAME = \"metadata.csv\"\n",
    "FILE_PATH = os.path.join(DIR_NAME, FILE_NAME)\n",
    "data, header = read_csv(FILE_PATH)\n",
    "\n",
    "# create the dictionnary of mappings\n",
    "mappings = create_mapping(data,header)\n",
    "pprint(mappings)"
   ]
  },
  {
   "cell_type": "markdown",
   "metadata": {},
   "source": [
    "Add other settings to the index parameters"
   ]
  },
  {
   "cell_type": "code",
   "execution_count": null,
   "metadata": {},
   "outputs": [],
   "source": [
    "'''\n",
    "\"settings\" is technically not needed if we are working on a simple local host, but can be changed to optimise search performance on a database that is hosted on a cluster and searched by multiple users.\n",
    "\"mappings\" is required if you wish to explicitly map fields to specific values\n",
    "'''\n",
    "\n",
    "index_definition = {\n",
    "    \"settings\": {  \n",
    "        \"number_of_shards\": 1,\n",
    "    },\n",
    "    \"mappings\": {\n",
    "        \"properties\": mappings\n",
    "    }\n",
    "}"
   ]
  },
  {
   "cell_type": "markdown",
   "metadata": {},
   "source": [
    "Create the index using the parameters set above."
   ]
  },
  {
   "cell_type": "code",
   "execution_count": null,
   "metadata": {},
   "outputs": [],
   "source": [
    "''' For now we use a test index, but the name of the index should be changed later on'''\n",
    "\n",
    "client.indices.create(index=\"test_index\", body=index_definition)\n"
   ]
  },
  {
   "cell_type": "markdown",
   "metadata": {},
   "source": [
    "# Kibana\n",
    "\n",
    "Once the index is created in elasticsearch, in order to view it in Kibana, go to **Management** and on left menu bar, scroll down to the **Kibana** subsection, and click **Data Views**. From here, on the top right, click **Create data view** in order to integrate the new index into the Kibana interface. This will allow you to view how kibana interprets the index you have created."
   ]
  },
  {
   "cell_type": "markdown",
   "metadata": {},
   "source": [
    "### Load information from .setup and .in file\n",
    "\n",
    "\n"
   ]
  },
  {
   "cell_type": "code",
   "execution_count": null,
   "metadata": {},
   "outputs": [],
   "source": [
    "def LoadSetupData(dir: str, prefix: str,index_definition) -> Dict[str, Any]:\n",
    "    \"\"\" Load the prefix.in and prefix.setup files to get general information about the phantom model\n",
    "\n",
    "    Args:\n",
    "        dir (str): directory of the simulation\n",
    "        prefix (str): prefix used for the files\n",
    "\n",
    "    Returns:\n",
    "        Dict[str, Any]: a dictionary containing the info from the setup files\n",
    "        (!! check units, they are not all in SI or cgs)\n",
    "    \"\"\"\n",
    "\n",
    "    # load the prefix.in & prefix.setup file\n",
    "    setup = {}\n",
    "    try:\n",
    "        with open(os.path.join(dir,'%s.setup'%prefix), 'r') as f:\n",
    "            lines = f.readlines()\n",
    "            for string in lines:\n",
    "                line = string.split()\n",
    "                if len(line) != 0:\n",
    "                    if line[0] != '#':\n",
    "                        stringName = line[0]\n",
    "\n",
    "                        # Names that have to be changed\n",
    "                        # Floats\n",
    "                        if stringName == 'primary_mass': stringName = 'primary mass'\n",
    "                        elif stringName == 'primary_racc': stringName = 'primary Racc'\n",
    "                        elif stringName == 'primary_Reff': stringName = 'primary Reff'\n",
    "                        elif stringName == 'primary_Teff': stringName = 'primary Teff'\n",
    "                        elif stringName == 'secondary_mass': stringName = 'secondary mass'\n",
    "                        elif stringName == 'secondary_racc': stringName = 'secondary Racc'\n",
    "                        elif stringName == 'secondary_Reff': stringName = 'secondary Reff'\n",
    "                        elif stringName == 'secondary_Teff': stringName = 'secondary Teff'\n",
    "                        elif stringName == 'semi_major_axis': stringName = 'semi-major axis'\n",
    "                        elif stringName == 'wind_gamma' or stringName == \"temp_exponent\": stringName = 'wind polytropic index'\n",
    "                        # # For triples\n",
    "                        # elif stringName == 'secondary_mass': stringName = 'massComp_ini'\n",
    "                        # elif stringName == 'binary2_a' : stringName = 'sma_in_ini'\n",
    "                        # elif stringName == 'binary2_e' : stringName = 'ecc_in'\n",
    "                        # elif stringName == 'secondary_racc': stringName = 'rAccrComp'\n",
    "                        # elif stringName == 'accr2b' : stringName = 'rAccrComp_in'\n",
    "                        # elif stringName == 'racc2b' : stringName = 'rAccrComp_in'\n",
    "                        # if name is in our index dictionary, and it has type float, save it as a float\n",
    "                        if (stringName in index_definition[\"mappings\"][\"properties\"]) and (index_definition[\"mappings\"][\"properties\"][stringName]['type']=='float'):\n",
    "                            setup[stringName] = float(line[2])\n",
    "                        elif (stringName in index_definition[\"mappings\"][\"properties\"]) and (index_definition[\"mappings\"][\"properties\"][stringName]['type']=='integer'):\n",
    "                            setup[stringName] = int(line[2])\n",
    "                        elif (stringName in index_definition[\"mappings\"][\"properties\"]) and (index_definition[\"mappings\"][\"properties\"][stringName]['type']=='string'):\n",
    "                            setup[stringName] = str(line[2])\n",
    "\n",
    "                        # # For triples\n",
    "                        # if stringName == 'q2':\n",
    "                        #     stringName = 'massComp_in_ini'\n",
    "                        #     if stringName in index_definition:\n",
    "                        #         setup[stringName] = float(line[2])*setup['primary mass']\n",
    "\n",
    "                        # Boolean\n",
    "                        if stringName == 'icompanion_star':\n",
    "                            stringName = 'single_star'\n",
    "                            if int(line[2]) == 0: setup[stringName] = True\n",
    "                            else: setup[stringName] = False\n",
    "                            stringName = 'triple_star'\n",
    "                            if int(line[2]) == 2: setup[stringName] = True\n",
    "                            else: setup[stringName] = False\n",
    "\n",
    "    except FileNotFoundError:\n",
    "        print('')\n",
    "        print(\" ERROR: No %s.setup file found!\"%prefix)\n",
    "        print('')\n",
    "        exit()\n",
    "\n",
    "    try:\n",
    "        with open(os.path.join(dir,'%s.in'%prefix), 'r') as f:\n",
    "            lines = f.readlines()\n",
    "            for string in lines:\n",
    "                line = string.split()\n",
    "                if len(line) != 0:\n",
    "                    if line[0] != '#':\n",
    "                        stringName = line[0]\n",
    "\n",
    "                        # Strings\n",
    "                        # if stringName == 'logfile': setup[stringName] = str(line[2])\n",
    "                        # elif stringName == 'dumpfile': setup[stringName] = str(line[2])\n",
    "                        # elif stringName == 'twallmax': setup[stringName] = str(line[2])\n",
    "                        # elif stringName == 'dtwallmax': setup[stringName] = str(line[2])\n",
    "\n",
    "                        # Floats\n",
    "                        # else:\n",
    "\n",
    "                        if stringName == 'wind_mass_rate': stringName = 'wind mass rate'\n",
    "                        elif stringName == 'wind_velocity': stringName = 'init wind velocity'\n",
    "                        elif stringName == 'wind_inject_radius': stringName = 'wind inject radius'\n",
    "                        elif stringName == 'wind_temperature': stringName = 'wind temperature'\n",
    "                        elif stringName == 'mu': stringName = 'mean molecular weight'\n",
    "                        elif stringName == 'ieos': stringName = 'equation of state'\n",
    "                        elif stringName == 'outer_boundary': stringName = 'outer boundary'\n",
    "                        # not sure what this is\n",
    "                        if line[2]=='F': line[2] = 0\n",
    "                        \n",
    "                        if (stringName in index_definition[\"mappings\"][\"properties\"]) and (index_definition[\"mappings\"][\"properties\"][stringName]['type']=='float'):\n",
    "                            setup[stringName] = float(line[2])\n",
    "                        elif (stringName in index_definition[\"mappings\"][\"properties\"]) and (index_definition[\"mappings\"][\"properties\"][stringName]['type']=='integer'):\n",
    "                            setup[stringName] = int(line[2])\n",
    "                        elif (stringName in index_definition[\"mappings\"][\"properties\"]) and (index_definition[\"mappings\"][\"properties\"][stringName]['type']=='string'):\n",
    "                            setup[stringName] = str(line[2])\n",
    "    except FileNotFoundError:\n",
    "        print('')\n",
    "        print(\" ERROR: No %s.in file found!\"%prefix)\n",
    "        print('')\n",
    "        exit()\n",
    "\n",
    "    return setup\n"
   ]
  },
  {
   "cell_type": "code",
   "execution_count": null,
   "metadata": {},
   "outputs": [],
   "source": [
    "#To add 1 model\n",
    "Dir = \"/lhome/jolienm/Documents/TierModels/finalModelsHIcooling/v10e00\"\n",
    "prefix = \"wind\"\n",
    "testData = LoadSetupData(Dir,prefix,index_definition)\n",
    "client.index(index='test_index', body=testData)\n",
    "del testData"
   ]
  },
  {
   "cell_type": "code",
   "execution_count": null,
   "metadata": {},
   "outputs": [],
   "source": [
    "#To add multiple models\n",
    "base_command = {\n",
    "    \"_index\": 'test_index',\n",
    "    \"_op_type\": \"index\"\n",
    "}\n",
    "operations = []\n",
    "models = ['v10e00','v20e00','v05e00']\n",
    "prefix = \"wind\"\n",
    "for model in models:\n",
    "    Dir = '/lhome/jolienm/Documents/TierModels/finalModelsHIcooling/'+str(model)\n",
    "    modelData = LoadSetupData(Dir,prefix,index_definition)\n",
    "    operations.append((base_command | {\"_source\": modelData}))\n",
    "    del modelData\n",
    "print(operations)\n",
    "helpers.bulk(client, operations, refresh=True)\n",
    "del operations"
   ]
  },
  {
   "cell_type": "markdown",
   "metadata": {},
   "source": [
    "### Now look into Dashboards: Analytics - Dashboards to visualise data\n",
    "Documentation: https://www.elastic.co/guide/en/kibana/current/create-a-dashboard-of-panels-with-web-server-data.html\n",
    "\n"
   ]
  },
  {
   "cell_type": "markdown",
   "metadata": {},
   "source": []
  }
 ],
 "metadata": {
  "kernelspec": {
   "display_name": "Python 3",
   "language": "python",
   "name": "python3"
  },
  "language_info": {
   "codemirror_mode": {
    "name": "ipython",
    "version": 3
   },
   "file_extension": ".py",
   "mimetype": "text/x-python",
   "name": "python",
   "nbconvert_exporter": "python",
   "pygments_lexer": "ipython3",
   "version": "3.12.0"
  },
  "orig_nbformat": 4
 },
 "nbformat": 4,
 "nbformat_minor": 2
}
