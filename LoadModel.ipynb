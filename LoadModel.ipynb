{
 "cells": [
  {
   "cell_type": "code",
   "execution_count": null,
   "metadata": {},
   "outputs": [],
   "source": [
    "from dotenv import load_dotenv\n",
    "import os\n",
    "from elasticsearch import helpers  # For bulk Data Uploading\n",
    "from elasticsearch import Elasticsearch  # Base function for interacting with Elasticsearch\n",
    "\n",
    "load_dotenv()\n",
    "client = Elasticsearch(\"http://localhost:9200/\", api_key=os.getenv('apikey'))\n",
    "\n",
    "#test client\n",
    "print(client.info())"
   ]
  },
  {
   "cell_type": "markdown",
   "metadata": {},
   "source": [
    "### Creating the dictionnaries containing all the mappings"
   ]
  },
  {
   "cell_type": "markdown",
   "metadata": {},
   "source": [
    "We read the mappings list from the metadata.csv file, which is generated externally from the shared excel file, and the list is then transformed into a dictionnary of mappings with the proper formatting."
   ]
  },
  {
   "cell_type": "code",
   "execution_count": 1,
   "metadata": {},
   "outputs": [
    {
     "name": "stdout",
     "output_type": "stream",
     "text": [
      "{'Publication/reference': {'type': 'keyword'},\n",
      " 'Tfloor': {'meta': {'file': '.in'}, 'type': 'float'},\n",
      " 'alpha_rad': {'meta': {'file': '.in'}, 'type': 'float'},\n",
      " 'code hash': {'meta': {'file': 'header.txt'}, 'type': 'keyword'},\n",
      " 'dtmax': {'meta': {'file': '.in'}, 'type': 'float'},\n",
      " 'eccentricity': {'meta': {'file': '.setup'}, 'type': 'float'},\n",
      " 'equation of state': {'meta': {'file': '.in'}, 'type': 'integer'},\n",
      " 'excitation_HI': {'meta': {'file': '.in'}, 'type': 'integer'},\n",
      " 'f_acc': {'meta': {'file': '.in'}, 'type': 'float'},\n",
      " 'icompanion_star': {'meta': {'file': '.setup'}, 'type': 'integer'},\n",
      " 'icool_method': {'meta': {'file': '.in'}, 'type': 'integer'},\n",
      " 'icooling': {'meta': {'file': '.in'}, 'type': 'integer'},\n",
      " 'idust_opacity': {'meta': {'file': '.in'}, 'type': 'integer'},\n",
      " 'iget_tdust': {'meta': {'file': '.in'}, 'type': 'integer'},\n",
      " 'init wind velocity': {'meta': {'file': '.in', 'units': 'km/s'},\n",
      "                        'type': 'float'},\n",
      " 'isink_radiation': {'meta': {'file': '.in'}, 'type': 'integer'},\n",
      " 'iwind_res': {'meta': {'file': '.in'}, 'type': 'integer'},\n",
      " 'mean molecular weight': {'meta': {'file': '.in'}, 'type': 'float'},\n",
      " 'nfulldump': {'meta': {'file': '.in'}, 'type': 'integer'},\n",
      " 'outer boundary': {'meta': {'file': '.in', 'units': 'au'}, 'type': 'float'},\n",
      " 'particle mass': {'meta': {'file': 'header.txt', 'units': 'Msol'},\n",
      "                   'type': 'float'},\n",
      " 'path to folder': {'type': 'keyword'},\n",
      " 'primary Racc': {'meta': {'file': '.setup', 'units': 'Rsol'}, 'type': 'float'},\n",
      " 'primary Reff': {'meta': {'file': '.setup', 'units': 'Rsol'}, 'type': 'float'},\n",
      " 'primary Teff': {'meta': {'file': '.setup', 'units': 'K'}, 'type': 'float'},\n",
      " 'primary mass': {'meta': {'file': '.setup', 'units': 'Msol'}, 'type': 'float'},\n",
      " 'resolution (current)': {'meta': {'file': 'header.txt'}, 'type': 'integer'},\n",
      " 'secondary Racc': {'meta': {'file': '.setup', 'units': 'Rsol'},\n",
      "                    'type': 'float'},\n",
      " 'secondary Reff': {'meta': {'file': '.setup', 'units': 'Rsol'},\n",
      "                    'type': 'float'},\n",
      " 'secondary Teff': {'meta': {'file': '.setup', 'units': 'K'}, 'type': 'float'},\n",
      " 'secondary mass': {'meta': {'file': '.setup', 'units': 'Msol'},\n",
      "                    'type': 'float'},\n",
      " 'semi-major axis': {'meta': {'file': '.setup', 'units': 'au'},\n",
      "                     'type': 'float'},\n",
      " 'simulation time': {'meta': {'file': '.ev', 'units': 's'}, 'type': 'float'},\n",
      " 'subst': {'meta': {'file': '.setup'}, 'type': 'interger'},\n",
      " 'term wind velocity': {'meta': {'file': 'wind_1D.dat', 'units': 'km/s'},\n",
      "                        'type': 'float'},\n",
      " 'tertiary Racc': {'meta': {'file': '.setup', 'units': 'Rsol'},\n",
      "                   'type': 'float'},\n",
      " 'tertiary Reff': {'meta': {'file': '.setup', 'units': 'Rsol'},\n",
      "                   'type': 'float'},\n",
      " 'tertiary Teff': {'meta': {'file': '.setup', 'units': 'K'}, 'type': 'float'},\n",
      " 'tertiary mass': {'meta': {'file': '.setup', 'units': 'Msol'},\n",
      "                   'type': 'float'},\n",
      " 'tmax': {'meta': {'file': '.in'}, 'type': 'float'},\n",
      " 'wind inject radius': {'meta': {'file': '.in', 'units': 'au'},\n",
      "                        'type': 'float'},\n",
      " 'wind mass-loss rate': {'meta': {'file': '.in', 'units': 'Msol/yr'},\n",
      "                         'type': 'float'},\n",
      " 'wind polytropic index': {'meta': {'file': '.setup'}, 'type': 'float'},\n",
      " 'wind temperature': {'meta': {'file': '.in', 'units': 'K'}, 'type': 'float'},\n",
      " 'wind_sh_spacing': {'meta': {'file': '.in'}, 'type': 'float'}}\n"
     ]
    }
   ],
   "source": [
    "import os\n",
    "from pprint import pprint\n",
    "from read_csv import *\n",
    "\n",
    "# grab mappings list from the csv file, which should be in the same directory as the script\n",
    "DIR_NAME = os.getcwd()\n",
    "FILE_NAME = \"metadata.csv\"\n",
    "FILE_PATH = os.path.join(DIR_NAME, FILE_NAME)\n",
    "data, header = read_csv(FILE_PATH)\n",
    "\n",
    "# create the dictionnary of mappings\n",
    "mappings = create_mapping(data, header)\n",
    "pprint(mappings)"
   ]
  },
  {
   "cell_type": "markdown",
   "metadata": {},
   "source": [
    "Add other settings to the index parameters"
   ]
  },
  {
   "cell_type": "code",
   "execution_count": 2,
   "metadata": {},
   "outputs": [],
   "source": [
    "\"\"\"\n",
    "\"settings\" is technically not needed if we are working on a simple local host, but can be changed to optimise search performance on a database that is hosted on a cluster and searched by multiple users.\n",
    "\"mappings\" is required if you wish to explicitly map fields to specific values\n",
    "\"\"\"\n",
    "\n",
    "index_definition = {\n",
    "    \"settings\": {\n",
    "        \"number_of_shards\": 1,\n",
    "    },\n",
    "    \"mappings\": {\"properties\": mappings},\n",
    "}"
   ]
  },
  {
   "cell_type": "markdown",
   "metadata": {},
   "source": [
    "Create the index using the parameters set above."
   ]
  },
  {
   "cell_type": "code",
   "execution_count": 3,
   "metadata": {},
   "outputs": [
    {
     "ename": "NameError",
     "evalue": "name 'client' is not defined",
     "output_type": "error",
     "traceback": [
      "\u001b[0;31m---------------------------------------------------------------------------\u001b[0m",
      "\u001b[0;31mNameError\u001b[0m                                 Traceback (most recent call last)",
      "Cell \u001b[0;32mIn[3], line 3\u001b[0m\n\u001b[1;32m      1\u001b[0m \u001b[38;5;124;03m\"\"\" For now we use a test index, but the name of the index should be changed later on\"\"\"\u001b[39;00m\n\u001b[0;32m----> 3\u001b[0m \u001b[43mclient\u001b[49m\u001b[38;5;241m.\u001b[39mindices\u001b[38;5;241m.\u001b[39mcreate(index\u001b[38;5;241m=\u001b[39m\u001b[38;5;124m\"\u001b[39m\u001b[38;5;124mtest_index\u001b[39m\u001b[38;5;124m\"\u001b[39m, body\u001b[38;5;241m=\u001b[39mindex_definition)\n",
      "\u001b[0;31mNameError\u001b[0m: name 'client' is not defined"
     ]
    }
   ],
   "source": [
    "\"\"\" For now we use a test index, but the name of the index should be changed later on\"\"\"\n",
    "\n",
    "client.indices.create(index=\"test_index\", body=index_definition)"
   ]
  },
  {
   "cell_type": "markdown",
   "metadata": {},
   "source": [
    "# Kibana\n",
    "\n",
    "Once the index is created in elasticsearch, in order to view it in Kibana, go to **Management** and on left menu bar, scroll down to the **Kibana** subsection, and click **Data Views**. From here, on the top right, click **Create data view** in order to integrate the new index into the Kibana interface. This will allow you to view how kibana interprets the index you have created."
   ]
  },
  {
   "cell_type": "markdown",
   "metadata": {},
   "source": [
    "### Load information from .setup and .in file\n",
    "\n",
    "\n"
   ]
  },
  {
   "cell_type": "code",
   "execution_count": null,
   "metadata": {},
   "outputs": [],
   "source": [
    "from pprint import pprint\n",
    "from load_ini import *\n",
    "\n",
    "# Define directories and file names here\n",
    "DIR = \"/Users/camille/Documents/runs/phantom/wind\"  # Careful, this is a local path - change it to your own\n",
    "PREFIX = \"wind\"\n",
    "MODELS = [\"v10e00\", \"v20e00\", \"v05e00\"]"
   ]
  },
  {
   "cell_type": "code",
   "execution_count": 9,
   "metadata": {},
   "outputs": [
    {
     "name": "stdout",
     "output_type": "stream",
     "text": [
      "\n",
      " ERROR: No wind.setup file found!\n",
      "\n"
     ]
    },
    {
     "ename": "SystemExit",
     "evalue": "",
     "output_type": "error",
     "traceback": [
      "An exception has occurred, use %tb to see the full traceback.\n",
      "\u001b[0;31mSystemExit\u001b[0m\n"
     ]
    },
    {
     "name": "stderr",
     "output_type": "stream",
     "text": [
      "/Users/camille/Library/Python/3.12/lib/python/site-packages/IPython/core/interactiveshell.py:3585: UserWarning: To exit: use 'exit', 'quit', or Ctrl-D.\n",
      "  warn(\"To exit: use 'exit', 'quit', or Ctrl-D.\", stacklevel=1)\n"
     ]
    }
   ],
   "source": [
    "# Add 1 model\n",
    "testData = LoadSetupData(os.path.join(DIR,MODELS[0]),PREFIX,index_definition)\n",
    "client.index(index='test_index', body=testData)\n",
    "del testData"
   ]
  },
  {
   "cell_type": "code",
   "execution_count": 7,
   "metadata": {},
   "outputs": [
    {
     "name": "stdout",
     "output_type": "stream",
     "text": [
      "\n",
      " ERROR: No wind.setup file found!\n",
      "\n"
     ]
    },
    {
     "ename": "SystemExit",
     "evalue": "",
     "output_type": "error",
     "traceback": [
      "An exception has occurred, use %tb to see the full traceback.\n",
      "\u001b[0;31mSystemExit\u001b[0m\n"
     ]
    },
    {
     "name": "stderr",
     "output_type": "stream",
     "text": [
      "/Users/camille/Library/Python/3.12/lib/python/site-packages/IPython/core/interactiveshell.py:3585: UserWarning: To exit: use 'exit', 'quit', or Ctrl-D.\n",
      "  warn(\"To exit: use 'exit', 'quit', or Ctrl-D.\", stacklevel=1)\n"
     ]
    }
   ],
   "source": [
    "# Add multiple models\n",
    "base_command = {\"_index\": \"test_index\", \"_op_type\": \"index\"}\n",
    "operations = []\n",
    "for model in MODELS:\n",
    "    modelData = LoadSetupData(os.path.join(DIR, model), PREFIX, index_definition)\n",
    "    operations.append((base_command | {\"_source\": modelData}))\n",
    "    del modelData\n",
    "print(operations)\n",
    "helpers.bulk(client, operations, refresh=True)\n",
    "del operations"
   ]
  },
  {
   "cell_type": "markdown",
   "metadata": {},
   "source": [
    "### Now look into Dashboards: Analytics - Dashboards to visualise data\n",
    "Documentation: https://www.elastic.co/guide/en/kibana/current/create-a-dashboard-of-panels-with-web-server-data.html\n",
    "\n"
   ]
  },
  {
   "cell_type": "markdown",
   "metadata": {},
   "source": []
  }
 ],
 "metadata": {
  "kernelspec": {
   "display_name": "Python 3",
   "language": "python",
   "name": "python3"
  },
  "language_info": {
   "codemirror_mode": {
    "name": "ipython",
    "version": 3
   },
   "file_extension": ".py",
   "mimetype": "text/x-python",
   "name": "python",
   "nbconvert_exporter": "python",
   "pygments_lexer": "ipython3",
   "version": "3.12.0"
  },
  "orig_nbformat": 4
 },
 "nbformat": 4,
 "nbformat_minor": 2
}
