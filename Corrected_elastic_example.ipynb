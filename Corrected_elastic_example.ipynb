{
 "cells": [
  {
   "cell_type": "markdown",
   "id": "9b79d4dae9f531c4",
   "metadata": {},
   "source": [
    "# Import and Client Connect"
   ]
  },
  {
   "cell_type": "code",
   "execution_count": null,
   "id": "initial_id",
   "metadata": {
    "ExecuteTime": {
     "end_time": "2024-10-25T12:38:58.462826Z",
     "start_time": "2024-10-25T12:38:58.378210Z"
    },
    "collapsed": true
   },
   "outputs": [],
   "source": [
    "from dotenv import load_dotenv\n",
    "import os\n",
    "from elasticsearch import helpers  # For bulk Data Uploading\n",
    "from elasticsearch import Elasticsearch  # Base function for interacting with Elasticsearch\n",
    "\n",
    "load_dotenv()\n",
    "client = Elasticsearch(\"http://localhost:9200/\", api_key=os.getenv('apikey'))\n",
    "\n",
    "#test client\n",
    "print(client.info())"
   ]
  },
  {
   "cell_type": "markdown",
   "id": "b4c791bd74c6ac5e",
   "metadata": {},
   "source": [
    "# Elasticsearch Terminology\n",
    "\n",
    "https://www.elastic.co/guide/en/elastic-stack-glossary/current/terms.html\n",
    "\n",
    "## Index\n",
    "\n",
    "A data space to store documents with similar characteristics\n",
    "\n",
    "## Document and Fields\n",
    "\n",
    "A **document** is a single data entry, think row in SQL, which can also be thought of as a collection of **fields**. \n",
    "\n",
    "**Fields** are like columns in SQL, they represent the actual values that define a document. As elasticsearch is not a structured database, **fields** are a key-value pair. \n",
    "\n",
    "Translating this into python terminology, that would mean that each **document** is a collection of key-value pairs, aka a dictionary."
   ]
  },
  {
   "cell_type": "markdown",
   "id": "63e7316fb90cf8f0",
   "metadata": {},
   "source": [
    "# Definition of an index\n",
    "\n",
    "Defining an index allows you to set the settings for a given index, and pre-determine the data types that specific **fields** have by providing a mapping. If these are not set, elasticsearch will set default values for settings, and attempt to auto-interpret what the data type should be the first time it encounters a new **field**.\n",
    "\n",
    "Probably most important keys are: \n",
    "- [**For the future**] settings: https://www.elastic.co/guide/en/elasticsearch/reference/8.15/index-modules.html, potentially important for the future are:\n",
    "    - A **shard** is a component that holds the data and allows for the indexing and searching operations. These number of primary **shards** can only be set at index creation \n",
    "    - Replica **shards* provide data redundancy and facilitate extra searcher in case of multiple search requests on data in a given shard. These can be set dynamically not just at index creation. Elasticsearch balances these across nodes in a cluster\n",
    "- mapping https://www.elastic.co/guide/en/elasticsearch/reference/current/mapping.html\n",
    "    - properties contains the actual fields of the documents: https://www.elastic.co/guide/en/elasticsearch/reference/current/explicit-mapping.html\n",
    "        - Data types of **fields** can be found here: https://www.elastic.co/guide/en/elasticsearch/reference/current/mapping-types.html\n",
    "        - **Fields** can be objects, or nested to contain their own fields: https://www.elastic.co/guide/en/elasticsearch/reference/current/properties.html\n",
    "        - Some metadata can be added to fields, such as units: https://www.elastic.co/guide/en/elasticsearch/reference/current/mapping-field-meta.html\n",
    "        - For more mapping parameters: https://www.elastic.co/guide/en/elasticsearch/reference/current/mapping-params.html\n",
    "\n",
    "Replica shards not only provide data redundancy but also facilitate extra searches in case of multiple search requests. These shards can be set dynamically, and Elasticsearch will balance them across nodes in a cluster."
   ]
  },
  {
   "cell_type": "markdown",
   "id": "b32ce7b7d2fb2f21",
   "metadata": {},
   "source": [
    "# Python definition of an index\n",
    "\n",
    "Because of the simple interface provided by the elasticsearch python package, we can define the mapping using a dictionary, and this will then be translated into a JSON for us.\n",
    "Here is an example:\n",
    "\n",
    "\n"
   ]
  },
  {
   "cell_type": "code",
   "execution_count": null,
   "id": "58649d4469e22d86",
   "metadata": {
    "ExecuteTime": {
     "end_time": "2024-10-25T12:39:00.637592Z",
     "start_time": "2024-10-25T12:39:00.633970Z"
    }
   },
   "outputs": [],
   "source": [
    "'''\n",
    "\"settings\" is technically not needed if we are working on a simple local host, but can be changed to optimise search performance on a database that is hosted on a cluster and searched by multiple users.\n",
    "\"mappings\" is required if you wish to explicitly map fields to specific values\n",
    "'''\n",
    "\n",
    "index_definition = {\n",
    "    \"settings\": {  \n",
    "        \"number_of_shards\": 1,\n",
    "    },\n",
    "    \"mappings\": {\n",
    "        \"properties\": {\n",
    "            \"git hash\": {\"type\": \"keyword\"},\n",
    "            \"resolution\": {\"type\": \"integer\"},\n",
    "            \"time\": {\n",
    "                \"type\": \"float\",\n",
    "                \"meta\": {\n",
    "                    \"unit\": \"s\",\n",
    "                }\n",
    "            },\n",
    "            \"path to image\": {\"type\": \"keyword\"},\n",
    "            \"eccentricity\": {\"type\": \"float\"},\n",
    "            \"semi-major axis\": {\"type\": \"float\"},\n",
    "            \"primary mass\": {\"type\": \"float\"},\n",
    "            \"primary racc\": {\"type\": \"float\"},\n",
    "            \"primary Teff\": {\n",
    "                \"type\": \"float\",\n",
    "                \"meta\": {\n",
    "                    \"unit\": \"K\",\n",
    "                }\n",
    "            },\n",
    "            \"primary Reff\": {\n",
    "                \"type\": \"float\",\n",
    "                \"meta\": {\n",
    "                    \"unit\": \"parsec\",\n",
    "                }\n",
    "            },\n",
    "            \"secondary mass\": {\n",
    "                \"type\": \"float\",\n",
    "                \"meta\": {\n",
    "                    \"unit\": \"g\",\n",
    "                }\n",
    "            },\n",
    "            \"secondary racc\": {\"type\": \"float\"},\n",
    "            \"secondary Teff\": {\n",
    "                \"type\": \"float\",\n",
    "                \"meta\": {\n",
    "                    \"unit\": \"K\",\n",
    "                }\n",
    "            },\n",
    "            \"secondary Reff\": {\n",
    "                \"type\": \"float\",\n",
    "                \"meta\": {\n",
    "                    \"unit\": \"parsec\",\n",
    "                }\n",
    "            },\n",
    "            \"adiabatic index\": {\"type\": \"float\"},\n",
    "            \"mean molecular weight\": {\"type\": \"float\"},\n",
    "            \"icooling\": {\"type\": \"integer\"}\n",
    "        }\n",
    "    }\n",
    "}"
   ]
  },
  {
   "cell_type": "markdown",
   "id": "5c5580ed7d8406d8",
   "metadata": {},
   "source": [
    "# Creating an Index\n",
    "\n",
    "Creating an index is simple. The most important variables are likely to be:\n",
    "- index: [str]: String of the index name to be created, must be lowercase.\n",
    "- body: [dict]: Dictionary containing settings and mappings.\n",
    "- settings: [Mapping]: Mapping data type containing only the settings for the index to be created (This is listed in the documentation for the package, but does not currently work for me, instead I used body)\n",
    "- mappings: [Mapping]: Mapping data type containing only the mappings for the index to be created (This is listed in the documentation for the package, but does not currently work for me, instead I used body)"
   ]
  },
  {
   "cell_type": "code",
   "execution_count": null,
   "id": "aad02a65517fe88f",
   "metadata": {
    "ExecuteTime": {
     "end_time": "2024-10-25T12:39:13.308252Z",
     "start_time": "2024-10-25T12:39:13.252937Z"
    }
   },
   "outputs": [],
   "source": [
    "client.indices.create(index=\"trial_index\", body=index_definition)\n",
    "# You can delete an index with \n",
    "#client.indices.delete(index=\"trial_index\", ignore_unavailable=True)"
   ]
  },
  {
   "cell_type": "markdown",
   "id": "183b3acaf7e3b448",
   "metadata": {},
   "source": [
    "# Kibana\n",
    "\n",
    "Once the index is created in elasticsearch, in order to view it in Kibana, go to **Management** and on left menu bar, scroll down to the **Kibana** subsection, and click **Data Views**. From here, on the top right, click **Create data view** in order to integrate the new index into the Kibana interface. This will allow you to view how kibana interprets the index you have created."
   ]
  },
  {
   "cell_type": "markdown",
   "id": "3118ec4646f44313",
   "metadata": {},
   "source": [
    "# Adding documents\n",
    "\n",
    "To add documents to an index, it's a simple as passing a list of dictionaries to client.bulk(), or a single dictionary to the client.index() function. Adding \"refresh=True\" to either function will make the new **document(s)** searchable immediately, else users will have to wait for the shard holding the data to refresh in its normal cycle."
   ]
  },
  {
   "cell_type": "code",
   "execution_count": null,
   "id": "c824628d46c5ff1",
   "metadata": {
    "ExecuteTime": {
     "end_time": "2024-10-25T12:39:16.967990Z",
     "start_time": "2024-10-25T12:39:16.964395Z"
    }
   },
   "outputs": [],
   "source": [
    "# Code block to define function to randomly generate data\n",
    "import random\n",
    "\n",
    "def gen_data(image_number: int):\n",
    "    return {\n",
    "        \"git hash\": \"8743b52063cd84097a65d1633f5c74f5\",\n",
    "        \"resolution\": random.choice([64, 128, 256, 512]),\n",
    "        \"time\": random.uniform(2000.0, 50000.0),\n",
    "        \"path to image\": f\"/path/to/image_{image_number}.png\",\n",
    "        \"eccentricity\": random.uniform(0.0, 1.0),\n",
    "        \"semi-major axis\": random.uniform(1.0, 10.0),\n",
    "        \"primary mass\": random.uniform(1000.0, 100000.0),\n",
    "        \"primary racc\": random.uniform(1.0, 10.0),\n",
    "        \"primary Teff\": random.uniform(100.0, 1000.0),\n",
    "        \"primary Reff\": random.uniform(1.0, 5.0),\n",
    "        \"secondary mass\": random.uniform(10.0, 1000.0),\n",
    "        \"secondary racc\": random.uniform(0.0, 1.0),\n",
    "        \"secondary Teff\": random.uniform(1.0, 100.0),\n",
    "        \"secondary Reff\": random.uniform(0.0, 1.0),\n",
    "        \"adiabatic index\": random.uniform(1.0, 10.0),\n",
    "        \"mean molecular weight\": random.uniform(1.0, 50.0),\n",
    "        \"icooling\": int(random.uniform(20.0, 50.0)),\n",
    "    }"
   ]
  },
  {
   "cell_type": "markdown",
   "id": "8195c02023e98a38",
   "metadata": {},
   "source": [
    "# Single Document"
   ]
  },
  {
   "cell_type": "code",
   "execution_count": null,
   "id": "ef7f4f78bffb9f15",
   "metadata": {
    "ExecuteTime": {
     "end_time": "2024-10-25T12:39:19.889393Z",
     "start_time": "2024-10-25T12:39:19.876802Z"
    }
   },
   "outputs": [],
   "source": [
    "data = gen_data(image_number=100)\n",
    "\n",
    "client.index(index='trial_index', body=data)\n",
    "del data"
   ]
  },
  {
   "cell_type": "markdown",
   "id": "970591ec07c4bf2d",
   "metadata": {},
   "source": [
    "# Bulk / Multiple Documents\n",
    "\n",
    "In order to load multiple items in bulk, we take advantage of helpers.bulk()\n",
    "\n",
    "To set this up, we have to supply the function helpers.bulk() with a list of dictionaries. Each dictionary, needs to have the index it belongs to, and the type of operation we are performing with it. In this case, we are doing **index** which adds a document to a specific index. We could also bulk delete or update, but that would then require setting the correct variables.\n",
    "\n",
    "For submitting a new Document, each dictionary needs to have at least the \"_index\" key, but here are some others that could be of interest:\n",
    "- \"_op_type\": Name of operation to perform in String format. \n",
    "    - 'index': Add new document to named index [default value]\n",
    "    - 'delete: Delete specific document (**requires '_id'**)\n",
    "    - 'update': Update specific document with the values found in \"_source\" (**requires '_id'**)\n",
    "- \"_index\": Name of index to add to in String format\n",
    "- \"_id\": ID of the document\n",
    "- \"_source\": Dictionary to be added to index as document, or parts of the document to be changed. (If not specified, then all non elasticsearch meta-data fields will be used as the \"_source\")"
   ]
  },
  {
   "cell_type": "code",
   "execution_count": null,
   "id": "18fd6a8e9a724159",
   "metadata": {
    "ExecuteTime": {
     "end_time": "2024-10-25T12:39:29.400219Z",
     "start_time": "2024-10-25T12:39:29.387124Z"
    }
   },
   "outputs": [],
   "source": [
    "base_command = {\n",
    "    \"_index\": 'trial_index',\n",
    "    \"_op_type\": \"index\"\n",
    "}\n",
    "operations = []\n",
    "for i in range(100):\n",
    "    data = gen_data(image_number=i)\n",
    "    operations.append((base_command | {\"_source\": data}))\n",
    "    del data\n",
    "print(operations)\n",
    "helpers.bulk(client, operations, refresh=True)\n",
    "del operations"
   ]
  },
  {
   "cell_type": "markdown",
   "id": "401b9c02f2aa0ed5",
   "metadata": {},
   "source": [
    "# Updating a document\n",
    "\n",
    "If you wish to update a single **document**, you can do so using the client.update() function. Not all fields have to be specified, it is okay to just list the fields to alter or add. For bulk updating, see above."
   ]
  },
  {
   "cell_type": "code",
   "execution_count": null,
   "id": "5e07082afa7be769",
   "metadata": {},
   "outputs": [],
   "source": [
    "data = gen_data(1)\n",
    "doc_id = \"<INSERT DOCUMENT ID TO UPDATE HERE>\"\n",
    "client.update(index='trial_index', id=doc_id, doc=data)"
   ]
  },
  {
   "cell_type": "markdown",
   "id": "2907dc961784729d",
   "metadata": {},
   "source": [
    "# Deleting an Index\n",
    "\n",
    "The following command will delete a named index, but will not remove the Kibana Data View, this has to be done manually in the Kibana interface."
   ]
  },
  {
   "cell_type": "code",
   "execution_count": null,
   "id": "946ad781a2b338b3",
   "metadata": {
    "ExecuteTime": {
     "end_time": "2024-10-25T12:39:09.671858Z",
     "start_time": "2024-10-25T12:39:09.652602Z"
    }
   },
   "outputs": [],
   "source": [
    "client.indices.delete(index='trial_index')"
   ]
  },
  {
   "cell_type": "markdown",
   "id": "84b9c92c",
   "metadata": {},
   "source": [
    "# Queries\n",
    "\n",
    "If you wanna search for something"
   ]
  },
  {
   "cell_type": "code",
   "execution_count": null,
   "id": "a8f57a5a",
   "metadata": {},
   "outputs": [],
   "source": [
    "def pretty_response(response):\n",
    "    if len(response[\"hits\"][\"hits\"]) == 0:\n",
    "        print(\"Your search returned no results.\")\n",
    "    else:\n",
    "        for hit in response[\"hits\"][\"hits\"]:\n",
    "            id = hit[\"_id\"]\n",
    "            git_hash = hit[\"_source\"][\"git hash\"]\n",
    "            time = hit[\"_source\"][\"time\"]\n",
    "            path_to_image = hit[\"_source\"][\"path to image\"]\n",
    "            eccentricity = hit[\"_source\"][\"eccentricity\"]\n",
    "            semimajor_axis = hit[\"_source\"][\"semi-major axis\"]\n",
    "            primarymass = hit[\"_source\"][\"primary mass\"]\n",
    "            pretty_output = f\"\\nID: {id}\\nGit hash: {git_hash}\\ntime: {time}\\n path to image: {path_to_image}\\neccentricity: {eccentricity}\\nsemi major axis: {semimajor_axis}\\nprimary mass: {primarymass}\"\n",
    "            print(pretty_output)\n"
   ]
  },
  {
   "cell_type": "code",
   "execution_count": null,
   "id": "d2be4f31",
   "metadata": {},
   "outputs": [],
   "source": [
    "\n",
    "#specific query\n",
    "response = client.search(\n",
    "    index=\"trial_index\",\n",
    "query={\"match\": {\"path to image\": {\"query\": \"/path/to/image_1.png\"}}}\n",
    ")\n",
    "pretty_response(response)\n",
    "\n"
   ]
  },
  {
   "cell_type": "code",
   "execution_count": null,
   "id": "8cb6440f",
   "metadata": {},
   "outputs": [],
   "source": [
    "\n",
    "# Query all\n",
    "response = client.search(\n",
    ")\n",
    "pretty_response(response)"
   ]
  }
 ],
 "metadata": {
  "kernelspec": {
   "display_name": "Python 3",
   "language": "python",
   "name": "python3"
  },
  "language_info": {
   "codemirror_mode": {
    "name": "ipython",
    "version": 3
   },
   "file_extension": ".py",
   "mimetype": "text/x-python",
   "name": "python",
   "nbconvert_exporter": "python",
   "pygments_lexer": "ipython3",
   "version": "3.12.7"
  }
 },
 "nbformat": 4,
 "nbformat_minor": 5
}
