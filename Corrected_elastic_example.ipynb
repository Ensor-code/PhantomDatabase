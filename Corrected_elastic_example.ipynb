{
 "cells": [
  {
   "cell_type": "markdown",
   "id": "9b79d4dae9f531c4",
   "metadata": {},
   "source": [
    "# Import and Client Connect"
   ]
  },
  {
   "cell_type": "code",
   "execution_count": 2,
   "id": "initial_id",
   "metadata": {
    "ExecuteTime": {
     "end_time": "2024-10-25T12:38:58.462826Z",
     "start_time": "2024-10-25T12:38:58.378210Z"
    },
    "collapsed": true
   },
   "outputs": [
    {
     "ename": "ConnectionError",
     "evalue": "Connection error caused by: ConnectionError(Connection error caused by: ProtocolError(('Connection aborted.', RemoteDisconnected('Remote end closed connection without response'))))",
     "output_type": "error",
     "traceback": [
      "\u001b[0;31m---------------------------------------------------------------------------\u001b[0m",
      "\u001b[0;31mRemoteDisconnected\u001b[0m                        Traceback (most recent call last)",
      "File \u001b[0;32m~/anaconda3/envs/database/lib/python3.12/site-packages/urllib3/connectionpool.py:789\u001b[0m, in \u001b[0;36mHTTPConnectionPool.urlopen\u001b[0;34m(self, method, url, body, headers, retries, redirect, assert_same_host, timeout, pool_timeout, release_conn, chunked, body_pos, preload_content, decode_content, **response_kw)\u001b[0m\n\u001b[1;32m    788\u001b[0m \u001b[38;5;66;03m# Make the request on the HTTPConnection object\u001b[39;00m\n\u001b[0;32m--> 789\u001b[0m response \u001b[38;5;241m=\u001b[39m \u001b[38;5;28;43mself\u001b[39;49m\u001b[38;5;241;43m.\u001b[39;49m\u001b[43m_make_request\u001b[49m\u001b[43m(\u001b[49m\n\u001b[1;32m    790\u001b[0m \u001b[43m    \u001b[49m\u001b[43mconn\u001b[49m\u001b[43m,\u001b[49m\n\u001b[1;32m    791\u001b[0m \u001b[43m    \u001b[49m\u001b[43mmethod\u001b[49m\u001b[43m,\u001b[49m\n\u001b[1;32m    792\u001b[0m \u001b[43m    \u001b[49m\u001b[43murl\u001b[49m\u001b[43m,\u001b[49m\n\u001b[1;32m    793\u001b[0m \u001b[43m    \u001b[49m\u001b[43mtimeout\u001b[49m\u001b[38;5;241;43m=\u001b[39;49m\u001b[43mtimeout_obj\u001b[49m\u001b[43m,\u001b[49m\n\u001b[1;32m    794\u001b[0m \u001b[43m    \u001b[49m\u001b[43mbody\u001b[49m\u001b[38;5;241;43m=\u001b[39;49m\u001b[43mbody\u001b[49m\u001b[43m,\u001b[49m\n\u001b[1;32m    795\u001b[0m \u001b[43m    \u001b[49m\u001b[43mheaders\u001b[49m\u001b[38;5;241;43m=\u001b[39;49m\u001b[43mheaders\u001b[49m\u001b[43m,\u001b[49m\n\u001b[1;32m    796\u001b[0m \u001b[43m    \u001b[49m\u001b[43mchunked\u001b[49m\u001b[38;5;241;43m=\u001b[39;49m\u001b[43mchunked\u001b[49m\u001b[43m,\u001b[49m\n\u001b[1;32m    797\u001b[0m \u001b[43m    \u001b[49m\u001b[43mretries\u001b[49m\u001b[38;5;241;43m=\u001b[39;49m\u001b[43mretries\u001b[49m\u001b[43m,\u001b[49m\n\u001b[1;32m    798\u001b[0m \u001b[43m    \u001b[49m\u001b[43mresponse_conn\u001b[49m\u001b[38;5;241;43m=\u001b[39;49m\u001b[43mresponse_conn\u001b[49m\u001b[43m,\u001b[49m\n\u001b[1;32m    799\u001b[0m \u001b[43m    \u001b[49m\u001b[43mpreload_content\u001b[49m\u001b[38;5;241;43m=\u001b[39;49m\u001b[43mpreload_content\u001b[49m\u001b[43m,\u001b[49m\n\u001b[1;32m    800\u001b[0m \u001b[43m    \u001b[49m\u001b[43mdecode_content\u001b[49m\u001b[38;5;241;43m=\u001b[39;49m\u001b[43mdecode_content\u001b[49m\u001b[43m,\u001b[49m\n\u001b[1;32m    801\u001b[0m \u001b[43m    \u001b[49m\u001b[38;5;241;43m*\u001b[39;49m\u001b[38;5;241;43m*\u001b[39;49m\u001b[43mresponse_kw\u001b[49m\u001b[43m,\u001b[49m\n\u001b[1;32m    802\u001b[0m \u001b[43m\u001b[49m\u001b[43m)\u001b[49m\n\u001b[1;32m    804\u001b[0m \u001b[38;5;66;03m# Everything went great!\u001b[39;00m\n",
      "File \u001b[0;32m~/anaconda3/envs/database/lib/python3.12/site-packages/urllib3/connectionpool.py:536\u001b[0m, in \u001b[0;36mHTTPConnectionPool._make_request\u001b[0;34m(self, conn, method, url, body, headers, retries, timeout, chunked, response_conn, preload_content, decode_content, enforce_content_length)\u001b[0m\n\u001b[1;32m    535\u001b[0m \u001b[38;5;28;01mtry\u001b[39;00m:\n\u001b[0;32m--> 536\u001b[0m     response \u001b[38;5;241m=\u001b[39m \u001b[43mconn\u001b[49m\u001b[38;5;241;43m.\u001b[39;49m\u001b[43mgetresponse\u001b[49m\u001b[43m(\u001b[49m\u001b[43m)\u001b[49m\n\u001b[1;32m    537\u001b[0m \u001b[38;5;28;01mexcept\u001b[39;00m (BaseSSLError, \u001b[38;5;167;01mOSError\u001b[39;00m) \u001b[38;5;28;01mas\u001b[39;00m e:\n",
      "File \u001b[0;32m~/anaconda3/envs/database/lib/python3.12/site-packages/urllib3/connection.py:507\u001b[0m, in \u001b[0;36mHTTPConnection.getresponse\u001b[0;34m(self)\u001b[0m\n\u001b[1;32m    506\u001b[0m \u001b[38;5;66;03m# Get the response from http.client.HTTPConnection\u001b[39;00m\n\u001b[0;32m--> 507\u001b[0m httplib_response \u001b[38;5;241m=\u001b[39m \u001b[38;5;28;43msuper\u001b[39;49m\u001b[43m(\u001b[49m\u001b[43m)\u001b[49m\u001b[38;5;241;43m.\u001b[39;49m\u001b[43mgetresponse\u001b[49m\u001b[43m(\u001b[49m\u001b[43m)\u001b[49m\n\u001b[1;32m    509\u001b[0m \u001b[38;5;28;01mtry\u001b[39;00m:\n",
      "File \u001b[0;32m~/anaconda3/envs/database/lib/python3.12/http/client.py:1428\u001b[0m, in \u001b[0;36mHTTPConnection.getresponse\u001b[0;34m(self)\u001b[0m\n\u001b[1;32m   1427\u001b[0m \u001b[38;5;28;01mtry\u001b[39;00m:\n\u001b[0;32m-> 1428\u001b[0m     \u001b[43mresponse\u001b[49m\u001b[38;5;241;43m.\u001b[39;49m\u001b[43mbegin\u001b[49m\u001b[43m(\u001b[49m\u001b[43m)\u001b[49m\n\u001b[1;32m   1429\u001b[0m \u001b[38;5;28;01mexcept\u001b[39;00m \u001b[38;5;167;01mConnectionError\u001b[39;00m:\n",
      "File \u001b[0;32m~/anaconda3/envs/database/lib/python3.12/http/client.py:331\u001b[0m, in \u001b[0;36mHTTPResponse.begin\u001b[0;34m(self)\u001b[0m\n\u001b[1;32m    330\u001b[0m \u001b[38;5;28;01mwhile\u001b[39;00m \u001b[38;5;28;01mTrue\u001b[39;00m:\n\u001b[0;32m--> 331\u001b[0m     version, status, reason \u001b[38;5;241m=\u001b[39m \u001b[38;5;28;43mself\u001b[39;49m\u001b[38;5;241;43m.\u001b[39;49m\u001b[43m_read_status\u001b[49m\u001b[43m(\u001b[49m\u001b[43m)\u001b[49m\n\u001b[1;32m    332\u001b[0m     \u001b[38;5;28;01mif\u001b[39;00m status \u001b[38;5;241m!=\u001b[39m CONTINUE:\n",
      "File \u001b[0;32m~/anaconda3/envs/database/lib/python3.12/http/client.py:300\u001b[0m, in \u001b[0;36mHTTPResponse._read_status\u001b[0;34m(self)\u001b[0m\n\u001b[1;32m    297\u001b[0m \u001b[38;5;28;01mif\u001b[39;00m \u001b[38;5;129;01mnot\u001b[39;00m line:\n\u001b[1;32m    298\u001b[0m     \u001b[38;5;66;03m# Presumably, the server closed the connection before\u001b[39;00m\n\u001b[1;32m    299\u001b[0m     \u001b[38;5;66;03m# sending a valid response.\u001b[39;00m\n\u001b[0;32m--> 300\u001b[0m     \u001b[38;5;28;01mraise\u001b[39;00m RemoteDisconnected(\u001b[38;5;124m\"\u001b[39m\u001b[38;5;124mRemote end closed connection without\u001b[39m\u001b[38;5;124m\"\u001b[39m\n\u001b[1;32m    301\u001b[0m                              \u001b[38;5;124m\"\u001b[39m\u001b[38;5;124m response\u001b[39m\u001b[38;5;124m\"\u001b[39m)\n\u001b[1;32m    302\u001b[0m \u001b[38;5;28;01mtry\u001b[39;00m:\n",
      "\u001b[0;31mRemoteDisconnected\u001b[0m: Remote end closed connection without response",
      "\nDuring handling of the above exception, another exception occurred:\n",
      "\u001b[0;31mProtocolError\u001b[0m                             Traceback (most recent call last)",
      "File \u001b[0;32m~/anaconda3/envs/database/lib/python3.12/site-packages/elastic_transport/_node/_http_urllib3.py:167\u001b[0m, in \u001b[0;36mUrllib3HttpNode.perform_request\u001b[0;34m(self, method, target, body, headers, request_timeout)\u001b[0m\n\u001b[1;32m    165\u001b[0m     body_to_send \u001b[38;5;241m=\u001b[39m \u001b[38;5;28;01mNone\u001b[39;00m\n\u001b[0;32m--> 167\u001b[0m response \u001b[38;5;241m=\u001b[39m \u001b[38;5;28;43mself\u001b[39;49m\u001b[38;5;241;43m.\u001b[39;49m\u001b[43mpool\u001b[49m\u001b[38;5;241;43m.\u001b[39;49m\u001b[43murlopen\u001b[49m\u001b[43m(\u001b[49m\n\u001b[1;32m    168\u001b[0m \u001b[43m    \u001b[49m\u001b[43mmethod\u001b[49m\u001b[43m,\u001b[49m\n\u001b[1;32m    169\u001b[0m \u001b[43m    \u001b[49m\u001b[43mtarget\u001b[49m\u001b[43m,\u001b[49m\n\u001b[1;32m    170\u001b[0m \u001b[43m    \u001b[49m\u001b[43mbody\u001b[49m\u001b[38;5;241;43m=\u001b[39;49m\u001b[43mbody_to_send\u001b[49m\u001b[43m,\u001b[49m\n\u001b[1;32m    171\u001b[0m \u001b[43m    \u001b[49m\u001b[43mretries\u001b[49m\u001b[38;5;241;43m=\u001b[39;49m\u001b[43mRetry\u001b[49m\u001b[43m(\u001b[49m\u001b[38;5;28;43;01mFalse\u001b[39;49;00m\u001b[43m)\u001b[49m\u001b[43m,\u001b[49m\n\u001b[1;32m    172\u001b[0m \u001b[43m    \u001b[49m\u001b[43mheaders\u001b[49m\u001b[38;5;241;43m=\u001b[39;49m\u001b[43mrequest_headers\u001b[49m\u001b[43m,\u001b[49m\n\u001b[1;32m    173\u001b[0m \u001b[43m    \u001b[49m\u001b[38;5;241;43m*\u001b[39;49m\u001b[38;5;241;43m*\u001b[39;49m\u001b[43mkw\u001b[49m\u001b[43m,\u001b[49m\u001b[43m  \u001b[49m\u001b[38;5;66;43;03m# type: ignore[arg-type]\u001b[39;49;00m\n\u001b[1;32m    174\u001b[0m \u001b[43m\u001b[49m\u001b[43m)\u001b[49m\n\u001b[1;32m    175\u001b[0m response_headers \u001b[38;5;241m=\u001b[39m HttpHeaders(response\u001b[38;5;241m.\u001b[39mheaders)\n",
      "File \u001b[0;32m~/anaconda3/envs/database/lib/python3.12/site-packages/urllib3/connectionpool.py:843\u001b[0m, in \u001b[0;36mHTTPConnectionPool.urlopen\u001b[0;34m(self, method, url, body, headers, retries, redirect, assert_same_host, timeout, pool_timeout, release_conn, chunked, body_pos, preload_content, decode_content, **response_kw)\u001b[0m\n\u001b[1;32m    841\u001b[0m     new_e \u001b[38;5;241m=\u001b[39m ProtocolError(\u001b[38;5;124m\"\u001b[39m\u001b[38;5;124mConnection aborted.\u001b[39m\u001b[38;5;124m\"\u001b[39m, new_e)\n\u001b[0;32m--> 843\u001b[0m retries \u001b[38;5;241m=\u001b[39m \u001b[43mretries\u001b[49m\u001b[38;5;241;43m.\u001b[39;49m\u001b[43mincrement\u001b[49m\u001b[43m(\u001b[49m\n\u001b[1;32m    844\u001b[0m \u001b[43m    \u001b[49m\u001b[43mmethod\u001b[49m\u001b[43m,\u001b[49m\u001b[43m \u001b[49m\u001b[43murl\u001b[49m\u001b[43m,\u001b[49m\u001b[43m \u001b[49m\u001b[43merror\u001b[49m\u001b[38;5;241;43m=\u001b[39;49m\u001b[43mnew_e\u001b[49m\u001b[43m,\u001b[49m\u001b[43m \u001b[49m\u001b[43m_pool\u001b[49m\u001b[38;5;241;43m=\u001b[39;49m\u001b[38;5;28;43mself\u001b[39;49m\u001b[43m,\u001b[49m\u001b[43m \u001b[49m\u001b[43m_stacktrace\u001b[49m\u001b[38;5;241;43m=\u001b[39;49m\u001b[43msys\u001b[49m\u001b[38;5;241;43m.\u001b[39;49m\u001b[43mexc_info\u001b[49m\u001b[43m(\u001b[49m\u001b[43m)\u001b[49m\u001b[43m[\u001b[49m\u001b[38;5;241;43m2\u001b[39;49m\u001b[43m]\u001b[49m\n\u001b[1;32m    845\u001b[0m \u001b[43m\u001b[49m\u001b[43m)\u001b[49m\n\u001b[1;32m    846\u001b[0m retries\u001b[38;5;241m.\u001b[39msleep()\n",
      "File \u001b[0;32m~/anaconda3/envs/database/lib/python3.12/site-packages/urllib3/util/retry.py:449\u001b[0m, in \u001b[0;36mRetry.increment\u001b[0;34m(self, method, url, response, error, _pool, _stacktrace)\u001b[0m\n\u001b[1;32m    447\u001b[0m \u001b[38;5;28;01mif\u001b[39;00m \u001b[38;5;28mself\u001b[39m\u001b[38;5;241m.\u001b[39mtotal \u001b[38;5;129;01mis\u001b[39;00m \u001b[38;5;28;01mFalse\u001b[39;00m \u001b[38;5;129;01mand\u001b[39;00m error:\n\u001b[1;32m    448\u001b[0m     \u001b[38;5;66;03m# Disabled, indicate to re-raise the error.\u001b[39;00m\n\u001b[0;32m--> 449\u001b[0m     \u001b[38;5;28;01mraise\u001b[39;00m \u001b[43mreraise\u001b[49m\u001b[43m(\u001b[49m\u001b[38;5;28;43mtype\u001b[39;49m\u001b[43m(\u001b[49m\u001b[43merror\u001b[49m\u001b[43m)\u001b[49m\u001b[43m,\u001b[49m\u001b[43m \u001b[49m\u001b[43merror\u001b[49m\u001b[43m,\u001b[49m\u001b[43m \u001b[49m\u001b[43m_stacktrace\u001b[49m\u001b[43m)\u001b[49m\n\u001b[1;32m    451\u001b[0m total \u001b[38;5;241m=\u001b[39m \u001b[38;5;28mself\u001b[39m\u001b[38;5;241m.\u001b[39mtotal\n",
      "File \u001b[0;32m~/anaconda3/envs/database/lib/python3.12/site-packages/urllib3/util/util.py:38\u001b[0m, in \u001b[0;36mreraise\u001b[0;34m(tp, value, tb)\u001b[0m\n\u001b[1;32m     37\u001b[0m \u001b[38;5;28;01mif\u001b[39;00m value\u001b[38;5;241m.\u001b[39m__traceback__ \u001b[38;5;129;01mis\u001b[39;00m \u001b[38;5;129;01mnot\u001b[39;00m tb:\n\u001b[0;32m---> 38\u001b[0m     \u001b[38;5;28;01mraise\u001b[39;00m value\u001b[38;5;241m.\u001b[39mwith_traceback(tb)\n\u001b[1;32m     39\u001b[0m \u001b[38;5;28;01mraise\u001b[39;00m value\n",
      "File \u001b[0;32m~/anaconda3/envs/database/lib/python3.12/site-packages/urllib3/connectionpool.py:789\u001b[0m, in \u001b[0;36mHTTPConnectionPool.urlopen\u001b[0;34m(self, method, url, body, headers, retries, redirect, assert_same_host, timeout, pool_timeout, release_conn, chunked, body_pos, preload_content, decode_content, **response_kw)\u001b[0m\n\u001b[1;32m    788\u001b[0m \u001b[38;5;66;03m# Make the request on the HTTPConnection object\u001b[39;00m\n\u001b[0;32m--> 789\u001b[0m response \u001b[38;5;241m=\u001b[39m \u001b[38;5;28;43mself\u001b[39;49m\u001b[38;5;241;43m.\u001b[39;49m\u001b[43m_make_request\u001b[49m\u001b[43m(\u001b[49m\n\u001b[1;32m    790\u001b[0m \u001b[43m    \u001b[49m\u001b[43mconn\u001b[49m\u001b[43m,\u001b[49m\n\u001b[1;32m    791\u001b[0m \u001b[43m    \u001b[49m\u001b[43mmethod\u001b[49m\u001b[43m,\u001b[49m\n\u001b[1;32m    792\u001b[0m \u001b[43m    \u001b[49m\u001b[43murl\u001b[49m\u001b[43m,\u001b[49m\n\u001b[1;32m    793\u001b[0m \u001b[43m    \u001b[49m\u001b[43mtimeout\u001b[49m\u001b[38;5;241;43m=\u001b[39;49m\u001b[43mtimeout_obj\u001b[49m\u001b[43m,\u001b[49m\n\u001b[1;32m    794\u001b[0m \u001b[43m    \u001b[49m\u001b[43mbody\u001b[49m\u001b[38;5;241;43m=\u001b[39;49m\u001b[43mbody\u001b[49m\u001b[43m,\u001b[49m\n\u001b[1;32m    795\u001b[0m \u001b[43m    \u001b[49m\u001b[43mheaders\u001b[49m\u001b[38;5;241;43m=\u001b[39;49m\u001b[43mheaders\u001b[49m\u001b[43m,\u001b[49m\n\u001b[1;32m    796\u001b[0m \u001b[43m    \u001b[49m\u001b[43mchunked\u001b[49m\u001b[38;5;241;43m=\u001b[39;49m\u001b[43mchunked\u001b[49m\u001b[43m,\u001b[49m\n\u001b[1;32m    797\u001b[0m \u001b[43m    \u001b[49m\u001b[43mretries\u001b[49m\u001b[38;5;241;43m=\u001b[39;49m\u001b[43mretries\u001b[49m\u001b[43m,\u001b[49m\n\u001b[1;32m    798\u001b[0m \u001b[43m    \u001b[49m\u001b[43mresponse_conn\u001b[49m\u001b[38;5;241;43m=\u001b[39;49m\u001b[43mresponse_conn\u001b[49m\u001b[43m,\u001b[49m\n\u001b[1;32m    799\u001b[0m \u001b[43m    \u001b[49m\u001b[43mpreload_content\u001b[49m\u001b[38;5;241;43m=\u001b[39;49m\u001b[43mpreload_content\u001b[49m\u001b[43m,\u001b[49m\n\u001b[1;32m    800\u001b[0m \u001b[43m    \u001b[49m\u001b[43mdecode_content\u001b[49m\u001b[38;5;241;43m=\u001b[39;49m\u001b[43mdecode_content\u001b[49m\u001b[43m,\u001b[49m\n\u001b[1;32m    801\u001b[0m \u001b[43m    \u001b[49m\u001b[38;5;241;43m*\u001b[39;49m\u001b[38;5;241;43m*\u001b[39;49m\u001b[43mresponse_kw\u001b[49m\u001b[43m,\u001b[49m\n\u001b[1;32m    802\u001b[0m \u001b[43m\u001b[49m\u001b[43m)\u001b[49m\n\u001b[1;32m    804\u001b[0m \u001b[38;5;66;03m# Everything went great!\u001b[39;00m\n",
      "File \u001b[0;32m~/anaconda3/envs/database/lib/python3.12/site-packages/urllib3/connectionpool.py:536\u001b[0m, in \u001b[0;36mHTTPConnectionPool._make_request\u001b[0;34m(self, conn, method, url, body, headers, retries, timeout, chunked, response_conn, preload_content, decode_content, enforce_content_length)\u001b[0m\n\u001b[1;32m    535\u001b[0m \u001b[38;5;28;01mtry\u001b[39;00m:\n\u001b[0;32m--> 536\u001b[0m     response \u001b[38;5;241m=\u001b[39m \u001b[43mconn\u001b[49m\u001b[38;5;241;43m.\u001b[39;49m\u001b[43mgetresponse\u001b[49m\u001b[43m(\u001b[49m\u001b[43m)\u001b[49m\n\u001b[1;32m    537\u001b[0m \u001b[38;5;28;01mexcept\u001b[39;00m (BaseSSLError, \u001b[38;5;167;01mOSError\u001b[39;00m) \u001b[38;5;28;01mas\u001b[39;00m e:\n",
      "File \u001b[0;32m~/anaconda3/envs/database/lib/python3.12/site-packages/urllib3/connection.py:507\u001b[0m, in \u001b[0;36mHTTPConnection.getresponse\u001b[0;34m(self)\u001b[0m\n\u001b[1;32m    506\u001b[0m \u001b[38;5;66;03m# Get the response from http.client.HTTPConnection\u001b[39;00m\n\u001b[0;32m--> 507\u001b[0m httplib_response \u001b[38;5;241m=\u001b[39m \u001b[38;5;28;43msuper\u001b[39;49m\u001b[43m(\u001b[49m\u001b[43m)\u001b[49m\u001b[38;5;241;43m.\u001b[39;49m\u001b[43mgetresponse\u001b[49m\u001b[43m(\u001b[49m\u001b[43m)\u001b[49m\n\u001b[1;32m    509\u001b[0m \u001b[38;5;28;01mtry\u001b[39;00m:\n",
      "File \u001b[0;32m~/anaconda3/envs/database/lib/python3.12/http/client.py:1428\u001b[0m, in \u001b[0;36mHTTPConnection.getresponse\u001b[0;34m(self)\u001b[0m\n\u001b[1;32m   1427\u001b[0m \u001b[38;5;28;01mtry\u001b[39;00m:\n\u001b[0;32m-> 1428\u001b[0m     \u001b[43mresponse\u001b[49m\u001b[38;5;241;43m.\u001b[39;49m\u001b[43mbegin\u001b[49m\u001b[43m(\u001b[49m\u001b[43m)\u001b[49m\n\u001b[1;32m   1429\u001b[0m \u001b[38;5;28;01mexcept\u001b[39;00m \u001b[38;5;167;01mConnectionError\u001b[39;00m:\n",
      "File \u001b[0;32m~/anaconda3/envs/database/lib/python3.12/http/client.py:331\u001b[0m, in \u001b[0;36mHTTPResponse.begin\u001b[0;34m(self)\u001b[0m\n\u001b[1;32m    330\u001b[0m \u001b[38;5;28;01mwhile\u001b[39;00m \u001b[38;5;28;01mTrue\u001b[39;00m:\n\u001b[0;32m--> 331\u001b[0m     version, status, reason \u001b[38;5;241m=\u001b[39m \u001b[38;5;28;43mself\u001b[39;49m\u001b[38;5;241;43m.\u001b[39;49m\u001b[43m_read_status\u001b[49m\u001b[43m(\u001b[49m\u001b[43m)\u001b[49m\n\u001b[1;32m    332\u001b[0m     \u001b[38;5;28;01mif\u001b[39;00m status \u001b[38;5;241m!=\u001b[39m CONTINUE:\n",
      "File \u001b[0;32m~/anaconda3/envs/database/lib/python3.12/http/client.py:300\u001b[0m, in \u001b[0;36mHTTPResponse._read_status\u001b[0;34m(self)\u001b[0m\n\u001b[1;32m    297\u001b[0m \u001b[38;5;28;01mif\u001b[39;00m \u001b[38;5;129;01mnot\u001b[39;00m line:\n\u001b[1;32m    298\u001b[0m     \u001b[38;5;66;03m# Presumably, the server closed the connection before\u001b[39;00m\n\u001b[1;32m    299\u001b[0m     \u001b[38;5;66;03m# sending a valid response.\u001b[39;00m\n\u001b[0;32m--> 300\u001b[0m     \u001b[38;5;28;01mraise\u001b[39;00m RemoteDisconnected(\u001b[38;5;124m\"\u001b[39m\u001b[38;5;124mRemote end closed connection without\u001b[39m\u001b[38;5;124m\"\u001b[39m\n\u001b[1;32m    301\u001b[0m                              \u001b[38;5;124m\"\u001b[39m\u001b[38;5;124m response\u001b[39m\u001b[38;5;124m\"\u001b[39m)\n\u001b[1;32m    302\u001b[0m \u001b[38;5;28;01mtry\u001b[39;00m:\n",
      "\u001b[0;31mProtocolError\u001b[0m: ('Connection aborted.', RemoteDisconnected('Remote end closed connection without response'))",
      "\nThe above exception was the direct cause of the following exception:\n",
      "\u001b[0;31mConnectionError\u001b[0m                           Traceback (most recent call last)",
      "Cell \u001b[0;32mIn[2], line 10\u001b[0m\n\u001b[1;32m      7\u001b[0m client \u001b[38;5;241m=\u001b[39m Elasticsearch(\u001b[38;5;124m\"\u001b[39m\u001b[38;5;124mhttp://localhost:9200/\u001b[39m\u001b[38;5;124m\"\u001b[39m, api_key\u001b[38;5;241m=\u001b[39mos\u001b[38;5;241m.\u001b[39mgetenv(\u001b[38;5;124m'\u001b[39m\u001b[38;5;124mapikey\u001b[39m\u001b[38;5;124m'\u001b[39m))\n\u001b[1;32m      9\u001b[0m \u001b[38;5;66;03m#test client\u001b[39;00m\n\u001b[0;32m---> 10\u001b[0m \u001b[38;5;28mprint\u001b[39m(\u001b[43mclient\u001b[49m\u001b[38;5;241;43m.\u001b[39;49m\u001b[43minfo\u001b[49m\u001b[43m(\u001b[49m\u001b[43m)\u001b[49m)\n",
      "File \u001b[0;32m~/anaconda3/envs/database/lib/python3.12/site-packages/elasticsearch/_sync/client/utils.py:446\u001b[0m, in \u001b[0;36m_rewrite_parameters.<locals>.wrapper.<locals>.wrapped\u001b[0;34m(*args, **kwargs)\u001b[0m\n\u001b[1;32m    443\u001b[0m         \u001b[38;5;28;01mexcept\u001b[39;00m \u001b[38;5;167;01mKeyError\u001b[39;00m:\n\u001b[1;32m    444\u001b[0m             \u001b[38;5;28;01mpass\u001b[39;00m\n\u001b[0;32m--> 446\u001b[0m \u001b[38;5;28;01mreturn\u001b[39;00m \u001b[43mapi\u001b[49m\u001b[43m(\u001b[49m\u001b[38;5;241;43m*\u001b[39;49m\u001b[43margs\u001b[49m\u001b[43m,\u001b[49m\u001b[43m \u001b[49m\u001b[38;5;241;43m*\u001b[39;49m\u001b[38;5;241;43m*\u001b[39;49m\u001b[43mkwargs\u001b[49m\u001b[43m)\u001b[49m\n",
      "File \u001b[0;32m~/anaconda3/envs/database/lib/python3.12/site-packages/elasticsearch/_sync/client/__init__.py:2464\u001b[0m, in \u001b[0;36mElasticsearch.info\u001b[0;34m(self, error_trace, filter_path, human, pretty)\u001b[0m\n\u001b[1;32m   2462\u001b[0m     __query[\u001b[38;5;124m\"\u001b[39m\u001b[38;5;124mpretty\u001b[39m\u001b[38;5;124m\"\u001b[39m] \u001b[38;5;241m=\u001b[39m pretty\n\u001b[1;32m   2463\u001b[0m __headers \u001b[38;5;241m=\u001b[39m {\u001b[38;5;124m\"\u001b[39m\u001b[38;5;124maccept\u001b[39m\u001b[38;5;124m\"\u001b[39m: \u001b[38;5;124m\"\u001b[39m\u001b[38;5;124mapplication/json\u001b[39m\u001b[38;5;124m\"\u001b[39m}\n\u001b[0;32m-> 2464\u001b[0m \u001b[38;5;28;01mreturn\u001b[39;00m \u001b[38;5;28;43mself\u001b[39;49m\u001b[38;5;241;43m.\u001b[39;49m\u001b[43mperform_request\u001b[49m\u001b[43m(\u001b[49m\u001b[43m  \u001b[49m\u001b[38;5;66;43;03m# type: ignore[return-value]\u001b[39;49;00m\n\u001b[1;32m   2465\u001b[0m \u001b[43m    \u001b[49m\u001b[38;5;124;43m\"\u001b[39;49m\u001b[38;5;124;43mGET\u001b[39;49m\u001b[38;5;124;43m\"\u001b[39;49m\u001b[43m,\u001b[49m\n\u001b[1;32m   2466\u001b[0m \u001b[43m    \u001b[49m\u001b[43m__path\u001b[49m\u001b[43m,\u001b[49m\n\u001b[1;32m   2467\u001b[0m \u001b[43m    \u001b[49m\u001b[43mparams\u001b[49m\u001b[38;5;241;43m=\u001b[39;49m\u001b[43m__query\u001b[49m\u001b[43m,\u001b[49m\n\u001b[1;32m   2468\u001b[0m \u001b[43m    \u001b[49m\u001b[43mheaders\u001b[49m\u001b[38;5;241;43m=\u001b[39;49m\u001b[43m__headers\u001b[49m\u001b[43m,\u001b[49m\n\u001b[1;32m   2469\u001b[0m \u001b[43m    \u001b[49m\u001b[43mendpoint_id\u001b[49m\u001b[38;5;241;43m=\u001b[39;49m\u001b[38;5;124;43m\"\u001b[39;49m\u001b[38;5;124;43minfo\u001b[39;49m\u001b[38;5;124;43m\"\u001b[39;49m\u001b[43m,\u001b[49m\n\u001b[1;32m   2470\u001b[0m \u001b[43m    \u001b[49m\u001b[43mpath_parts\u001b[49m\u001b[38;5;241;43m=\u001b[39;49m\u001b[43m__path_parts\u001b[49m\u001b[43m,\u001b[49m\n\u001b[1;32m   2471\u001b[0m \u001b[43m\u001b[49m\u001b[43m)\u001b[49m\n",
      "File \u001b[0;32m~/anaconda3/envs/database/lib/python3.12/site-packages/elasticsearch/_sync/client/_base.py:271\u001b[0m, in \u001b[0;36mBaseClient.perform_request\u001b[0;34m(self, method, path, params, headers, body, endpoint_id, path_parts)\u001b[0m\n\u001b[1;32m    255\u001b[0m \u001b[38;5;28;01mdef\u001b[39;00m \u001b[38;5;21mperform_request\u001b[39m(\n\u001b[1;32m    256\u001b[0m     \u001b[38;5;28mself\u001b[39m,\n\u001b[1;32m    257\u001b[0m     method: \u001b[38;5;28mstr\u001b[39m,\n\u001b[0;32m   (...)\u001b[0m\n\u001b[1;32m    264\u001b[0m     path_parts: Optional[Mapping[\u001b[38;5;28mstr\u001b[39m, Any]] \u001b[38;5;241m=\u001b[39m \u001b[38;5;28;01mNone\u001b[39;00m,\n\u001b[1;32m    265\u001b[0m ) \u001b[38;5;241m-\u001b[39m\u001b[38;5;241m>\u001b[39m ApiResponse[Any]:\n\u001b[1;32m    266\u001b[0m     \u001b[38;5;28;01mwith\u001b[39;00m \u001b[38;5;28mself\u001b[39m\u001b[38;5;241m.\u001b[39m_otel\u001b[38;5;241m.\u001b[39mspan(\n\u001b[1;32m    267\u001b[0m         method,\n\u001b[1;32m    268\u001b[0m         endpoint_id\u001b[38;5;241m=\u001b[39mendpoint_id,\n\u001b[1;32m    269\u001b[0m         path_parts\u001b[38;5;241m=\u001b[39mpath_parts \u001b[38;5;129;01mor\u001b[39;00m {},\n\u001b[1;32m    270\u001b[0m     ) \u001b[38;5;28;01mas\u001b[39;00m otel_span:\n\u001b[0;32m--> 271\u001b[0m         response \u001b[38;5;241m=\u001b[39m \u001b[38;5;28;43mself\u001b[39;49m\u001b[38;5;241;43m.\u001b[39;49m\u001b[43m_perform_request\u001b[49m\u001b[43m(\u001b[49m\n\u001b[1;32m    272\u001b[0m \u001b[43m            \u001b[49m\u001b[43mmethod\u001b[49m\u001b[43m,\u001b[49m\n\u001b[1;32m    273\u001b[0m \u001b[43m            \u001b[49m\u001b[43mpath\u001b[49m\u001b[43m,\u001b[49m\n\u001b[1;32m    274\u001b[0m \u001b[43m            \u001b[49m\u001b[43mparams\u001b[49m\u001b[38;5;241;43m=\u001b[39;49m\u001b[43mparams\u001b[49m\u001b[43m,\u001b[49m\n\u001b[1;32m    275\u001b[0m \u001b[43m            \u001b[49m\u001b[43mheaders\u001b[49m\u001b[38;5;241;43m=\u001b[39;49m\u001b[43mheaders\u001b[49m\u001b[43m,\u001b[49m\n\u001b[1;32m    276\u001b[0m \u001b[43m            \u001b[49m\u001b[43mbody\u001b[49m\u001b[38;5;241;43m=\u001b[39;49m\u001b[43mbody\u001b[49m\u001b[43m,\u001b[49m\n\u001b[1;32m    277\u001b[0m \u001b[43m            \u001b[49m\u001b[43motel_span\u001b[49m\u001b[38;5;241;43m=\u001b[39;49m\u001b[43motel_span\u001b[49m\u001b[43m,\u001b[49m\n\u001b[1;32m    278\u001b[0m \u001b[43m        \u001b[49m\u001b[43m)\u001b[49m\n\u001b[1;32m    279\u001b[0m         otel_span\u001b[38;5;241m.\u001b[39mset_elastic_cloud_metadata(response\u001b[38;5;241m.\u001b[39mmeta\u001b[38;5;241m.\u001b[39mheaders)\n\u001b[1;32m    280\u001b[0m         \u001b[38;5;28;01mreturn\u001b[39;00m response\n",
      "File \u001b[0;32m~/anaconda3/envs/database/lib/python3.12/site-packages/elasticsearch/_sync/client/_base.py:316\u001b[0m, in \u001b[0;36mBaseClient._perform_request\u001b[0;34m(self, method, path, params, headers, body, otel_span)\u001b[0m\n\u001b[1;32m    313\u001b[0m \u001b[38;5;28;01melse\u001b[39;00m:\n\u001b[1;32m    314\u001b[0m     target \u001b[38;5;241m=\u001b[39m path\n\u001b[0;32m--> 316\u001b[0m meta, resp_body \u001b[38;5;241m=\u001b[39m \u001b[38;5;28;43mself\u001b[39;49m\u001b[38;5;241;43m.\u001b[39;49m\u001b[43mtransport\u001b[49m\u001b[38;5;241;43m.\u001b[39;49m\u001b[43mperform_request\u001b[49m\u001b[43m(\u001b[49m\n\u001b[1;32m    317\u001b[0m \u001b[43m    \u001b[49m\u001b[43mmethod\u001b[49m\u001b[43m,\u001b[49m\n\u001b[1;32m    318\u001b[0m \u001b[43m    \u001b[49m\u001b[43mtarget\u001b[49m\u001b[43m,\u001b[49m\n\u001b[1;32m    319\u001b[0m \u001b[43m    \u001b[49m\u001b[43mheaders\u001b[49m\u001b[38;5;241;43m=\u001b[39;49m\u001b[43mrequest_headers\u001b[49m\u001b[43m,\u001b[49m\n\u001b[1;32m    320\u001b[0m \u001b[43m    \u001b[49m\u001b[43mbody\u001b[49m\u001b[38;5;241;43m=\u001b[39;49m\u001b[43mbody\u001b[49m\u001b[43m,\u001b[49m\n\u001b[1;32m    321\u001b[0m \u001b[43m    \u001b[49m\u001b[43mrequest_timeout\u001b[49m\u001b[38;5;241;43m=\u001b[39;49m\u001b[38;5;28;43mself\u001b[39;49m\u001b[38;5;241;43m.\u001b[39;49m\u001b[43m_request_timeout\u001b[49m\u001b[43m,\u001b[49m\n\u001b[1;32m    322\u001b[0m \u001b[43m    \u001b[49m\u001b[43mmax_retries\u001b[49m\u001b[38;5;241;43m=\u001b[39;49m\u001b[38;5;28;43mself\u001b[39;49m\u001b[38;5;241;43m.\u001b[39;49m\u001b[43m_max_retries\u001b[49m\u001b[43m,\u001b[49m\n\u001b[1;32m    323\u001b[0m \u001b[43m    \u001b[49m\u001b[43mretry_on_status\u001b[49m\u001b[38;5;241;43m=\u001b[39;49m\u001b[38;5;28;43mself\u001b[39;49m\u001b[38;5;241;43m.\u001b[39;49m\u001b[43m_retry_on_status\u001b[49m\u001b[43m,\u001b[49m\n\u001b[1;32m    324\u001b[0m \u001b[43m    \u001b[49m\u001b[43mretry_on_timeout\u001b[49m\u001b[38;5;241;43m=\u001b[39;49m\u001b[38;5;28;43mself\u001b[39;49m\u001b[38;5;241;43m.\u001b[39;49m\u001b[43m_retry_on_timeout\u001b[49m\u001b[43m,\u001b[49m\n\u001b[1;32m    325\u001b[0m \u001b[43m    \u001b[49m\u001b[43mclient_meta\u001b[49m\u001b[38;5;241;43m=\u001b[39;49m\u001b[38;5;28;43mself\u001b[39;49m\u001b[38;5;241;43m.\u001b[39;49m\u001b[43m_client_meta\u001b[49m\u001b[43m,\u001b[49m\n\u001b[1;32m    326\u001b[0m \u001b[43m    \u001b[49m\u001b[43motel_span\u001b[49m\u001b[38;5;241;43m=\u001b[39;49m\u001b[43motel_span\u001b[49m\u001b[43m,\u001b[49m\n\u001b[1;32m    327\u001b[0m \u001b[43m\u001b[49m\u001b[43m)\u001b[49m\n\u001b[1;32m    329\u001b[0m \u001b[38;5;66;03m# HEAD with a 404 is returned as a normal response\u001b[39;00m\n\u001b[1;32m    330\u001b[0m \u001b[38;5;66;03m# since this is used as an 'exists' functionality.\u001b[39;00m\n\u001b[1;32m    331\u001b[0m \u001b[38;5;28;01mif\u001b[39;00m \u001b[38;5;129;01mnot\u001b[39;00m (method \u001b[38;5;241m==\u001b[39m \u001b[38;5;124m\"\u001b[39m\u001b[38;5;124mHEAD\u001b[39m\u001b[38;5;124m\"\u001b[39m \u001b[38;5;129;01mand\u001b[39;00m meta\u001b[38;5;241m.\u001b[39mstatus \u001b[38;5;241m==\u001b[39m \u001b[38;5;241m404\u001b[39m) \u001b[38;5;129;01mand\u001b[39;00m (\n\u001b[1;32m    332\u001b[0m     \u001b[38;5;129;01mnot\u001b[39;00m \u001b[38;5;241m200\u001b[39m \u001b[38;5;241m<\u001b[39m\u001b[38;5;241m=\u001b[39m meta\u001b[38;5;241m.\u001b[39mstatus \u001b[38;5;241m<\u001b[39m \u001b[38;5;241m299\u001b[39m\n\u001b[1;32m    333\u001b[0m     \u001b[38;5;129;01mand\u001b[39;00m (\n\u001b[0;32m   (...)\u001b[0m\n\u001b[1;32m    337\u001b[0m     )\n\u001b[1;32m    338\u001b[0m ):\n",
      "File \u001b[0;32m~/anaconda3/envs/database/lib/python3.12/site-packages/elastic_transport/_transport.py:342\u001b[0m, in \u001b[0;36mTransport.perform_request\u001b[0;34m(self, method, target, body, headers, max_retries, retry_on_status, retry_on_timeout, request_timeout, client_meta, otel_span)\u001b[0m\n\u001b[1;32m    340\u001b[0m \u001b[38;5;28;01mtry\u001b[39;00m:\n\u001b[1;32m    341\u001b[0m     otel_span\u001b[38;5;241m.\u001b[39mset_node_metadata(node\u001b[38;5;241m.\u001b[39mhost, node\u001b[38;5;241m.\u001b[39mport, node\u001b[38;5;241m.\u001b[39mbase_url, target)\n\u001b[0;32m--> 342\u001b[0m     resp \u001b[38;5;241m=\u001b[39m \u001b[43mnode\u001b[49m\u001b[38;5;241;43m.\u001b[39;49m\u001b[43mperform_request\u001b[49m\u001b[43m(\u001b[49m\n\u001b[1;32m    343\u001b[0m \u001b[43m        \u001b[49m\u001b[43mmethod\u001b[49m\u001b[43m,\u001b[49m\n\u001b[1;32m    344\u001b[0m \u001b[43m        \u001b[49m\u001b[43mtarget\u001b[49m\u001b[43m,\u001b[49m\n\u001b[1;32m    345\u001b[0m \u001b[43m        \u001b[49m\u001b[43mbody\u001b[49m\u001b[38;5;241;43m=\u001b[39;49m\u001b[43mrequest_body\u001b[49m\u001b[43m,\u001b[49m\n\u001b[1;32m    346\u001b[0m \u001b[43m        \u001b[49m\u001b[43mheaders\u001b[49m\u001b[38;5;241;43m=\u001b[39;49m\u001b[43mrequest_headers\u001b[49m\u001b[43m,\u001b[49m\n\u001b[1;32m    347\u001b[0m \u001b[43m        \u001b[49m\u001b[43mrequest_timeout\u001b[49m\u001b[38;5;241;43m=\u001b[39;49m\u001b[43mrequest_timeout\u001b[49m\u001b[43m,\u001b[49m\n\u001b[1;32m    348\u001b[0m \u001b[43m    \u001b[49m\u001b[43m)\u001b[49m\n\u001b[1;32m    349\u001b[0m     _logger\u001b[38;5;241m.\u001b[39minfo(\n\u001b[1;32m    350\u001b[0m         \u001b[38;5;124m\"\u001b[39m\u001b[38;5;132;01m%s\u001b[39;00m\u001b[38;5;124m \u001b[39m\u001b[38;5;132;01m%s\u001b[39;00m\u001b[38;5;132;01m%s\u001b[39;00m\u001b[38;5;124m [status:\u001b[39m\u001b[38;5;132;01m%s\u001b[39;00m\u001b[38;5;124m duration:\u001b[39m\u001b[38;5;132;01m%.3f\u001b[39;00m\u001b[38;5;124ms]\u001b[39m\u001b[38;5;124m\"\u001b[39m\n\u001b[1;32m    351\u001b[0m         \u001b[38;5;241m%\u001b[39m (\n\u001b[0;32m   (...)\u001b[0m\n\u001b[1;32m    357\u001b[0m         )\n\u001b[1;32m    358\u001b[0m     )\n\u001b[1;32m    360\u001b[0m     \u001b[38;5;28;01mif\u001b[39;00m method \u001b[38;5;241m!=\u001b[39m \u001b[38;5;124m\"\u001b[39m\u001b[38;5;124mHEAD\u001b[39m\u001b[38;5;124m\"\u001b[39m:\n",
      "File \u001b[0;32m~/anaconda3/envs/database/lib/python3.12/site-packages/elastic_transport/_node/_http_urllib3.py:202\u001b[0m, in \u001b[0;36mUrllib3HttpNode.perform_request\u001b[0;34m(self, method, target, body, headers, request_timeout)\u001b[0m\n\u001b[1;32m    194\u001b[0m         err \u001b[38;5;241m=\u001b[39m \u001b[38;5;167;01mConnectionError\u001b[39;00m(\u001b[38;5;28mstr\u001b[39m(e), errors\u001b[38;5;241m=\u001b[39m(e,))\n\u001b[1;32m    195\u001b[0m     \u001b[38;5;28mself\u001b[39m\u001b[38;5;241m.\u001b[39m_log_request(\n\u001b[1;32m    196\u001b[0m         method\u001b[38;5;241m=\u001b[39mmethod,\n\u001b[1;32m    197\u001b[0m         target\u001b[38;5;241m=\u001b[39mtarget,\n\u001b[0;32m   (...)\u001b[0m\n\u001b[1;32m    200\u001b[0m         exception\u001b[38;5;241m=\u001b[39merr,\n\u001b[1;32m    201\u001b[0m     )\n\u001b[0;32m--> 202\u001b[0m     \u001b[38;5;28;01mraise\u001b[39;00m err \u001b[38;5;28;01mfrom\u001b[39;00m \u001b[38;5;21;01me\u001b[39;00m\n\u001b[1;32m    204\u001b[0m meta \u001b[38;5;241m=\u001b[39m ApiResponseMeta(\n\u001b[1;32m    205\u001b[0m     node\u001b[38;5;241m=\u001b[39m\u001b[38;5;28mself\u001b[39m\u001b[38;5;241m.\u001b[39mconfig,\n\u001b[1;32m    206\u001b[0m     duration\u001b[38;5;241m=\u001b[39mduration,\n\u001b[0;32m   (...)\u001b[0m\n\u001b[1;32m    209\u001b[0m     headers\u001b[38;5;241m=\u001b[39mresponse_headers,\n\u001b[1;32m    210\u001b[0m )\n\u001b[1;32m    211\u001b[0m \u001b[38;5;28mself\u001b[39m\u001b[38;5;241m.\u001b[39m_log_request(\n\u001b[1;32m    212\u001b[0m     method\u001b[38;5;241m=\u001b[39mmethod,\n\u001b[1;32m    213\u001b[0m     target\u001b[38;5;241m=\u001b[39mtarget,\n\u001b[0;32m   (...)\u001b[0m\n\u001b[1;32m    217\u001b[0m     response\u001b[38;5;241m=\u001b[39mdata,\n\u001b[1;32m    218\u001b[0m )\n",
      "\u001b[0;31mConnectionError\u001b[0m: Connection error caused by: ConnectionError(Connection error caused by: ProtocolError(('Connection aborted.', RemoteDisconnected('Remote end closed connection without response'))))"
     ]
    }
   ],
   "source": [
    "from dotenv import load_dotenv\n",
    "import os\n",
    "from elasticsearch import helpers  # For bulk Data Uploading\n",
    "from elasticsearch import Elasticsearch  # Base function for interacting with Elasticsearch\n",
    "\n",
    "load_dotenv()\n",
    "client = Elasticsearch(\"http://localhost:9200/\", api_key=os.getenv('apikey'))\n",
    "\n",
    "#test client\n",
    "print(client.info())"
   ]
  },
  {
   "cell_type": "markdown",
   "id": "b4c791bd74c6ac5e",
   "metadata": {},
   "source": [
    "# Elasticsearch Terminology\n",
    "\n",
    "https://www.elastic.co/guide/en/elastic-stack-glossary/current/terms.html\n",
    "\n",
    "## Index\n",
    "\n",
    "A data space to store documents with similar characteristics\n",
    "\n",
    "## Document and Fields\n",
    "\n",
    "A **document** is a single data entry, think row in SQL, which can also be thought of as a collection of **fields**. \n",
    "\n",
    "**Fields** are like columns in SQL, they represent the actual values that define a document. As elasticsearch is not a structured database, **fields** are a key-value pair. \n",
    "\n",
    "Translating this into python terminology, that would mean that each **document** is a collection of key-value pairs, aka a dictionary."
   ]
  },
  {
   "cell_type": "markdown",
   "id": "63e7316fb90cf8f0",
   "metadata": {},
   "source": [
    "# Definition of an index\n",
    "\n",
    "Defining an index allows you to set the settings for a given index, and pre-determine the data types that specific **fields** have by providing a mapping. If these are not set, elasticsearch will set default values for settings, and attempt to auto-interpret what the data type should be the first time it encounters a new **field**.\n",
    "\n",
    "Probably most important keys are: \n",
    "- [**For the future**] settings: https://www.elastic.co/guide/en/elasticsearch/reference/8.15/index-modules.html, potentially important for the future are:\n",
    "    - A **shard** is a component that holds the data and allows for the indexing and searching operations. These number of primary **shards** can only be set at index creation \n",
    "    - Replica **shards* provide data redundancy and facilitate extra searcher in case of multiple search requests on data in a given shard. These can be set dynamically not just at index creation. Elasticsearch balances these across nodes in a cluster\n",
    "- mapping https://www.elastic.co/guide/en/elasticsearch/reference/current/mapping.html\n",
    "    - properties contains the actual fields of the documents: https://www.elastic.co/guide/en/elasticsearch/reference/current/explicit-mapping.html\n",
    "        - Data types of **fields** can be found here: https://www.elastic.co/guide/en/elasticsearch/reference/current/mapping-types.html\n",
    "        - **Fields** can be objects, or nested to contain their own fields: https://www.elastic.co/guide/en/elasticsearch/reference/current/properties.html\n",
    "        - Some metadata can be added to fields, such as units: https://www.elastic.co/guide/en/elasticsearch/reference/current/mapping-field-meta.html\n",
    "        - For more mapping parameters: https://www.elastic.co/guide/en/elasticsearch/reference/current/mapping-params.html\n",
    "\n",
    "Replica shards not only provide data redundancy but also facilitate extra searches in case of multiple search requests. These shards can be set dynamically, and Elasticsearch will balance them across nodes in a cluster."
   ]
  },
  {
   "cell_type": "markdown",
   "id": "b32ce7b7d2fb2f21",
   "metadata": {},
   "source": [
    "# Python definition of an index\n",
    "\n",
    "Because of the simple interface provided by the elasticsearch python package, we can define the mapping using a dictionary, and this will then be translated into a JSON for us.\n",
    "Here is an example:\n",
    "\n",
    "\n"
   ]
  },
  {
   "cell_type": "code",
   "execution_count": 57,
   "id": "58649d4469e22d86",
   "metadata": {
    "ExecuteTime": {
     "end_time": "2024-10-25T12:39:00.637592Z",
     "start_time": "2024-10-25T12:39:00.633970Z"
    }
   },
   "outputs": [],
   "source": [
    "'''\n",
    "\"settings\" is technically not needed if we are working on a simple local host, but can be changed to optimise search performance on a database that is hosted on a cluster and searched by multiple users.\n",
    "\"mappings\" is required if you wish to explicitly map fields to specific values\n",
    "'''\n",
    "\n",
    "index_definition = {\n",
    "    \"settings\": {  \n",
    "        \"number_of_shards\": 1,\n",
    "    },\n",
    "    \"mappings\": {\n",
    "        \"properties\": {\n",
    "            \"git hash\": {\"type\": \"keyword\"},\n",
    "            \"resolution\": {\"type\": \"integer\"},\n",
    "            \"time\": {\n",
    "                \"type\": \"float\",\n",
    "                \"meta\": {\n",
    "                    \"unit\": \"s\",\n",
    "                }\n",
    "            },\n",
    "            \"path to image\": {\"type\": \"keyword\"},\n",
    "            \"eccentricity\": {\"type\": \"float\"},\n",
    "            \"semi-major axis\": {\"type\": \"float\"},\n",
    "            \"primary mass\": {\"type\": \"float\"},\n",
    "            \"primary racc\": {\"type\": \"float\"},\n",
    "            \"primary Teff\": {\n",
    "                \"type\": \"float\",\n",
    "                \"meta\": {\n",
    "                    \"unit\": \"K\",\n",
    "                }\n",
    "            },\n",
    "            \"primary Reff\": {\n",
    "                \"type\": \"float\",\n",
    "                \"meta\": {\n",
    "                    \"unit\": \"parsec\",\n",
    "                }\n",
    "            },\n",
    "            \"secondary mass\": {\n",
    "                \"type\": \"float\",\n",
    "                \"meta\": {\n",
    "                    \"unit\": \"g\",\n",
    "                }\n",
    "            },\n",
    "            \"secondary racc\": {\"type\": \"float\"},\n",
    "            \"secondary Teff\": {\n",
    "                \"type\": \"float\",\n",
    "                \"meta\": {\n",
    "                    \"unit\": \"K\",\n",
    "                }\n",
    "            },\n",
    "            \"secondary Reff\": {\n",
    "                \"type\": \"float\",\n",
    "                \"meta\": {\n",
    "                    \"unit\": \"parsec\",\n",
    "                }\n",
    "            },\n",
    "            \"adiabatic index\": {\"type\": \"float\"},\n",
    "            \"mean molecular weight\": {\"type\": \"float\"},\n",
    "            \"icooling\": {\"type\": \"integer\"}\n",
    "        }\n",
    "    }\n",
    "}"
   ]
  },
  {
   "cell_type": "markdown",
   "id": "5c5580ed7d8406d8",
   "metadata": {},
   "source": [
    "# Creating an Index\n",
    "\n",
    "Creating an index is simple. The most important variables are likely to be:\n",
    "- index: [str]: String of the index name to be created, must be lowercase.\n",
    "- body: [dict]: Dictionary containing settings and mappings.\n",
    "- settings: [Mapping]: Mapping data type containing only the settings for the index to be created (This is listed in the documentation for the package, but does not currently work for me, instead I used body)\n",
    "- mappings: [Mapping]: Mapping data type containing only the mappings for the index to be created (This is listed in the documentation for the package, but does not currently work for me, instead I used body)"
   ]
  },
  {
   "cell_type": "code",
   "execution_count": null,
   "id": "aad02a65517fe88f",
   "metadata": {
    "ExecuteTime": {
     "end_time": "2024-10-25T12:39:13.308252Z",
     "start_time": "2024-10-25T12:39:13.252937Z"
    }
   },
   "outputs": [
    {
     "data": {
      "text/plain": [
       "ObjectApiResponse({'acknowledged': True, 'shards_acknowledged': True, 'index': 'trial_index'})"
      ]
     },
     "execution_count": 58,
     "metadata": {},
     "output_type": "execute_result"
    }
   ],
   "source": [
    "client.indices.create(index=\"trial_index\", body=index_definition)\n",
    "# You can delete an index with \n",
    "#client.indices.delete(index=\"trial_index\", ignore_unavailable=True)"
   ]
  },
  {
   "cell_type": "markdown",
   "id": "183b3acaf7e3b448",
   "metadata": {},
   "source": [
    "# Kibana\n",
    "\n",
    "Once the index is created in elasticsearch, in order to view it in Kibana, go to **Management** and on left menu bar, scroll down to the **Kibana** subsection, and click **Data Views**. From here, on the top right, click **Create data view** in order to integrate the new index into the Kibana interface. This will allow you to view how kibana interprets the index you have created."
   ]
  },
  {
   "cell_type": "markdown",
   "id": "3118ec4646f44313",
   "metadata": {},
   "source": [
    "# Adding documents\n",
    "\n",
    "To add documents to an index, it's a simple as passing a list of dictionaries to client.bulk(), or a single dictionary to the client.index() function. Adding \"refresh=True\" to either function will make the new **document(s)** searchable immediately, else users will have to wait for the shard holding the data to refresh in its normal cycle."
   ]
  },
  {
   "cell_type": "code",
   "execution_count": 59,
   "id": "c824628d46c5ff1",
   "metadata": {
    "ExecuteTime": {
     "end_time": "2024-10-25T12:39:16.967990Z",
     "start_time": "2024-10-25T12:39:16.964395Z"
    }
   },
   "outputs": [],
   "source": [
    "# Code block to define function to randomly generate data\n",
    "import random\n",
    "\n",
    "def gen_data(image_number: int):\n",
    "    return {\n",
    "        \"git hash\": \"8743b52063cd84097a65d1633f5c74f5\",\n",
    "        \"resolution\": random.choice([64, 128, 256, 512]),\n",
    "        \"time\": random.uniform(2000.0, 50000.0),\n",
    "        \"path to image\": f\"/path/to/image_{image_number}.png\",\n",
    "        \"eccentricity\": random.uniform(0.0, 1.0),\n",
    "        \"semi-major axis\": random.uniform(1.0, 10.0),\n",
    "        \"primary mass\": random.uniform(1000.0, 100000.0),\n",
    "        \"primary racc\": random.uniform(1.0, 10.0),\n",
    "        \"primary Teff\": random.uniform(100.0, 1000.0),\n",
    "        \"primary Reff\": random.uniform(1.0, 5.0),\n",
    "        \"secondary mass\": random.uniform(10.0, 1000.0),\n",
    "        \"secondary racc\": random.uniform(0.0, 1.0),\n",
    "        \"secondary Teff\": random.uniform(1.0, 100.0),\n",
    "        \"secondary Reff\": random.uniform(0.0, 1.0),\n",
    "        \"adiabatic index\": random.uniform(1.0, 10.0),\n",
    "        \"mean molecular weight\": random.uniform(1.0, 50.0),\n",
    "        \"icooling\": int(random.uniform(20.0, 50.0)),\n",
    "    }"
   ]
  },
  {
   "cell_type": "markdown",
   "id": "8195c02023e98a38",
   "metadata": {},
   "source": [
    "# Single Document"
   ]
  },
  {
   "cell_type": "code",
   "execution_count": 65,
   "id": "ef7f4f78bffb9f15",
   "metadata": {
    "ExecuteTime": {
     "end_time": "2024-10-25T12:39:19.889393Z",
     "start_time": "2024-10-25T12:39:19.876802Z"
    }
   },
   "outputs": [],
   "source": [
    "data = gen_data(image_number=100)\n",
    "\n",
    "client.index(index='trial_index', body=data)\n",
    "del data"
   ]
  },
  {
   "cell_type": "markdown",
   "id": "970591ec07c4bf2d",
   "metadata": {},
   "source": [
    "# Bulk / Multiple Documents\n",
    "\n",
    "In order to load multiple items in bulk, we take advantage of helpers.bulk()\n",
    "\n",
    "To set this up, we have to supply the function helpers.bulk() with a list of dictionaries. Each dictionary, needs to have the index it belongs to, and the type of operation we are performing with it. In this case, we are doing **index** which adds a document to a specific index. We could also bulk delete or update, but that would then require setting the correct variables.\n",
    "\n",
    "For submitting a new Document, each dictionary needs to have at least the \"_index\" key, but here are some others that could be of interest:\n",
    "- \"_op_type\": Name of operation to perform in String format. \n",
    "    - 'index': Add new document to named index [default value]\n",
    "    - 'delete: Delete specific document (**requires '_id'**)\n",
    "    - 'update': Update specific document with the values found in \"_source\" (**requires '_id'**)\n",
    "- \"_index\": Name of index to add to in String format\n",
    "- \"_id\": ID of the document\n",
    "- \"_source\": Dictionary to be added to index as document, or parts of the document to be changed. (If not specified, then all non elasticsearch meta-data fields will be used as the \"_source\")"
   ]
  },
  {
   "cell_type": "code",
   "execution_count": 70,
   "id": "18fd6a8e9a724159",
   "metadata": {
    "ExecuteTime": {
     "end_time": "2024-10-25T12:39:29.400219Z",
     "start_time": "2024-10-25T12:39:29.387124Z"
    }
   },
   "outputs": [
    {
     "name": "stdout",
     "output_type": "stream",
     "text": [
      "[{'_index': 'trial_index', '_op_type': 'index', '_source': {'git hash': '8743b52063cd84097a65d1633f5c74f5', 'resolution': 64, 'time': 46731.8309969084, 'path to image': '/path/to/image_0.png', 'eccentricity': 0.021311017265269627, 'semi-major axis': 7.760456532013592, 'primary mass': 24628.116243496588, 'primary racc': 3.8284912267225883, 'primary Teff': 726.6522729196142, 'primary Reff': 2.868619449010579, 'secondary mass': 983.2194107488992, 'secondary racc': 0.9354971423304048, 'secondary Teff': 40.249319844601885, 'secondary Reff': 0.3945288955812304, 'adiabatic index': 1.097553242146389, 'mean molecular weight': 11.697197641730558, 'icooling': 44}}, {'_index': 'trial_index', '_op_type': 'index', '_source': {'git hash': '8743b52063cd84097a65d1633f5c74f5', 'resolution': 128, 'time': 11372.634024696366, 'path to image': '/path/to/image_1.png', 'eccentricity': 0.6935322363256596, 'semi-major axis': 9.356162441292232, 'primary mass': 24123.67365393174, 'primary racc': 2.8624919982525237, 'primary Teff': 469.32868035847184, 'primary Reff': 2.4995928252159834, 'secondary mass': 650.1811725380641, 'secondary racc': 0.9254714429375868, 'secondary Teff': 56.26771340237767, 'secondary Reff': 0.934880612853952, 'adiabatic index': 3.0063155250581284, 'mean molecular weight': 7.191137519624322, 'icooling': 22}}, {'_index': 'trial_index', '_op_type': 'index', '_source': {'git hash': '8743b52063cd84097a65d1633f5c74f5', 'resolution': 512, 'time': 46500.48357697744, 'path to image': '/path/to/image_2.png', 'eccentricity': 0.6045860468082076, 'semi-major axis': 4.535557772404714, 'primary mass': 45559.22769156167, 'primary racc': 3.2845762122281834, 'primary Teff': 636.2746392068102, 'primary Reff': 2.4791479421079425, 'secondary mass': 620.6665289123229, 'secondary racc': 0.41509295869369756, 'secondary Teff': 20.585723753385246, 'secondary Reff': 0.09208973953675159, 'adiabatic index': 8.358388491650075, 'mean molecular weight': 27.986606685643384, 'icooling': 22}}, {'_index': 'trial_index', '_op_type': 'index', '_source': {'git hash': '8743b52063cd84097a65d1633f5c74f5', 'resolution': 128, 'time': 48740.05955219273, 'path to image': '/path/to/image_3.png', 'eccentricity': 0.05442649996156257, 'semi-major axis': 1.1370975205209428, 'primary mass': 20184.107686260035, 'primary racc': 6.285113035922819, 'primary Teff': 859.1207360285375, 'primary Reff': 3.844861271223205, 'secondary mass': 132.00256971103641, 'secondary racc': 0.39273352265227157, 'secondary Teff': 93.50890597666593, 'secondary Reff': 0.1730359554020785, 'adiabatic index': 7.001032666413616, 'mean molecular weight': 43.10701311075718, 'icooling': 25}}, {'_index': 'trial_index', '_op_type': 'index', '_source': {'git hash': '8743b52063cd84097a65d1633f5c74f5', 'resolution': 64, 'time': 49252.52313146601, 'path to image': '/path/to/image_4.png', 'eccentricity': 0.841519290522063, 'semi-major axis': 7.879393451792904, 'primary mass': 26863.643032766777, 'primary racc': 2.8179307975310253, 'primary Teff': 138.24566004416627, 'primary Reff': 3.736483407844563, 'secondary mass': 280.1075369185719, 'secondary racc': 0.6725020053662865, 'secondary Teff': 21.88857413318713, 'secondary Reff': 0.7648442461427876, 'adiabatic index': 2.254864977071939, 'mean molecular weight': 25.768226411074842, 'icooling': 43}}, {'_index': 'trial_index', '_op_type': 'index', '_source': {'git hash': '8743b52063cd84097a65d1633f5c74f5', 'resolution': 512, 'time': 24614.228694315818, 'path to image': '/path/to/image_5.png', 'eccentricity': 0.42699886018487554, 'semi-major axis': 4.395014272482134, 'primary mass': 83411.99609879316, 'primary racc': 9.894645949720625, 'primary Teff': 664.1950360788458, 'primary Reff': 4.7030117865365035, 'secondary mass': 99.09582990240669, 'secondary racc': 0.14432184255888258, 'secondary Teff': 77.36092559195055, 'secondary Reff': 0.9386663495666424, 'adiabatic index': 1.3843658875034308, 'mean molecular weight': 9.693949280232026, 'icooling': 20}}, {'_index': 'trial_index', '_op_type': 'index', '_source': {'git hash': '8743b52063cd84097a65d1633f5c74f5', 'resolution': 256, 'time': 44134.98514284923, 'path to image': '/path/to/image_6.png', 'eccentricity': 0.11303644531638823, 'semi-major axis': 2.8647985142686836, 'primary mass': 58840.243164793195, 'primary racc': 3.8015118958953837, 'primary Teff': 823.0305401177365, 'primary Reff': 4.106882165923798, 'secondary mass': 921.5147472971861, 'secondary racc': 0.3629147237960859, 'secondary Teff': 7.444733304719212, 'secondary Reff': 0.10515708091448517, 'adiabatic index': 2.7989945198298383, 'mean molecular weight': 39.7619598175136, 'icooling': 34}}, {'_index': 'trial_index', '_op_type': 'index', '_source': {'git hash': '8743b52063cd84097a65d1633f5c74f5', 'resolution': 128, 'time': 16195.547209178154, 'path to image': '/path/to/image_7.png', 'eccentricity': 0.5963725672837042, 'semi-major axis': 9.638400806949267, 'primary mass': 18289.569231472953, 'primary racc': 9.656283775344628, 'primary Teff': 463.489827344438, 'primary Reff': 4.4791969478815705, 'secondary mass': 877.5603320137095, 'secondary racc': 0.5398413547770933, 'secondary Teff': 23.77815760774221, 'secondary Reff': 0.8414599654519962, 'adiabatic index': 5.310663521861081, 'mean molecular weight': 30.633195330261152, 'icooling': 31}}, {'_index': 'trial_index', '_op_type': 'index', '_source': {'git hash': '8743b52063cd84097a65d1633f5c74f5', 'resolution': 256, 'time': 6680.877407701418, 'path to image': '/path/to/image_8.png', 'eccentricity': 0.14742390360004032, 'semi-major axis': 2.6917116536464105, 'primary mass': 37745.73835693303, 'primary racc': 1.8940580363613762, 'primary Teff': 607.6168978682958, 'primary Reff': 4.431945742979635, 'secondary mass': 813.3356459208584, 'secondary racc': 0.9927997558413854, 'secondary Teff': 72.18960160271168, 'secondary Reff': 0.6413176415753803, 'adiabatic index': 9.737661256974027, 'mean molecular weight': 48.85422864575038, 'icooling': 39}}, {'_index': 'trial_index', '_op_type': 'index', '_source': {'git hash': '8743b52063cd84097a65d1633f5c74f5', 'resolution': 64, 'time': 16997.70698270928, 'path to image': '/path/to/image_9.png', 'eccentricity': 0.7698747190441039, 'semi-major axis': 9.47015213450685, 'primary mass': 17851.589703531834, 'primary racc': 1.9765663758123229, 'primary Teff': 330.45653375363145, 'primary Reff': 1.6173373233018942, 'secondary mass': 452.4061972663764, 'secondary racc': 0.2707060697836099, 'secondary Teff': 6.967785838441552, 'secondary Reff': 0.8916832136065548, 'adiabatic index': 3.7619450405357515, 'mean molecular weight': 23.592294645351334, 'icooling': 29}}, {'_index': 'trial_index', '_op_type': 'index', '_source': {'git hash': '8743b52063cd84097a65d1633f5c74f5', 'resolution': 256, 'time': 41033.21662725552, 'path to image': '/path/to/image_10.png', 'eccentricity': 0.16898791124283352, 'semi-major axis': 8.655330910398893, 'primary mass': 90638.57630834194, 'primary racc': 5.053960142440284, 'primary Teff': 477.01461245182963, 'primary Reff': 2.99279933294697, 'secondary mass': 976.7303812437807, 'secondary racc': 0.8780065546139922, 'secondary Teff': 77.47087807747523, 'secondary Reff': 0.3763823979161741, 'adiabatic index': 7.820624028168103, 'mean molecular weight': 4.466940491334906, 'icooling': 39}}, {'_index': 'trial_index', '_op_type': 'index', '_source': {'git hash': '8743b52063cd84097a65d1633f5c74f5', 'resolution': 128, 'time': 18503.146043571036, 'path to image': '/path/to/image_11.png', 'eccentricity': 0.26737831662888545, 'semi-major axis': 6.233413657922727, 'primary mass': 26240.72075529287, 'primary racc': 1.560501504974468, 'primary Teff': 882.0032422172316, 'primary Reff': 4.389375510196061, 'secondary mass': 435.33229909281914, 'secondary racc': 0.8244765071023628, 'secondary Teff': 81.1847829393369, 'secondary Reff': 0.0058431036049668705, 'adiabatic index': 5.665907249406828, 'mean molecular weight': 7.8011105618520205, 'icooling': 37}}, {'_index': 'trial_index', '_op_type': 'index', '_source': {'git hash': '8743b52063cd84097a65d1633f5c74f5', 'resolution': 256, 'time': 23115.333009008777, 'path to image': '/path/to/image_12.png', 'eccentricity': 0.886559956183771, 'semi-major axis': 7.104212961489469, 'primary mass': 79957.69260304744, 'primary racc': 6.940649146220117, 'primary Teff': 658.6726596199491, 'primary Reff': 1.6316437899399503, 'secondary mass': 552.0185653385357, 'secondary racc': 0.773494119299563, 'secondary Teff': 23.932279021105312, 'secondary Reff': 0.8682846708439598, 'adiabatic index': 5.9799091645793725, 'mean molecular weight': 44.47121252057272, 'icooling': 49}}, {'_index': 'trial_index', '_op_type': 'index', '_source': {'git hash': '8743b52063cd84097a65d1633f5c74f5', 'resolution': 256, 'time': 38045.7852269403, 'path to image': '/path/to/image_13.png', 'eccentricity': 0.812817494990315, 'semi-major axis': 5.842138638410555, 'primary mass': 82486.84710574408, 'primary racc': 1.3432242844278688, 'primary Teff': 189.51631071058978, 'primary Reff': 1.0432008287398054, 'secondary mass': 399.77387996042364, 'secondary racc': 0.6472081422617548, 'secondary Teff': 50.76150642556322, 'secondary Reff': 0.9441590987168449, 'adiabatic index': 3.2420133684324606, 'mean molecular weight': 35.60747074248842, 'icooling': 48}}, {'_index': 'trial_index', '_op_type': 'index', '_source': {'git hash': '8743b52063cd84097a65d1633f5c74f5', 'resolution': 256, 'time': 35018.74367883851, 'path to image': '/path/to/image_14.png', 'eccentricity': 0.2828722798800609, 'semi-major axis': 9.057765041296557, 'primary mass': 95618.41504754384, 'primary racc': 2.482967146340765, 'primary Teff': 585.7015260539854, 'primary Reff': 3.901513432119876, 'secondary mass': 163.77737578419067, 'secondary racc': 0.9109031957325701, 'secondary Teff': 26.255300771748768, 'secondary Reff': 0.05066537211444433, 'adiabatic index': 8.903460980730229, 'mean molecular weight': 28.470776265489597, 'icooling': 24}}, {'_index': 'trial_index', '_op_type': 'index', '_source': {'git hash': '8743b52063cd84097a65d1633f5c74f5', 'resolution': 128, 'time': 26669.666449781114, 'path to image': '/path/to/image_15.png', 'eccentricity': 0.49325402453932976, 'semi-major axis': 2.545479951912347, 'primary mass': 44629.96372664507, 'primary racc': 3.1865575233190877, 'primary Teff': 644.1364342572873, 'primary Reff': 4.530874027623394, 'secondary mass': 784.713943259495, 'secondary racc': 0.03358573951329413, 'secondary Teff': 75.71180392491826, 'secondary Reff': 0.017266358522203706, 'adiabatic index': 3.7299878313723664, 'mean molecular weight': 42.59040660514546, 'icooling': 25}}, {'_index': 'trial_index', '_op_type': 'index', '_source': {'git hash': '8743b52063cd84097a65d1633f5c74f5', 'resolution': 512, 'time': 39248.50906406567, 'path to image': '/path/to/image_16.png', 'eccentricity': 0.40966711735508843, 'semi-major axis': 2.6661622876522335, 'primary mass': 99191.07941744103, 'primary racc': 7.821740205644677, 'primary Teff': 460.2656208223532, 'primary Reff': 3.564515259206685, 'secondary mass': 175.4934990802851, 'secondary racc': 0.7293449839971193, 'secondary Teff': 3.0913097861554655, 'secondary Reff': 0.6800857090778605, 'adiabatic index': 1.7799146819984843, 'mean molecular weight': 3.2755542078367013, 'icooling': 38}}, {'_index': 'trial_index', '_op_type': 'index', '_source': {'git hash': '8743b52063cd84097a65d1633f5c74f5', 'resolution': 512, 'time': 38725.88066439231, 'path to image': '/path/to/image_17.png', 'eccentricity': 0.10177349499509636, 'semi-major axis': 2.98948245755306, 'primary mass': 69718.89980429766, 'primary racc': 6.244579224101622, 'primary Teff': 463.98133840977414, 'primary Reff': 2.772693086286686, 'secondary mass': 762.4921631702288, 'secondary racc': 0.1069005644864357, 'secondary Teff': 77.76450494555228, 'secondary Reff': 0.8408088459649374, 'adiabatic index': 3.9512418428307, 'mean molecular weight': 23.999811873785635, 'icooling': 25}}, {'_index': 'trial_index', '_op_type': 'index', '_source': {'git hash': '8743b52063cd84097a65d1633f5c74f5', 'resolution': 128, 'time': 33768.22105903329, 'path to image': '/path/to/image_18.png', 'eccentricity': 0.6190434848417807, 'semi-major axis': 6.553368454484296, 'primary mass': 54148.928058725956, 'primary racc': 1.9004608399380998, 'primary Teff': 528.171518786441, 'primary Reff': 2.8597645827214957, 'secondary mass': 94.52606893773411, 'secondary racc': 0.7473483215527281, 'secondary Teff': 74.17782366114025, 'secondary Reff': 0.9385734755293338, 'adiabatic index': 7.889509600396635, 'mean molecular weight': 28.778487356832194, 'icooling': 27}}, {'_index': 'trial_index', '_op_type': 'index', '_source': {'git hash': '8743b52063cd84097a65d1633f5c74f5', 'resolution': 512, 'time': 15009.360550645864, 'path to image': '/path/to/image_19.png', 'eccentricity': 0.07538145272275709, 'semi-major axis': 2.229513893329588, 'primary mass': 21056.502567933072, 'primary racc': 9.362917544313284, 'primary Teff': 436.793005419304, 'primary Reff': 3.852726765376876, 'secondary mass': 279.0697986284315, 'secondary racc': 0.07316982358829005, 'secondary Teff': 71.01520658697991, 'secondary Reff': 0.2861204342258543, 'adiabatic index': 3.2365206842880507, 'mean molecular weight': 28.044387897070898, 'icooling': 25}}, {'_index': 'trial_index', '_op_type': 'index', '_source': {'git hash': '8743b52063cd84097a65d1633f5c74f5', 'resolution': 512, 'time': 18092.52733174096, 'path to image': '/path/to/image_20.png', 'eccentricity': 0.10601902435314414, 'semi-major axis': 1.288270948912107, 'primary mass': 67184.12088362248, 'primary racc': 1.986209824401655, 'primary Teff': 988.6798390108598, 'primary Reff': 4.9777080888748655, 'secondary mass': 859.7333452790826, 'secondary racc': 0.11294321184699341, 'secondary Teff': 84.49806878038494, 'secondary Reff': 0.7553502607742478, 'adiabatic index': 8.570784470553374, 'mean molecular weight': 16.558987551015978, 'icooling': 46}}, {'_index': 'trial_index', '_op_type': 'index', '_source': {'git hash': '8743b52063cd84097a65d1633f5c74f5', 'resolution': 512, 'time': 24771.0243903593, 'path to image': '/path/to/image_21.png', 'eccentricity': 0.30276649506434106, 'semi-major axis': 9.487883981494464, 'primary mass': 44556.677382385154, 'primary racc': 3.1577527418986464, 'primary Teff': 334.1467767272116, 'primary Reff': 1.1582504728788723, 'secondary mass': 400.75406333904334, 'secondary racc': 0.7115537437600418, 'secondary Teff': 86.17436827452275, 'secondary Reff': 0.16002268241793371, 'adiabatic index': 3.1938728629245143, 'mean molecular weight': 6.312400422093512, 'icooling': 26}}, {'_index': 'trial_index', '_op_type': 'index', '_source': {'git hash': '8743b52063cd84097a65d1633f5c74f5', 'resolution': 128, 'time': 4407.837492397241, 'path to image': '/path/to/image_22.png', 'eccentricity': 0.9528227505771155, 'semi-major axis': 1.5887524011108862, 'primary mass': 66253.98059498583, 'primary racc': 5.260983916972274, 'primary Teff': 661.2712118046184, 'primary Reff': 2.83484191827245, 'secondary mass': 741.133170234875, 'secondary racc': 0.09209007940102643, 'secondary Teff': 6.541105048027552, 'secondary Reff': 0.7127512465983751, 'adiabatic index': 8.818881707391919, 'mean molecular weight': 6.447929819851248, 'icooling': 22}}, {'_index': 'trial_index', '_op_type': 'index', '_source': {'git hash': '8743b52063cd84097a65d1633f5c74f5', 'resolution': 128, 'time': 17816.6588010732, 'path to image': '/path/to/image_23.png', 'eccentricity': 0.7150467139242259, 'semi-major axis': 4.724612970725007, 'primary mass': 99499.55694738435, 'primary racc': 8.233324486488602, 'primary Teff': 765.10055389598, 'primary Reff': 2.1411065156382953, 'secondary mass': 130.69103977064566, 'secondary racc': 0.9872030247027372, 'secondary Teff': 32.62275856891229, 'secondary Reff': 0.4894666258165056, 'adiabatic index': 3.353347938552205, 'mean molecular weight': 44.38677277813581, 'icooling': 40}}, {'_index': 'trial_index', '_op_type': 'index', '_source': {'git hash': '8743b52063cd84097a65d1633f5c74f5', 'resolution': 128, 'time': 33325.24577348476, 'path to image': '/path/to/image_24.png', 'eccentricity': 0.8063561263950052, 'semi-major axis': 5.710541450524465, 'primary mass': 80550.4306235943, 'primary racc': 5.946440220427339, 'primary Teff': 154.66471439255423, 'primary Reff': 4.7998661767415065, 'secondary mass': 861.4650081160381, 'secondary racc': 0.48182962971834853, 'secondary Teff': 90.63771398514197, 'secondary Reff': 0.6250123717192465, 'adiabatic index': 3.9588600917008936, 'mean molecular weight': 30.468787932846592, 'icooling': 45}}, {'_index': 'trial_index', '_op_type': 'index', '_source': {'git hash': '8743b52063cd84097a65d1633f5c74f5', 'resolution': 512, 'time': 42313.568446995225, 'path to image': '/path/to/image_25.png', 'eccentricity': 0.9311252937710172, 'semi-major axis': 7.098193515488674, 'primary mass': 70763.49071837775, 'primary racc': 7.913970610700929, 'primary Teff': 404.1897298451882, 'primary Reff': 4.503832560024109, 'secondary mass': 451.86920726519037, 'secondary racc': 0.42079112083466963, 'secondary Teff': 6.656320375724418, 'secondary Reff': 0.39558344258059563, 'adiabatic index': 3.8667451903695746, 'mean molecular weight': 25.15911960083562, 'icooling': 41}}, {'_index': 'trial_index', '_op_type': 'index', '_source': {'git hash': '8743b52063cd84097a65d1633f5c74f5', 'resolution': 128, 'time': 24510.049739299695, 'path to image': '/path/to/image_26.png', 'eccentricity': 0.16736661384663254, 'semi-major axis': 4.821702422218943, 'primary mass': 50356.10835308973, 'primary racc': 3.4342641961850506, 'primary Teff': 894.9729156781311, 'primary Reff': 2.499880470378198, 'secondary mass': 129.67861788750594, 'secondary racc': 0.07761394410757372, 'secondary Teff': 96.7667585479379, 'secondary Reff': 0.9073354485324839, 'adiabatic index': 4.4186792035608935, 'mean molecular weight': 11.207370425514075, 'icooling': 34}}, {'_index': 'trial_index', '_op_type': 'index', '_source': {'git hash': '8743b52063cd84097a65d1633f5c74f5', 'resolution': 256, 'time': 24960.030036720847, 'path to image': '/path/to/image_27.png', 'eccentricity': 0.411066710995022, 'semi-major axis': 4.293639902382187, 'primary mass': 39600.237750203705, 'primary racc': 1.974472934432527, 'primary Teff': 475.0595957543854, 'primary Reff': 3.4746522287548225, 'secondary mass': 304.7072970179407, 'secondary racc': 0.9564469088056469, 'secondary Teff': 23.564612027199033, 'secondary Reff': 0.6346967517652664, 'adiabatic index': 1.681388272681865, 'mean molecular weight': 45.35913909176474, 'icooling': 22}}, {'_index': 'trial_index', '_op_type': 'index', '_source': {'git hash': '8743b52063cd84097a65d1633f5c74f5', 'resolution': 512, 'time': 38877.6772381718, 'path to image': '/path/to/image_28.png', 'eccentricity': 0.9038608677717783, 'semi-major axis': 1.711495985953153, 'primary mass': 53563.390273242854, 'primary racc': 5.606315793036322, 'primary Teff': 748.8587359845122, 'primary Reff': 2.008407746612673, 'secondary mass': 565.4751566400532, 'secondary racc': 0.7614662500597235, 'secondary Teff': 77.76293320130016, 'secondary Reff': 0.5461795829489051, 'adiabatic index': 5.498492912066343, 'mean molecular weight': 27.716742685580748, 'icooling': 38}}, {'_index': 'trial_index', '_op_type': 'index', '_source': {'git hash': '8743b52063cd84097a65d1633f5c74f5', 'resolution': 128, 'time': 26026.732720278436, 'path to image': '/path/to/image_29.png', 'eccentricity': 0.07973943661941629, 'semi-major axis': 9.653662528915518, 'primary mass': 24305.11649141273, 'primary racc': 9.51106302886765, 'primary Teff': 959.8137298651321, 'primary Reff': 3.6186653394659407, 'secondary mass': 418.96267754663353, 'secondary racc': 0.3513942929965771, 'secondary Teff': 75.44643272201517, 'secondary Reff': 0.03103832735443146, 'adiabatic index': 9.118357400724031, 'mean molecular weight': 47.96970470856075, 'icooling': 44}}, {'_index': 'trial_index', '_op_type': 'index', '_source': {'git hash': '8743b52063cd84097a65d1633f5c74f5', 'resolution': 64, 'time': 27787.17709850215, 'path to image': '/path/to/image_30.png', 'eccentricity': 0.15691600523886728, 'semi-major axis': 1.0574131706120742, 'primary mass': 95772.13409549973, 'primary racc': 8.187708132771736, 'primary Teff': 313.40940902791476, 'primary Reff': 2.140787838211291, 'secondary mass': 895.6424363942542, 'secondary racc': 0.9102174499792371, 'secondary Teff': 18.412394978192328, 'secondary Reff': 0.569716884504733, 'adiabatic index': 6.146412138959793, 'mean molecular weight': 12.613636467996722, 'icooling': 40}}, {'_index': 'trial_index', '_op_type': 'index', '_source': {'git hash': '8743b52063cd84097a65d1633f5c74f5', 'resolution': 256, 'time': 20910.38569391627, 'path to image': '/path/to/image_31.png', 'eccentricity': 0.7590713929023016, 'semi-major axis': 9.409615334531177, 'primary mass': 79787.11967558671, 'primary racc': 7.671261528089996, 'primary Teff': 201.17126932769196, 'primary Reff': 2.2142399247610767, 'secondary mass': 881.9202722614529, 'secondary racc': 0.9713959871205419, 'secondary Teff': 31.3576590530018, 'secondary Reff': 0.05428551258439296, 'adiabatic index': 6.00394728177341, 'mean molecular weight': 24.998706765878868, 'icooling': 28}}, {'_index': 'trial_index', '_op_type': 'index', '_source': {'git hash': '8743b52063cd84097a65d1633f5c74f5', 'resolution': 512, 'time': 14495.524731065992, 'path to image': '/path/to/image_32.png', 'eccentricity': 0.10567749592204545, 'semi-major axis': 8.862620703382637, 'primary mass': 12024.340363166913, 'primary racc': 8.740637052027235, 'primary Teff': 460.45704546859713, 'primary Reff': 2.6477546859937204, 'secondary mass': 482.7960692116489, 'secondary racc': 0.9816088115329775, 'secondary Teff': 38.1889280004571, 'secondary Reff': 0.5611343557625339, 'adiabatic index': 1.6055943570437943, 'mean molecular weight': 5.220332236288547, 'icooling': 32}}, {'_index': 'trial_index', '_op_type': 'index', '_source': {'git hash': '8743b52063cd84097a65d1633f5c74f5', 'resolution': 512, 'time': 24363.407698593262, 'path to image': '/path/to/image_33.png', 'eccentricity': 0.02335568258938947, 'semi-major axis': 9.975966107187393, 'primary mass': 19813.168535921723, 'primary racc': 1.640321672765928, 'primary Teff': 784.6648506463517, 'primary Reff': 1.044170716603102, 'secondary mass': 86.26838418134861, 'secondary racc': 0.7483227787739669, 'secondary Teff': 43.82274437563983, 'secondary Reff': 0.7810296703661513, 'adiabatic index': 5.766566719271037, 'mean molecular weight': 7.6586988250814025, 'icooling': 42}}, {'_index': 'trial_index', '_op_type': 'index', '_source': {'git hash': '8743b52063cd84097a65d1633f5c74f5', 'resolution': 512, 'time': 30675.651434916937, 'path to image': '/path/to/image_34.png', 'eccentricity': 0.1322095823845877, 'semi-major axis': 3.7946874837703874, 'primary mass': 66973.74088932695, 'primary racc': 8.693238956819851, 'primary Teff': 793.8976655207198, 'primary Reff': 4.638632941393684, 'secondary mass': 841.375892404963, 'secondary racc': 0.40438948105714856, 'secondary Teff': 72.44853378879236, 'secondary Reff': 0.6387753652586577, 'adiabatic index': 8.055214562005066, 'mean molecular weight': 48.74414007917715, 'icooling': 43}}, {'_index': 'trial_index', '_op_type': 'index', '_source': {'git hash': '8743b52063cd84097a65d1633f5c74f5', 'resolution': 512, 'time': 14405.844977547951, 'path to image': '/path/to/image_35.png', 'eccentricity': 0.9297858135908753, 'semi-major axis': 1.6958260781488284, 'primary mass': 42535.686259891714, 'primary racc': 8.533659412814156, 'primary Teff': 935.6000313864953, 'primary Reff': 3.16753807874472, 'secondary mass': 868.1367323434995, 'secondary racc': 0.8567144476932939, 'secondary Teff': 68.62621676740874, 'secondary Reff': 0.7933737449497664, 'adiabatic index': 8.149849189962637, 'mean molecular weight': 29.547718745344838, 'icooling': 34}}, {'_index': 'trial_index', '_op_type': 'index', '_source': {'git hash': '8743b52063cd84097a65d1633f5c74f5', 'resolution': 128, 'time': 37921.2217072802, 'path to image': '/path/to/image_36.png', 'eccentricity': 0.9798470976841106, 'semi-major axis': 5.015620302241491, 'primary mass': 1294.9997595224042, 'primary racc': 8.283783292175464, 'primary Teff': 999.1099409859072, 'primary Reff': 2.5735943011926317, 'secondary mass': 455.96063086257294, 'secondary racc': 0.5725639080999028, 'secondary Teff': 20.359727641169552, 'secondary Reff': 0.3548429900894011, 'adiabatic index': 8.921512503899482, 'mean molecular weight': 36.53007029564866, 'icooling': 40}}, {'_index': 'trial_index', '_op_type': 'index', '_source': {'git hash': '8743b52063cd84097a65d1633f5c74f5', 'resolution': 128, 'time': 14461.50403830699, 'path to image': '/path/to/image_37.png', 'eccentricity': 0.12552148877818115, 'semi-major axis': 3.5807505747991017, 'primary mass': 57167.063616472784, 'primary racc': 6.722559866851388, 'primary Teff': 418.8680269769768, 'primary Reff': 4.533974181426796, 'secondary mass': 458.2601146878657, 'secondary racc': 0.09057765749339786, 'secondary Teff': 37.36811761816664, 'secondary Reff': 0.6817391235000557, 'adiabatic index': 3.504526440042289, 'mean molecular weight': 5.4727583027853495, 'icooling': 30}}, {'_index': 'trial_index', '_op_type': 'index', '_source': {'git hash': '8743b52063cd84097a65d1633f5c74f5', 'resolution': 256, 'time': 20561.301327828005, 'path to image': '/path/to/image_38.png', 'eccentricity': 0.12082670385976146, 'semi-major axis': 4.215691824216957, 'primary mass': 82108.94218907127, 'primary racc': 9.730045717211336, 'primary Teff': 552.2407783291856, 'primary Reff': 2.313429660346293, 'secondary mass': 274.70778577502887, 'secondary racc': 0.19429768387285085, 'secondary Teff': 40.7480410264347, 'secondary Reff': 0.9939210120606191, 'adiabatic index': 5.584667818464213, 'mean molecular weight': 27.597937935326357, 'icooling': 27}}, {'_index': 'trial_index', '_op_type': 'index', '_source': {'git hash': '8743b52063cd84097a65d1633f5c74f5', 'resolution': 64, 'time': 21934.97382813389, 'path to image': '/path/to/image_39.png', 'eccentricity': 0.5403288776610893, 'semi-major axis': 2.9061339937130546, 'primary mass': 92341.28100962183, 'primary racc': 5.373319269539813, 'primary Teff': 321.5240725107934, 'primary Reff': 3.519194928864704, 'secondary mass': 69.9046056282149, 'secondary racc': 0.1174671297174027, 'secondary Teff': 34.82109638294611, 'secondary Reff': 0.47594583514004396, 'adiabatic index': 1.4553275717114622, 'mean molecular weight': 48.16634666848763, 'icooling': 29}}, {'_index': 'trial_index', '_op_type': 'index', '_source': {'git hash': '8743b52063cd84097a65d1633f5c74f5', 'resolution': 512, 'time': 40484.54310547715, 'path to image': '/path/to/image_40.png', 'eccentricity': 0.0647041398773639, 'semi-major axis': 5.128426441979019, 'primary mass': 68108.7380898483, 'primary racc': 9.899658608807325, 'primary Teff': 363.166651692394, 'primary Reff': 1.7350657747650193, 'secondary mass': 589.2143879716758, 'secondary racc': 0.5720959143482501, 'secondary Teff': 80.80609551590337, 'secondary Reff': 0.9619467903093822, 'adiabatic index': 8.778120783895279, 'mean molecular weight': 39.297418176880264, 'icooling': 38}}, {'_index': 'trial_index', '_op_type': 'index', '_source': {'git hash': '8743b52063cd84097a65d1633f5c74f5', 'resolution': 256, 'time': 23548.60072172338, 'path to image': '/path/to/image_41.png', 'eccentricity': 0.06786113283757977, 'semi-major axis': 3.136091355641934, 'primary mass': 83651.390847646, 'primary racc': 2.7248739428298805, 'primary Teff': 725.5159346806305, 'primary Reff': 3.0524830378192913, 'secondary mass': 531.385757291616, 'secondary racc': 0.9437907035627668, 'secondary Teff': 89.93549671307493, 'secondary Reff': 0.43295362230911993, 'adiabatic index': 8.33865573310703, 'mean molecular weight': 4.850742315761215, 'icooling': 27}}, {'_index': 'trial_index', '_op_type': 'index', '_source': {'git hash': '8743b52063cd84097a65d1633f5c74f5', 'resolution': 128, 'time': 22638.60465405616, 'path to image': '/path/to/image_42.png', 'eccentricity': 0.840704890003459, 'semi-major axis': 9.035446639813244, 'primary mass': 6417.787805098468, 'primary racc': 2.299980212594762, 'primary Teff': 320.6265422893066, 'primary Reff': 4.55864981538131, 'secondary mass': 249.59223258432252, 'secondary racc': 0.6481962663528753, 'secondary Teff': 40.08335800947459, 'secondary Reff': 0.22167249309830617, 'adiabatic index': 9.342078861337503, 'mean molecular weight': 48.91766715791277, 'icooling': 40}}, {'_index': 'trial_index', '_op_type': 'index', '_source': {'git hash': '8743b52063cd84097a65d1633f5c74f5', 'resolution': 128, 'time': 39436.380495243786, 'path to image': '/path/to/image_43.png', 'eccentricity': 0.5051807450465756, 'semi-major axis': 1.7117497394064798, 'primary mass': 96720.65689441451, 'primary racc': 3.642575855104304, 'primary Teff': 641.4033459303396, 'primary Reff': 3.6693798987686908, 'secondary mass': 120.5240698418142, 'secondary racc': 0.7252570844196284, 'secondary Teff': 35.21405847044475, 'secondary Reff': 0.6082488457053056, 'adiabatic index': 7.996257752585994, 'mean molecular weight': 3.752918497426124, 'icooling': 48}}, {'_index': 'trial_index', '_op_type': 'index', '_source': {'git hash': '8743b52063cd84097a65d1633f5c74f5', 'resolution': 256, 'time': 36458.51530635344, 'path to image': '/path/to/image_44.png', 'eccentricity': 0.04852867426446794, 'semi-major axis': 2.0690088272090454, 'primary mass': 47898.138394327645, 'primary racc': 3.785131732367869, 'primary Teff': 443.7491192769591, 'primary Reff': 1.3160216404562606, 'secondary mass': 699.8908712478667, 'secondary racc': 0.7173887125588971, 'secondary Teff': 34.26050118503396, 'secondary Reff': 0.7415349254115692, 'adiabatic index': 6.916135526998566, 'mean molecular weight': 36.44955230610803, 'icooling': 46}}, {'_index': 'trial_index', '_op_type': 'index', '_source': {'git hash': '8743b52063cd84097a65d1633f5c74f5', 'resolution': 128, 'time': 42061.92432426009, 'path to image': '/path/to/image_45.png', 'eccentricity': 0.39556780614053355, 'semi-major axis': 2.355527571993084, 'primary mass': 56988.13522035131, 'primary racc': 4.296976898756556, 'primary Teff': 196.33687861169682, 'primary Reff': 3.52796513260073, 'secondary mass': 784.2934541280514, 'secondary racc': 0.2807787807905868, 'secondary Teff': 45.61802342239007, 'secondary Reff': 0.9183959386955273, 'adiabatic index': 3.2000558616483183, 'mean molecular weight': 4.815292804254985, 'icooling': 29}}, {'_index': 'trial_index', '_op_type': 'index', '_source': {'git hash': '8743b52063cd84097a65d1633f5c74f5', 'resolution': 512, 'time': 19541.304407426054, 'path to image': '/path/to/image_46.png', 'eccentricity': 0.40500014796378336, 'semi-major axis': 5.094413715229252, 'primary mass': 79774.52340079269, 'primary racc': 9.566215172577913, 'primary Teff': 168.44637292648804, 'primary Reff': 2.4814781786379454, 'secondary mass': 418.44995327134944, 'secondary racc': 0.3222251725789014, 'secondary Teff': 71.91329280304895, 'secondary Reff': 0.08968053111953156, 'adiabatic index': 9.719091814016716, 'mean molecular weight': 32.137588151466275, 'icooling': 37}}, {'_index': 'trial_index', '_op_type': 'index', '_source': {'git hash': '8743b52063cd84097a65d1633f5c74f5', 'resolution': 64, 'time': 21637.359923183016, 'path to image': '/path/to/image_47.png', 'eccentricity': 0.30794747406635503, 'semi-major axis': 2.7797383740706776, 'primary mass': 29545.46030010122, 'primary racc': 7.771699385959178, 'primary Teff': 762.0738029968319, 'primary Reff': 2.903720408502105, 'secondary mass': 802.9884829316727, 'secondary racc': 0.6491301633741949, 'secondary Teff': 99.28807808318896, 'secondary Reff': 0.8507859555956042, 'adiabatic index': 8.705447747939209, 'mean molecular weight': 36.89705576816287, 'icooling': 27}}, {'_index': 'trial_index', '_op_type': 'index', '_source': {'git hash': '8743b52063cd84097a65d1633f5c74f5', 'resolution': 256, 'time': 39450.00698947409, 'path to image': '/path/to/image_48.png', 'eccentricity': 0.34800341356847486, 'semi-major axis': 3.254592508712316, 'primary mass': 55027.67152316664, 'primary racc': 6.6818843057778885, 'primary Teff': 971.9515647805943, 'primary Reff': 4.313325506940142, 'secondary mass': 821.5749516746558, 'secondary racc': 0.6687517376311852, 'secondary Teff': 26.62627379215473, 'secondary Reff': 0.4810161338613216, 'adiabatic index': 9.824957922657498, 'mean molecular weight': 21.3376483584634, 'icooling': 20}}, {'_index': 'trial_index', '_op_type': 'index', '_source': {'git hash': '8743b52063cd84097a65d1633f5c74f5', 'resolution': 512, 'time': 36768.52055847019, 'path to image': '/path/to/image_49.png', 'eccentricity': 0.7411786349809428, 'semi-major axis': 2.6193064678689484, 'primary mass': 67837.60168960533, 'primary racc': 2.2438961255705343, 'primary Teff': 299.3754212245961, 'primary Reff': 4.745109217851404, 'secondary mass': 528.5417176824055, 'secondary racc': 0.28409538190532446, 'secondary Teff': 80.84837818670184, 'secondary Reff': 0.4007205124379778, 'adiabatic index': 7.864552208966968, 'mean molecular weight': 8.580078234420544, 'icooling': 43}}, {'_index': 'trial_index', '_op_type': 'index', '_source': {'git hash': '8743b52063cd84097a65d1633f5c74f5', 'resolution': 128, 'time': 30740.800537416577, 'path to image': '/path/to/image_50.png', 'eccentricity': 0.25276425308493844, 'semi-major axis': 5.516094331753362, 'primary mass': 82755.55258804798, 'primary racc': 5.875877396284675, 'primary Teff': 374.5309314519707, 'primary Reff': 2.485067222939627, 'secondary mass': 217.38011346073876, 'secondary racc': 0.3952263236059821, 'secondary Teff': 8.841870717045948, 'secondary Reff': 0.4091982549576936, 'adiabatic index': 2.732568106206862, 'mean molecular weight': 29.218672581640323, 'icooling': 49}}, {'_index': 'trial_index', '_op_type': 'index', '_source': {'git hash': '8743b52063cd84097a65d1633f5c74f5', 'resolution': 256, 'time': 13236.743206258374, 'path to image': '/path/to/image_51.png', 'eccentricity': 0.17470902678933486, 'semi-major axis': 6.672931310316199, 'primary mass': 14319.21171453692, 'primary racc': 2.282508055255768, 'primary Teff': 550.4757514331452, 'primary Reff': 3.294107909273611, 'secondary mass': 801.8942554460605, 'secondary racc': 0.41025192584515924, 'secondary Teff': 84.5633410462283, 'secondary Reff': 0.4542613871953175, 'adiabatic index': 4.157540063729805, 'mean molecular weight': 17.645063914149873, 'icooling': 33}}, {'_index': 'trial_index', '_op_type': 'index', '_source': {'git hash': '8743b52063cd84097a65d1633f5c74f5', 'resolution': 128, 'time': 11074.315631076572, 'path to image': '/path/to/image_52.png', 'eccentricity': 0.34475894243693217, 'semi-major axis': 8.40766454542513, 'primary mass': 15301.901535498731, 'primary racc': 2.125836282372144, 'primary Teff': 409.989555902359, 'primary Reff': 3.393389960518026, 'secondary mass': 390.69090618004, 'secondary racc': 0.8416785629325074, 'secondary Teff': 79.2375024132919, 'secondary Reff': 0.5136741482688985, 'adiabatic index': 6.071241403867811, 'mean molecular weight': 1.8287673733328544, 'icooling': 34}}, {'_index': 'trial_index', '_op_type': 'index', '_source': {'git hash': '8743b52063cd84097a65d1633f5c74f5', 'resolution': 64, 'time': 36069.36846578493, 'path to image': '/path/to/image_53.png', 'eccentricity': 0.257229873253371, 'semi-major axis': 1.448796986107383, 'primary mass': 60442.62099556442, 'primary racc': 4.372040741075088, 'primary Teff': 393.2346403736727, 'primary Reff': 2.823642117336286, 'secondary mass': 180.42471314266027, 'secondary racc': 0.42058351865829147, 'secondary Teff': 26.807674216837956, 'secondary Reff': 0.878808737372367, 'adiabatic index': 5.834973354093045, 'mean molecular weight': 13.834546975048143, 'icooling': 32}}, {'_index': 'trial_index', '_op_type': 'index', '_source': {'git hash': '8743b52063cd84097a65d1633f5c74f5', 'resolution': 64, 'time': 14425.554520647556, 'path to image': '/path/to/image_54.png', 'eccentricity': 0.6310702481990378, 'semi-major axis': 4.352962597016045, 'primary mass': 11886.392652218943, 'primary racc': 5.837136071013924, 'primary Teff': 426.546570461085, 'primary Reff': 1.1717285959927666, 'secondary mass': 46.54575906066721, 'secondary racc': 0.811070528674172, 'secondary Teff': 90.92287143256223, 'secondary Reff': 0.6483934098668712, 'adiabatic index': 1.8501037667609177, 'mean molecular weight': 33.55434005225263, 'icooling': 25}}, {'_index': 'trial_index', '_op_type': 'index', '_source': {'git hash': '8743b52063cd84097a65d1633f5c74f5', 'resolution': 64, 'time': 33812.39974349078, 'path to image': '/path/to/image_55.png', 'eccentricity': 0.4555090786181575, 'semi-major axis': 3.8817509635999907, 'primary mass': 68557.23033364314, 'primary racc': 8.808207717627505, 'primary Teff': 896.6969527705309, 'primary Reff': 3.526723251141282, 'secondary mass': 661.9433039625098, 'secondary racc': 0.6552269134627605, 'secondary Teff': 92.76069236741968, 'secondary Reff': 0.30224877376200476, 'adiabatic index': 8.090428240250338, 'mean molecular weight': 19.934533257876137, 'icooling': 41}}, {'_index': 'trial_index', '_op_type': 'index', '_source': {'git hash': '8743b52063cd84097a65d1633f5c74f5', 'resolution': 128, 'time': 29328.874903558753, 'path to image': '/path/to/image_56.png', 'eccentricity': 0.2810080134926408, 'semi-major axis': 3.211982431726439, 'primary mass': 76997.28190320598, 'primary racc': 4.884837058393092, 'primary Teff': 873.8805930539435, 'primary Reff': 4.405666838209195, 'secondary mass': 841.7101843339117, 'secondary racc': 0.03179020262960153, 'secondary Teff': 64.50704997587957, 'secondary Reff': 0.31156368636417464, 'adiabatic index': 8.301070764359526, 'mean molecular weight': 26.896032296540483, 'icooling': 43}}, {'_index': 'trial_index', '_op_type': 'index', '_source': {'git hash': '8743b52063cd84097a65d1633f5c74f5', 'resolution': 128, 'time': 34361.63943368354, 'path to image': '/path/to/image_57.png', 'eccentricity': 0.9197731437081114, 'semi-major axis': 6.2408812190784495, 'primary mass': 72326.93334559868, 'primary racc': 8.49044973321914, 'primary Teff': 481.5961171016457, 'primary Reff': 2.4747280021112426, 'secondary mass': 40.92835306006279, 'secondary racc': 0.65254732808161, 'secondary Teff': 4.945018000743806, 'secondary Reff': 0.7751679132729459, 'adiabatic index': 4.049741029877186, 'mean molecular weight': 48.96237015224036, 'icooling': 48}}, {'_index': 'trial_index', '_op_type': 'index', '_source': {'git hash': '8743b52063cd84097a65d1633f5c74f5', 'resolution': 512, 'time': 16310.112122837589, 'path to image': '/path/to/image_58.png', 'eccentricity': 0.1822854230593538, 'semi-major axis': 2.9457335918721466, 'primary mass': 30356.49230414995, 'primary racc': 2.7596775163766853, 'primary Teff': 664.7064289699475, 'primary Reff': 3.639489479845734, 'secondary mass': 13.909971727957338, 'secondary racc': 0.5846978930193498, 'secondary Teff': 13.579330744717444, 'secondary Reff': 0.6707424095652027, 'adiabatic index': 3.9921560974813617, 'mean molecular weight': 46.46560491659514, 'icooling': 28}}, {'_index': 'trial_index', '_op_type': 'index', '_source': {'git hash': '8743b52063cd84097a65d1633f5c74f5', 'resolution': 128, 'time': 20139.332511870332, 'path to image': '/path/to/image_59.png', 'eccentricity': 0.5502125160685021, 'semi-major axis': 6.819474400303435, 'primary mass': 15490.742299724754, 'primary racc': 4.592866303364146, 'primary Teff': 789.9725668268895, 'primary Reff': 2.903283130559993, 'secondary mass': 360.2873039644708, 'secondary racc': 0.2653602492891627, 'secondary Teff': 70.78004246887569, 'secondary Reff': 0.4719856266042233, 'adiabatic index': 7.983753997895857, 'mean molecular weight': 29.588555590859233, 'icooling': 47}}, {'_index': 'trial_index', '_op_type': 'index', '_source': {'git hash': '8743b52063cd84097a65d1633f5c74f5', 'resolution': 256, 'time': 19808.80289816264, 'path to image': '/path/to/image_60.png', 'eccentricity': 0.16388364427971525, 'semi-major axis': 4.4328023824241765, 'primary mass': 14485.462883591132, 'primary racc': 1.6244417021444986, 'primary Teff': 440.21812197520165, 'primary Reff': 4.637186709494928, 'secondary mass': 306.6554715287946, 'secondary racc': 0.024522283296467884, 'secondary Teff': 83.1183798834956, 'secondary Reff': 0.43405680263851776, 'adiabatic index': 7.721713832668993, 'mean molecular weight': 29.64250387192841, 'icooling': 23}}, {'_index': 'trial_index', '_op_type': 'index', '_source': {'git hash': '8743b52063cd84097a65d1633f5c74f5', 'resolution': 512, 'time': 44705.042090224815, 'path to image': '/path/to/image_61.png', 'eccentricity': 0.23905813379391028, 'semi-major axis': 2.286469021085758, 'primary mass': 19645.0899177841, 'primary racc': 1.0550059263901332, 'primary Teff': 195.9851210770511, 'primary Reff': 4.129276080543447, 'secondary mass': 735.6388953798086, 'secondary racc': 0.9796336304438893, 'secondary Teff': 35.55776897724031, 'secondary Reff': 0.2713613131817906, 'adiabatic index': 7.480773995261188, 'mean molecular weight': 30.470322209730934, 'icooling': 48}}, {'_index': 'trial_index', '_op_type': 'index', '_source': {'git hash': '8743b52063cd84097a65d1633f5c74f5', 'resolution': 64, 'time': 18692.359739331583, 'path to image': '/path/to/image_62.png', 'eccentricity': 0.37843084239246405, 'semi-major axis': 2.9498539439468012, 'primary mass': 29285.31843337271, 'primary racc': 9.104711967464057, 'primary Teff': 203.46425135028645, 'primary Reff': 1.8618168801672743, 'secondary mass': 369.4498184470428, 'secondary racc': 0.8033009890233466, 'secondary Teff': 43.22999676950772, 'secondary Reff': 0.8003397613073725, 'adiabatic index': 4.714523890482337, 'mean molecular weight': 2.0959532410401707, 'icooling': 44}}, {'_index': 'trial_index', '_op_type': 'index', '_source': {'git hash': '8743b52063cd84097a65d1633f5c74f5', 'resolution': 512, 'time': 19788.301972962865, 'path to image': '/path/to/image_63.png', 'eccentricity': 0.7752652090261734, 'semi-major axis': 1.0944374714240097, 'primary mass': 85806.22911871936, 'primary racc': 9.942046329495282, 'primary Teff': 976.6665476326049, 'primary Reff': 3.447713265636786, 'secondary mass': 822.5117030052899, 'secondary racc': 0.3599774811369916, 'secondary Teff': 23.623661013371773, 'secondary Reff': 0.49665120798827755, 'adiabatic index': 2.27391716838965, 'mean molecular weight': 41.203294540352935, 'icooling': 20}}, {'_index': 'trial_index', '_op_type': 'index', '_source': {'git hash': '8743b52063cd84097a65d1633f5c74f5', 'resolution': 256, 'time': 18547.958324223484, 'path to image': '/path/to/image_64.png', 'eccentricity': 0.07143055231379203, 'semi-major axis': 7.466563196376779, 'primary mass': 64806.4028254442, 'primary racc': 1.6493439448090947, 'primary Teff': 425.7731833572835, 'primary Reff': 3.443602765679906, 'secondary mass': 592.4880128739969, 'secondary racc': 0.03287605929722537, 'secondary Teff': 29.603447331285466, 'secondary Reff': 0.9058209918535883, 'adiabatic index': 2.034909314872369, 'mean molecular weight': 32.43998552552068, 'icooling': 43}}, {'_index': 'trial_index', '_op_type': 'index', '_source': {'git hash': '8743b52063cd84097a65d1633f5c74f5', 'resolution': 256, 'time': 43955.07690611331, 'path to image': '/path/to/image_65.png', 'eccentricity': 0.6429783526762392, 'semi-major axis': 4.345853124257187, 'primary mass': 75465.81042294433, 'primary racc': 2.595790257258948, 'primary Teff': 366.9166648000825, 'primary Reff': 4.042281729437494, 'secondary mass': 395.7540967392802, 'secondary racc': 0.7675403237064743, 'secondary Teff': 18.07729406600087, 'secondary Reff': 0.21022221341131409, 'adiabatic index': 7.930951780253421, 'mean molecular weight': 42.08050189540266, 'icooling': 23}}, {'_index': 'trial_index', '_op_type': 'index', '_source': {'git hash': '8743b52063cd84097a65d1633f5c74f5', 'resolution': 128, 'time': 2830.19656706524, 'path to image': '/path/to/image_66.png', 'eccentricity': 0.2821224655179244, 'semi-major axis': 7.315595249603542, 'primary mass': 49760.81084422605, 'primary racc': 4.6050546145666456, 'primary Teff': 648.1520646296982, 'primary Reff': 2.4420688943394735, 'secondary mass': 348.1432355213112, 'secondary racc': 0.8507052929929352, 'secondary Teff': 28.355024025074826, 'secondary Reff': 0.6199969799987534, 'adiabatic index': 7.147859385056962, 'mean molecular weight': 28.6738488303919, 'icooling': 24}}, {'_index': 'trial_index', '_op_type': 'index', '_source': {'git hash': '8743b52063cd84097a65d1633f5c74f5', 'resolution': 64, 'time': 46056.70876770211, 'path to image': '/path/to/image_67.png', 'eccentricity': 0.8053827130086872, 'semi-major axis': 8.475718105420466, 'primary mass': 25574.500627825757, 'primary racc': 1.1249899576393614, 'primary Teff': 174.12715547064505, 'primary Reff': 1.8058084907238778, 'secondary mass': 885.492202100167, 'secondary racc': 0.8985982334120882, 'secondary Teff': 37.7699599403142, 'secondary Reff': 0.23962034244130226, 'adiabatic index': 3.3614027512233924, 'mean molecular weight': 7.335119777953554, 'icooling': 23}}, {'_index': 'trial_index', '_op_type': 'index', '_source': {'git hash': '8743b52063cd84097a65d1633f5c74f5', 'resolution': 512, 'time': 3049.3740307517605, 'path to image': '/path/to/image_68.png', 'eccentricity': 0.7786490286028822, 'semi-major axis': 5.658101449007322, 'primary mass': 44103.58706289793, 'primary racc': 3.3464849776413628, 'primary Teff': 142.42710113620217, 'primary Reff': 1.7651334169337156, 'secondary mass': 106.55594821584253, 'secondary racc': 0.4535840932197126, 'secondary Teff': 8.415430470328339, 'secondary Reff': 0.9353608513783565, 'adiabatic index': 2.937809888857254, 'mean molecular weight': 7.12274725587642, 'icooling': 37}}, {'_index': 'trial_index', '_op_type': 'index', '_source': {'git hash': '8743b52063cd84097a65d1633f5c74f5', 'resolution': 128, 'time': 41564.90928039277, 'path to image': '/path/to/image_69.png', 'eccentricity': 0.07218664247366613, 'semi-major axis': 5.456048267667327, 'primary mass': 80644.6285259081, 'primary racc': 9.960532885819559, 'primary Teff': 192.0921748554716, 'primary Reff': 2.627605386790867, 'secondary mass': 528.0370954791457, 'secondary racc': 0.2572110857874763, 'secondary Teff': 62.724802195400905, 'secondary Reff': 0.8862890495773291, 'adiabatic index': 9.887699228743594, 'mean molecular weight': 38.52754740533317, 'icooling': 25}}, {'_index': 'trial_index', '_op_type': 'index', '_source': {'git hash': '8743b52063cd84097a65d1633f5c74f5', 'resolution': 128, 'time': 9171.055820287973, 'path to image': '/path/to/image_70.png', 'eccentricity': 0.36447248274815036, 'semi-major axis': 9.19116447040081, 'primary mass': 38908.91797510747, 'primary racc': 4.83186888453873, 'primary Teff': 347.50640919234934, 'primary Reff': 4.2012986149563645, 'secondary mass': 825.8994506826009, 'secondary racc': 0.26242182067418984, 'secondary Teff': 90.30389275273443, 'secondary Reff': 0.2897596088291655, 'adiabatic index': 8.83846026693786, 'mean molecular weight': 40.01971585118603, 'icooling': 28}}, {'_index': 'trial_index', '_op_type': 'index', '_source': {'git hash': '8743b52063cd84097a65d1633f5c74f5', 'resolution': 512, 'time': 32970.23263934005, 'path to image': '/path/to/image_71.png', 'eccentricity': 0.5722831960397023, 'semi-major axis': 7.521129968594264, 'primary mass': 80117.68731255896, 'primary racc': 2.9567727731698215, 'primary Teff': 204.83698782249496, 'primary Reff': 1.22408277438244, 'secondary mass': 60.610902147302966, 'secondary racc': 0.6451430274324926, 'secondary Teff': 60.68420935652007, 'secondary Reff': 0.646567643402043, 'adiabatic index': 5.167639361037963, 'mean molecular weight': 25.260046580225637, 'icooling': 37}}, {'_index': 'trial_index', '_op_type': 'index', '_source': {'git hash': '8743b52063cd84097a65d1633f5c74f5', 'resolution': 512, 'time': 39912.52877736423, 'path to image': '/path/to/image_72.png', 'eccentricity': 0.5798862849157962, 'semi-major axis': 4.34668423403958, 'primary mass': 66544.14880030169, 'primary racc': 5.587926910412374, 'primary Teff': 368.86019566486436, 'primary Reff': 1.660988085986308, 'secondary mass': 893.5457891680094, 'secondary racc': 0.24983298361309836, 'secondary Teff': 25.612836884344603, 'secondary Reff': 0.7370637841066096, 'adiabatic index': 7.808789745311038, 'mean molecular weight': 7.492393105199136, 'icooling': 48}}, {'_index': 'trial_index', '_op_type': 'index', '_source': {'git hash': '8743b52063cd84097a65d1633f5c74f5', 'resolution': 256, 'time': 45774.79922030036, 'path to image': '/path/to/image_73.png', 'eccentricity': 0.8636897911131405, 'semi-major axis': 6.480158841804336, 'primary mass': 8336.320241884798, 'primary racc': 8.728000768379157, 'primary Teff': 322.5921285471044, 'primary Reff': 4.824107118384458, 'secondary mass': 908.15504261112, 'secondary racc': 0.3322660366653205, 'secondary Teff': 12.357188827169661, 'secondary Reff': 0.193406730620591, 'adiabatic index': 1.6749449607553348, 'mean molecular weight': 37.748892576749135, 'icooling': 46}}, {'_index': 'trial_index', '_op_type': 'index', '_source': {'git hash': '8743b52063cd84097a65d1633f5c74f5', 'resolution': 512, 'time': 38883.56908045258, 'path to image': '/path/to/image_74.png', 'eccentricity': 0.7173928739043767, 'semi-major axis': 2.5165863921576666, 'primary mass': 41387.04179872881, 'primary racc': 9.306087815392331, 'primary Teff': 420.30590487638835, 'primary Reff': 4.38961962813609, 'secondary mass': 671.6741921456211, 'secondary racc': 0.5050157755269788, 'secondary Teff': 49.03527839856241, 'secondary Reff': 0.6987197097348748, 'adiabatic index': 5.46567546540648, 'mean molecular weight': 11.972709312718573, 'icooling': 28}}, {'_index': 'trial_index', '_op_type': 'index', '_source': {'git hash': '8743b52063cd84097a65d1633f5c74f5', 'resolution': 128, 'time': 30260.55993652723, 'path to image': '/path/to/image_75.png', 'eccentricity': 0.37691002985248, 'semi-major axis': 1.7972038109205268, 'primary mass': 88352.50663334064, 'primary racc': 6.869538982981169, 'primary Teff': 329.3314842612321, 'primary Reff': 4.171026472130393, 'secondary mass': 733.0003115966316, 'secondary racc': 0.5830539808022226, 'secondary Teff': 28.882796849562624, 'secondary Reff': 0.06535017415948052, 'adiabatic index': 9.208203891773225, 'mean molecular weight': 3.9077156272000684, 'icooling': 30}}, {'_index': 'trial_index', '_op_type': 'index', '_source': {'git hash': '8743b52063cd84097a65d1633f5c74f5', 'resolution': 512, 'time': 14910.023051792634, 'path to image': '/path/to/image_76.png', 'eccentricity': 0.0303866019123884, 'semi-major axis': 5.8410283678357535, 'primary mass': 53886.465127742435, 'primary racc': 3.9298972576973887, 'primary Teff': 437.27230726264384, 'primary Reff': 2.531296296352113, 'secondary mass': 39.852783503977875, 'secondary racc': 0.3252434144607914, 'secondary Teff': 46.57769315776626, 'secondary Reff': 0.4629903079372417, 'adiabatic index': 9.25540705208543, 'mean molecular weight': 6.357695495429338, 'icooling': 43}}, {'_index': 'trial_index', '_op_type': 'index', '_source': {'git hash': '8743b52063cd84097a65d1633f5c74f5', 'resolution': 64, 'time': 27269.85594485725, 'path to image': '/path/to/image_77.png', 'eccentricity': 0.8226797116979273, 'semi-major axis': 4.963318068998652, 'primary mass': 33661.63613249989, 'primary racc': 1.44194798644991, 'primary Teff': 467.4569614975175, 'primary Reff': 1.6562890926165235, 'secondary mass': 905.2621039958342, 'secondary racc': 0.29538901328140155, 'secondary Teff': 31.258107661403297, 'secondary Reff': 0.3597319185796176, 'adiabatic index': 8.504391138293554, 'mean molecular weight': 4.459140614547908, 'icooling': 36}}, {'_index': 'trial_index', '_op_type': 'index', '_source': {'git hash': '8743b52063cd84097a65d1633f5c74f5', 'resolution': 64, 'time': 49758.438723445164, 'path to image': '/path/to/image_78.png', 'eccentricity': 0.17124939362375202, 'semi-major axis': 3.3642367868227487, 'primary mass': 58346.67733804822, 'primary racc': 8.964843047890648, 'primary Teff': 600.1271197763376, 'primary Reff': 1.132040682064014, 'secondary mass': 709.7637839920288, 'secondary racc': 0.029698076370698767, 'secondary Teff': 36.91245684467538, 'secondary Reff': 0.44637483062938976, 'adiabatic index': 3.9554158415305443, 'mean molecular weight': 27.91159622578033, 'icooling': 23}}, {'_index': 'trial_index', '_op_type': 'index', '_source': {'git hash': '8743b52063cd84097a65d1633f5c74f5', 'resolution': 128, 'time': 3240.356292692983, 'path to image': '/path/to/image_79.png', 'eccentricity': 0.8212189075368292, 'semi-major axis': 6.092709482028672, 'primary mass': 1186.6417121426994, 'primary racc': 9.509180396633456, 'primary Teff': 622.0427856967034, 'primary Reff': 2.020327310999293, 'secondary mass': 653.7315889749643, 'secondary racc': 0.5759579778876739, 'secondary Teff': 79.5530963633413, 'secondary Reff': 0.8220865882472802, 'adiabatic index': 9.813930832114629, 'mean molecular weight': 22.675620008094064, 'icooling': 34}}, {'_index': 'trial_index', '_op_type': 'index', '_source': {'git hash': '8743b52063cd84097a65d1633f5c74f5', 'resolution': 64, 'time': 36811.39607335593, 'path to image': '/path/to/image_80.png', 'eccentricity': 0.9142388514308354, 'semi-major axis': 6.1475530210241685, 'primary mass': 44999.18806492264, 'primary racc': 4.608504921077988, 'primary Teff': 316.99365283738825, 'primary Reff': 3.0424117248142744, 'secondary mass': 457.88198763852597, 'secondary racc': 0.011437664654460056, 'secondary Teff': 25.790923200147187, 'secondary Reff': 0.46244662994512065, 'adiabatic index': 6.905908538213405, 'mean molecular weight': 4.326476369793035, 'icooling': 49}}, {'_index': 'trial_index', '_op_type': 'index', '_source': {'git hash': '8743b52063cd84097a65d1633f5c74f5', 'resolution': 128, 'time': 29730.545362247238, 'path to image': '/path/to/image_81.png', 'eccentricity': 0.7508613527635558, 'semi-major axis': 3.7276407170020285, 'primary mass': 66147.58253428125, 'primary racc': 1.0046441964658843, 'primary Teff': 933.7783856317898, 'primary Reff': 1.5251481992648293, 'secondary mass': 441.58735151319735, 'secondary racc': 0.9383421778138329, 'secondary Teff': 85.94869318629786, 'secondary Reff': 0.7013080448164234, 'adiabatic index': 7.106292577069889, 'mean molecular weight': 15.562101274753694, 'icooling': 22}}, {'_index': 'trial_index', '_op_type': 'index', '_source': {'git hash': '8743b52063cd84097a65d1633f5c74f5', 'resolution': 256, 'time': 48441.130621927434, 'path to image': '/path/to/image_82.png', 'eccentricity': 0.5037344198937646, 'semi-major axis': 7.616641534902725, 'primary mass': 73337.92128580579, 'primary racc': 2.8648227710467107, 'primary Teff': 395.828259842076, 'primary Reff': 4.570402758118981, 'secondary mass': 685.9703151001329, 'secondary racc': 0.019263286465005747, 'secondary Teff': 48.40433726007286, 'secondary Reff': 0.8013992786630808, 'adiabatic index': 5.8367860370206985, 'mean molecular weight': 26.3454963902144, 'icooling': 20}}, {'_index': 'trial_index', '_op_type': 'index', '_source': {'git hash': '8743b52063cd84097a65d1633f5c74f5', 'resolution': 64, 'time': 15303.117493337602, 'path to image': '/path/to/image_83.png', 'eccentricity': 0.11324448323775094, 'semi-major axis': 6.935034679207366, 'primary mass': 42538.97486950513, 'primary racc': 3.1082849905206724, 'primary Teff': 321.7214335559821, 'primary Reff': 1.7220836456678321, 'secondary mass': 698.0218423565767, 'secondary racc': 0.9766517762465075, 'secondary Teff': 70.06021673448889, 'secondary Reff': 0.9191653360615685, 'adiabatic index': 4.604219344159807, 'mean molecular weight': 48.744883163973576, 'icooling': 47}}, {'_index': 'trial_index', '_op_type': 'index', '_source': {'git hash': '8743b52063cd84097a65d1633f5c74f5', 'resolution': 128, 'time': 12268.747254395714, 'path to image': '/path/to/image_84.png', 'eccentricity': 0.44371336177343257, 'semi-major axis': 2.9151452098276747, 'primary mass': 42804.138665469865, 'primary racc': 3.8003272694302668, 'primary Teff': 767.5474306834261, 'primary Reff': 4.7324378997544105, 'secondary mass': 402.24292807344466, 'secondary racc': 0.3660047411289419, 'secondary Teff': 80.85536548255574, 'secondary Reff': 0.7432631944683169, 'adiabatic index': 8.462192235706066, 'mean molecular weight': 18.919408052588498, 'icooling': 35}}, {'_index': 'trial_index', '_op_type': 'index', '_source': {'git hash': '8743b52063cd84097a65d1633f5c74f5', 'resolution': 128, 'time': 4751.480408895741, 'path to image': '/path/to/image_85.png', 'eccentricity': 0.44757871207713984, 'semi-major axis': 6.089610589700505, 'primary mass': 37455.37603868396, 'primary racc': 5.476985692102968, 'primary Teff': 372.2313483475565, 'primary Reff': 3.512569887151924, 'secondary mass': 869.0808137759017, 'secondary racc': 0.4253715795482742, 'secondary Teff': 47.431606360654854, 'secondary Reff': 0.07320562594463464, 'adiabatic index': 1.330251022473771, 'mean molecular weight': 17.15647824476743, 'icooling': 32}}, {'_index': 'trial_index', '_op_type': 'index', '_source': {'git hash': '8743b52063cd84097a65d1633f5c74f5', 'resolution': 64, 'time': 27912.212357229037, 'path to image': '/path/to/image_86.png', 'eccentricity': 0.24728052640779186, 'semi-major axis': 5.199873292506513, 'primary mass': 72071.98607853713, 'primary racc': 5.821045481695973, 'primary Teff': 967.442562368746, 'primary Reff': 1.8688792375829952, 'secondary mass': 906.8242311664417, 'secondary racc': 0.9033434680112851, 'secondary Teff': 52.362195826844236, 'secondary Reff': 0.19668102311334734, 'adiabatic index': 9.17410117174081, 'mean molecular weight': 28.3337182472346, 'icooling': 47}}, {'_index': 'trial_index', '_op_type': 'index', '_source': {'git hash': '8743b52063cd84097a65d1633f5c74f5', 'resolution': 512, 'time': 15725.795681872536, 'path to image': '/path/to/image_87.png', 'eccentricity': 0.5697885836019514, 'semi-major axis': 3.4403939847881486, 'primary mass': 51584.394391809095, 'primary racc': 7.078521346592156, 'primary Teff': 286.9496757821325, 'primary Reff': 3.060523556198066, 'secondary mass': 973.6435125639621, 'secondary racc': 0.5612202758242469, 'secondary Teff': 71.14852613276405, 'secondary Reff': 0.669710837129242, 'adiabatic index': 3.613417789359523, 'mean molecular weight': 18.07282664701005, 'icooling': 34}}, {'_index': 'trial_index', '_op_type': 'index', '_source': {'git hash': '8743b52063cd84097a65d1633f5c74f5', 'resolution': 256, 'time': 27790.946869015697, 'path to image': '/path/to/image_88.png', 'eccentricity': 0.4858549101410027, 'semi-major axis': 8.758175641048446, 'primary mass': 64962.88918249148, 'primary racc': 3.1973238074038157, 'primary Teff': 424.35800431902027, 'primary Reff': 4.234941755670505, 'secondary mass': 713.358948494166, 'secondary racc': 0.7690080873460433, 'secondary Teff': 1.4298594894152978, 'secondary Reff': 0.38992386092227826, 'adiabatic index': 2.9445498775243126, 'mean molecular weight': 3.8925089046255006, 'icooling': 28}}, {'_index': 'trial_index', '_op_type': 'index', '_source': {'git hash': '8743b52063cd84097a65d1633f5c74f5', 'resolution': 128, 'time': 44653.157477693836, 'path to image': '/path/to/image_89.png', 'eccentricity': 0.2524649515099273, 'semi-major axis': 5.215693838545419, 'primary mass': 94624.15380616396, 'primary racc': 6.043462833171556, 'primary Teff': 491.31116936030116, 'primary Reff': 1.8558061613257375, 'secondary mass': 62.00913788908041, 'secondary racc': 0.5200823444327887, 'secondary Teff': 36.817955872214, 'secondary Reff': 0.5623136321670331, 'adiabatic index': 5.52477526796776, 'mean molecular weight': 13.546841339860823, 'icooling': 24}}, {'_index': 'trial_index', '_op_type': 'index', '_source': {'git hash': '8743b52063cd84097a65d1633f5c74f5', 'resolution': 64, 'time': 12872.692533718955, 'path to image': '/path/to/image_90.png', 'eccentricity': 0.06463250514256957, 'semi-major axis': 5.418654235538611, 'primary mass': 62522.94235357319, 'primary racc': 1.7826454398838276, 'primary Teff': 987.6753498254162, 'primary Reff': 4.905545068953856, 'secondary mass': 373.14160550113996, 'secondary racc': 0.6987751227815474, 'secondary Teff': 96.3658756451316, 'secondary Reff': 0.7669578526983217, 'adiabatic index': 9.701767467189915, 'mean molecular weight': 42.09013107906347, 'icooling': 35}}, {'_index': 'trial_index', '_op_type': 'index', '_source': {'git hash': '8743b52063cd84097a65d1633f5c74f5', 'resolution': 128, 'time': 32527.378116061453, 'path to image': '/path/to/image_91.png', 'eccentricity': 0.49295417611476766, 'semi-major axis': 6.115666216423239, 'primary mass': 40354.03340410787, 'primary racc': 4.884627336507621, 'primary Teff': 525.4964043970751, 'primary Reff': 3.6958220862017903, 'secondary mass': 533.464782805755, 'secondary racc': 0.9178477504294503, 'secondary Teff': 16.36210505539555, 'secondary Reff': 0.20402340120177986, 'adiabatic index': 1.8478214586576822, 'mean molecular weight': 49.37208314518849, 'icooling': 44}}, {'_index': 'trial_index', '_op_type': 'index', '_source': {'git hash': '8743b52063cd84097a65d1633f5c74f5', 'resolution': 128, 'time': 42680.727950496555, 'path to image': '/path/to/image_92.png', 'eccentricity': 0.9552220352007263, 'semi-major axis': 2.5881749314858475, 'primary mass': 72497.95485536732, 'primary racc': 3.8921933640871464, 'primary Teff': 430.6090255632557, 'primary Reff': 4.6105967822590515, 'secondary mass': 638.6436028232155, 'secondary racc': 0.38288688253319203, 'secondary Teff': 13.28164223107716, 'secondary Reff': 0.40681210678895685, 'adiabatic index': 7.088536611480156, 'mean molecular weight': 6.092271627176142, 'icooling': 22}}, {'_index': 'trial_index', '_op_type': 'index', '_source': {'git hash': '8743b52063cd84097a65d1633f5c74f5', 'resolution': 512, 'time': 43580.92696030819, 'path to image': '/path/to/image_93.png', 'eccentricity': 0.5981411520173726, 'semi-major axis': 5.625897183706633, 'primary mass': 34411.96175148801, 'primary racc': 2.307253542932985, 'primary Teff': 838.8324782796705, 'primary Reff': 4.756792188711492, 'secondary mass': 755.887142408743, 'secondary racc': 0.7138834923916014, 'secondary Teff': 36.132508242037545, 'secondary Reff': 0.7727692491460315, 'adiabatic index': 9.917773712521166, 'mean molecular weight': 44.596816855287116, 'icooling': 31}}, {'_index': 'trial_index', '_op_type': 'index', '_source': {'git hash': '8743b52063cd84097a65d1633f5c74f5', 'resolution': 128, 'time': 11289.430405263602, 'path to image': '/path/to/image_94.png', 'eccentricity': 0.31289300477468496, 'semi-major axis': 3.635922649349486, 'primary mass': 19889.0968007324, 'primary racc': 6.4634706384603025, 'primary Teff': 412.62529876275437, 'primary Reff': 2.6890003493516543, 'secondary mass': 367.3287919098028, 'secondary racc': 0.16335353674726072, 'secondary Teff': 42.70666064667424, 'secondary Reff': 0.05504941628607729, 'adiabatic index': 4.064326375653913, 'mean molecular weight': 22.9696299362795, 'icooling': 42}}, {'_index': 'trial_index', '_op_type': 'index', '_source': {'git hash': '8743b52063cd84097a65d1633f5c74f5', 'resolution': 128, 'time': 8185.0546841831465, 'path to image': '/path/to/image_95.png', 'eccentricity': 0.7628351214534262, 'semi-major axis': 5.892169693918024, 'primary mass': 76278.4917969498, 'primary racc': 9.204163771921422, 'primary Teff': 958.8141277220601, 'primary Reff': 3.725591145594499, 'secondary mass': 716.8501571728622, 'secondary racc': 0.9925831321388519, 'secondary Teff': 46.51449245702225, 'secondary Reff': 0.8072793505824272, 'adiabatic index': 1.7920513333607788, 'mean molecular weight': 47.53188637209156, 'icooling': 32}}, {'_index': 'trial_index', '_op_type': 'index', '_source': {'git hash': '8743b52063cd84097a65d1633f5c74f5', 'resolution': 64, 'time': 30062.091173562083, 'path to image': '/path/to/image_96.png', 'eccentricity': 0.7213132854649359, 'semi-major axis': 3.3836657781342954, 'primary mass': 62200.360029100666, 'primary racc': 2.0161096845224318, 'primary Teff': 944.1686332763585, 'primary Reff': 2.7042858865848447, 'secondary mass': 497.90505125172444, 'secondary racc': 0.06162465556242336, 'secondary Teff': 41.938975985920464, 'secondary Reff': 0.35035211239413777, 'adiabatic index': 3.270357769953665, 'mean molecular weight': 33.32841347126739, 'icooling': 34}}, {'_index': 'trial_index', '_op_type': 'index', '_source': {'git hash': '8743b52063cd84097a65d1633f5c74f5', 'resolution': 128, 'time': 48203.55729927845, 'path to image': '/path/to/image_97.png', 'eccentricity': 0.6105804109163737, 'semi-major axis': 7.719903517598029, 'primary mass': 62665.47660525065, 'primary racc': 5.422804167371134, 'primary Teff': 172.2373038952182, 'primary Reff': 2.6105746966795533, 'secondary mass': 58.40304653404814, 'secondary racc': 0.82280175688036, 'secondary Teff': 89.26930023490868, 'secondary Reff': 0.6051875698334558, 'adiabatic index': 3.2799893807007856, 'mean molecular weight': 28.750126879848885, 'icooling': 33}}, {'_index': 'trial_index', '_op_type': 'index', '_source': {'git hash': '8743b52063cd84097a65d1633f5c74f5', 'resolution': 128, 'time': 22105.318348641904, 'path to image': '/path/to/image_98.png', 'eccentricity': 0.8400797598999349, 'semi-major axis': 1.072273303631555, 'primary mass': 26322.632541244642, 'primary racc': 8.56670122837756, 'primary Teff': 394.7496181361636, 'primary Reff': 4.202235070718271, 'secondary mass': 998.7992976057214, 'secondary racc': 0.4498702343860055, 'secondary Teff': 42.6181153838655, 'secondary Reff': 0.7601672435718376, 'adiabatic index': 9.523109237310708, 'mean molecular weight': 38.22326205986181, 'icooling': 23}}, {'_index': 'trial_index', '_op_type': 'index', '_source': {'git hash': '8743b52063cd84097a65d1633f5c74f5', 'resolution': 512, 'time': 49599.80896629568, 'path to image': '/path/to/image_99.png', 'eccentricity': 0.9965333068293454, 'semi-major axis': 1.6413786491646065, 'primary mass': 10932.197897540498, 'primary racc': 5.390053754864636, 'primary Teff': 509.5601185192167, 'primary Reff': 2.3416218775381785, 'secondary mass': 225.20927604575684, 'secondary racc': 0.7623767966910622, 'secondary Teff': 57.35651788459685, 'secondary Reff': 0.3129301925943905, 'adiabatic index': 7.579770663659469, 'mean molecular weight': 2.2769930572844124, 'icooling': 47}}]\n"
     ]
    }
   ],
   "source": [
    "base_command = {\n",
    "    \"_index\": 'trial_index',\n",
    "    \"_op_type\": \"index\"\n",
    "}\n",
    "operations = []\n",
    "for i in range(100):\n",
    "    data = gen_data(image_number=i)\n",
    "    operations.append((base_command | {\"_source\": data}))\n",
    "    del data\n",
    "print(operations)\n",
    "helpers.bulk(client, operations, refresh=True)\n",
    "del operations"
   ]
  },
  {
   "cell_type": "markdown",
   "id": "401b9c02f2aa0ed5",
   "metadata": {},
   "source": [
    "# Updating a document\n",
    "\n",
    "If you wish to update a single **document**, you can do so using the client.update() function. Not all fields have to be specified, it is okay to just list the fields to alter or add. For bulk updating, see above."
   ]
  },
  {
   "cell_type": "code",
   "execution_count": 69,
   "id": "5e07082afa7be769",
   "metadata": {},
   "outputs": [
    {
     "ename": "NotFoundError",
     "evalue": "NotFoundError(404, 'document_missing_exception', '[<INSERT DOCUMENT ID TO UPDATE HERE>]: document missing')",
     "output_type": "error",
     "traceback": [
      "\u001b[0;31m---------------------------------------------------------------------------\u001b[0m",
      "\u001b[0;31mNotFoundError\u001b[0m                             Traceback (most recent call last)",
      "Cell \u001b[0;32mIn[69], line 3\u001b[0m\n\u001b[1;32m      1\u001b[0m data \u001b[38;5;241m=\u001b[39m gen_data(\u001b[38;5;241m1\u001b[39m)\n\u001b[1;32m      2\u001b[0m doc_id \u001b[38;5;241m=\u001b[39m \u001b[38;5;124m\"\u001b[39m\u001b[38;5;124m<INSERT DOCUMENT ID TO UPDATE HERE>\u001b[39m\u001b[38;5;124m\"\u001b[39m\n\u001b[0;32m----> 3\u001b[0m \u001b[43mclient\u001b[49m\u001b[38;5;241;43m.\u001b[39;49m\u001b[43mupdate\u001b[49m\u001b[43m(\u001b[49m\u001b[43mindex\u001b[49m\u001b[38;5;241;43m=\u001b[39;49m\u001b[38;5;124;43m'\u001b[39;49m\u001b[38;5;124;43mtrial_index\u001b[39;49m\u001b[38;5;124;43m'\u001b[39;49m\u001b[43m,\u001b[49m\u001b[43m \u001b[49m\u001b[38;5;28;43mid\u001b[39;49m\u001b[38;5;241;43m=\u001b[39;49m\u001b[43mdoc_id\u001b[49m\u001b[43m,\u001b[49m\u001b[43m \u001b[49m\u001b[43mdoc\u001b[49m\u001b[38;5;241;43m=\u001b[39;49m\u001b[43mdata\u001b[49m\u001b[43m)\u001b[49m\n",
      "File \u001b[0;32m/Library/Frameworks/Python.framework/Versions/3.12/lib/python3.12/site-packages/elasticsearch/_sync/client/utils.py:446\u001b[0m, in \u001b[0;36m_rewrite_parameters.<locals>.wrapper.<locals>.wrapped\u001b[0;34m(*args, **kwargs)\u001b[0m\n\u001b[1;32m    443\u001b[0m         \u001b[38;5;28;01mexcept\u001b[39;00m \u001b[38;5;167;01mKeyError\u001b[39;00m:\n\u001b[1;32m    444\u001b[0m             \u001b[38;5;28;01mpass\u001b[39;00m\n\u001b[0;32m--> 446\u001b[0m \u001b[38;5;28;01mreturn\u001b[39;00m \u001b[43mapi\u001b[49m\u001b[43m(\u001b[49m\u001b[38;5;241;43m*\u001b[39;49m\u001b[43margs\u001b[49m\u001b[43m,\u001b[49m\u001b[43m \u001b[49m\u001b[38;5;241;43m*\u001b[39;49m\u001b[38;5;241;43m*\u001b[39;49m\u001b[43mkwargs\u001b[49m\u001b[43m)\u001b[49m\n",
      "File \u001b[0;32m/Library/Frameworks/Python.framework/Versions/3.12/lib/python3.12/site-packages/elasticsearch/_sync/client/__init__.py:4939\u001b[0m, in \u001b[0;36mElasticsearch.update\u001b[0;34m(self, index, id, detect_noop, doc, doc_as_upsert, error_trace, filter_path, human, if_primary_term, if_seq_no, lang, pretty, refresh, require_alias, retry_on_conflict, routing, script, scripted_upsert, source, source_excludes, source_includes, timeout, upsert, wait_for_active_shards, body)\u001b[0m\n\u001b[1;32m   4937\u001b[0m         __body[\u001b[38;5;124m\"\u001b[39m\u001b[38;5;124mupsert\u001b[39m\u001b[38;5;124m\"\u001b[39m] \u001b[38;5;241m=\u001b[39m upsert\n\u001b[1;32m   4938\u001b[0m __headers \u001b[38;5;241m=\u001b[39m {\u001b[38;5;124m\"\u001b[39m\u001b[38;5;124maccept\u001b[39m\u001b[38;5;124m\"\u001b[39m: \u001b[38;5;124m\"\u001b[39m\u001b[38;5;124mapplication/json\u001b[39m\u001b[38;5;124m\"\u001b[39m, \u001b[38;5;124m\"\u001b[39m\u001b[38;5;124mcontent-type\u001b[39m\u001b[38;5;124m\"\u001b[39m: \u001b[38;5;124m\"\u001b[39m\u001b[38;5;124mapplication/json\u001b[39m\u001b[38;5;124m\"\u001b[39m}\n\u001b[0;32m-> 4939\u001b[0m \u001b[38;5;28;01mreturn\u001b[39;00m \u001b[38;5;28;43mself\u001b[39;49m\u001b[38;5;241;43m.\u001b[39;49m\u001b[43mperform_request\u001b[49m\u001b[43m(\u001b[49m\u001b[43m  \u001b[49m\u001b[38;5;66;43;03m# type: ignore[return-value]\u001b[39;49;00m\n\u001b[1;32m   4940\u001b[0m \u001b[43m    \u001b[49m\u001b[38;5;124;43m\"\u001b[39;49m\u001b[38;5;124;43mPOST\u001b[39;49m\u001b[38;5;124;43m\"\u001b[39;49m\u001b[43m,\u001b[49m\n\u001b[1;32m   4941\u001b[0m \u001b[43m    \u001b[49m\u001b[43m__path\u001b[49m\u001b[43m,\u001b[49m\n\u001b[1;32m   4942\u001b[0m \u001b[43m    \u001b[49m\u001b[43mparams\u001b[49m\u001b[38;5;241;43m=\u001b[39;49m\u001b[43m__query\u001b[49m\u001b[43m,\u001b[49m\n\u001b[1;32m   4943\u001b[0m \u001b[43m    \u001b[49m\u001b[43mheaders\u001b[49m\u001b[38;5;241;43m=\u001b[39;49m\u001b[43m__headers\u001b[49m\u001b[43m,\u001b[49m\n\u001b[1;32m   4944\u001b[0m \u001b[43m    \u001b[49m\u001b[43mbody\u001b[49m\u001b[38;5;241;43m=\u001b[39;49m\u001b[43m__body\u001b[49m\u001b[43m,\u001b[49m\n\u001b[1;32m   4945\u001b[0m \u001b[43m    \u001b[49m\u001b[43mendpoint_id\u001b[49m\u001b[38;5;241;43m=\u001b[39;49m\u001b[38;5;124;43m\"\u001b[39;49m\u001b[38;5;124;43mupdate\u001b[39;49m\u001b[38;5;124;43m\"\u001b[39;49m\u001b[43m,\u001b[49m\n\u001b[1;32m   4946\u001b[0m \u001b[43m    \u001b[49m\u001b[43mpath_parts\u001b[49m\u001b[38;5;241;43m=\u001b[39;49m\u001b[43m__path_parts\u001b[49m\u001b[43m,\u001b[49m\n\u001b[1;32m   4947\u001b[0m \u001b[43m\u001b[49m\u001b[43m)\u001b[49m\n",
      "File \u001b[0;32m/Library/Frameworks/Python.framework/Versions/3.12/lib/python3.12/site-packages/elasticsearch/_sync/client/_base.py:271\u001b[0m, in \u001b[0;36mBaseClient.perform_request\u001b[0;34m(self, method, path, params, headers, body, endpoint_id, path_parts)\u001b[0m\n\u001b[1;32m    255\u001b[0m \u001b[38;5;28;01mdef\u001b[39;00m \u001b[38;5;21mperform_request\u001b[39m(\n\u001b[1;32m    256\u001b[0m     \u001b[38;5;28mself\u001b[39m,\n\u001b[1;32m    257\u001b[0m     method: \u001b[38;5;28mstr\u001b[39m,\n\u001b[0;32m   (...)\u001b[0m\n\u001b[1;32m    264\u001b[0m     path_parts: Optional[Mapping[\u001b[38;5;28mstr\u001b[39m, Any]] \u001b[38;5;241m=\u001b[39m \u001b[38;5;28;01mNone\u001b[39;00m,\n\u001b[1;32m    265\u001b[0m ) \u001b[38;5;241m-\u001b[39m\u001b[38;5;241m>\u001b[39m ApiResponse[Any]:\n\u001b[1;32m    266\u001b[0m     \u001b[38;5;28;01mwith\u001b[39;00m \u001b[38;5;28mself\u001b[39m\u001b[38;5;241m.\u001b[39m_otel\u001b[38;5;241m.\u001b[39mspan(\n\u001b[1;32m    267\u001b[0m         method,\n\u001b[1;32m    268\u001b[0m         endpoint_id\u001b[38;5;241m=\u001b[39mendpoint_id,\n\u001b[1;32m    269\u001b[0m         path_parts\u001b[38;5;241m=\u001b[39mpath_parts \u001b[38;5;129;01mor\u001b[39;00m {},\n\u001b[1;32m    270\u001b[0m     ) \u001b[38;5;28;01mas\u001b[39;00m otel_span:\n\u001b[0;32m--> 271\u001b[0m         response \u001b[38;5;241m=\u001b[39m \u001b[38;5;28;43mself\u001b[39;49m\u001b[38;5;241;43m.\u001b[39;49m\u001b[43m_perform_request\u001b[49m\u001b[43m(\u001b[49m\n\u001b[1;32m    272\u001b[0m \u001b[43m            \u001b[49m\u001b[43mmethod\u001b[49m\u001b[43m,\u001b[49m\n\u001b[1;32m    273\u001b[0m \u001b[43m            \u001b[49m\u001b[43mpath\u001b[49m\u001b[43m,\u001b[49m\n\u001b[1;32m    274\u001b[0m \u001b[43m            \u001b[49m\u001b[43mparams\u001b[49m\u001b[38;5;241;43m=\u001b[39;49m\u001b[43mparams\u001b[49m\u001b[43m,\u001b[49m\n\u001b[1;32m    275\u001b[0m \u001b[43m            \u001b[49m\u001b[43mheaders\u001b[49m\u001b[38;5;241;43m=\u001b[39;49m\u001b[43mheaders\u001b[49m\u001b[43m,\u001b[49m\n\u001b[1;32m    276\u001b[0m \u001b[43m            \u001b[49m\u001b[43mbody\u001b[49m\u001b[38;5;241;43m=\u001b[39;49m\u001b[43mbody\u001b[49m\u001b[43m,\u001b[49m\n\u001b[1;32m    277\u001b[0m \u001b[43m            \u001b[49m\u001b[43motel_span\u001b[49m\u001b[38;5;241;43m=\u001b[39;49m\u001b[43motel_span\u001b[49m\u001b[43m,\u001b[49m\n\u001b[1;32m    278\u001b[0m \u001b[43m        \u001b[49m\u001b[43m)\u001b[49m\n\u001b[1;32m    279\u001b[0m         otel_span\u001b[38;5;241m.\u001b[39mset_elastic_cloud_metadata(response\u001b[38;5;241m.\u001b[39mmeta\u001b[38;5;241m.\u001b[39mheaders)\n\u001b[1;32m    280\u001b[0m         \u001b[38;5;28;01mreturn\u001b[39;00m response\n",
      "File \u001b[0;32m/Library/Frameworks/Python.framework/Versions/3.12/lib/python3.12/site-packages/elasticsearch/_sync/client/_base.py:352\u001b[0m, in \u001b[0;36mBaseClient._perform_request\u001b[0;34m(self, method, path, params, headers, body, otel_span)\u001b[0m\n\u001b[1;32m    349\u001b[0m         \u001b[38;5;28;01mexcept\u001b[39;00m (\u001b[38;5;167;01mValueError\u001b[39;00m, \u001b[38;5;167;01mKeyError\u001b[39;00m, \u001b[38;5;167;01mTypeError\u001b[39;00m):\n\u001b[1;32m    350\u001b[0m             \u001b[38;5;28;01mpass\u001b[39;00m\n\u001b[0;32m--> 352\u001b[0m     \u001b[38;5;28;01mraise\u001b[39;00m HTTP_EXCEPTIONS\u001b[38;5;241m.\u001b[39mget(meta\u001b[38;5;241m.\u001b[39mstatus, ApiError)(\n\u001b[1;32m    353\u001b[0m         message\u001b[38;5;241m=\u001b[39mmessage, meta\u001b[38;5;241m=\u001b[39mmeta, body\u001b[38;5;241m=\u001b[39mresp_body\n\u001b[1;32m    354\u001b[0m     )\n\u001b[1;32m    356\u001b[0m \u001b[38;5;66;03m# 'X-Elastic-Product: Elasticsearch' should be on every 2XX response.\u001b[39;00m\n\u001b[1;32m    357\u001b[0m \u001b[38;5;28;01mif\u001b[39;00m \u001b[38;5;129;01mnot\u001b[39;00m \u001b[38;5;28mself\u001b[39m\u001b[38;5;241m.\u001b[39m_verified_elasticsearch:\n\u001b[1;32m    358\u001b[0m     \u001b[38;5;66;03m# If the header is set we mark the server as verified.\u001b[39;00m\n",
      "\u001b[0;31mNotFoundError\u001b[0m: NotFoundError(404, 'document_missing_exception', '[<INSERT DOCUMENT ID TO UPDATE HERE>]: document missing')"
     ]
    }
   ],
   "source": [
    "data = gen_data(1)\n",
    "doc_id = \"<INSERT DOCUMENT ID TO UPDATE HERE>\"\n",
    "client.update(index='trial_index', id=doc_id, doc=data)"
   ]
  },
  {
   "cell_type": "markdown",
   "id": "2907dc961784729d",
   "metadata": {},
   "source": [
    "# Deleting an Index\n",
    "\n",
    "The following command will delete a named index, but will not remove the Kibana Data View, this has to be done manually in the Kibana interface."
   ]
  },
  {
   "cell_type": "code",
   "execution_count": null,
   "id": "946ad781a2b338b3",
   "metadata": {
    "ExecuteTime": {
     "end_time": "2024-10-25T12:39:09.671858Z",
     "start_time": "2024-10-25T12:39:09.652602Z"
    }
   },
   "outputs": [
    {
     "data": {
      "text/plain": [
       "ObjectApiResponse({'acknowledged': True})"
      ]
     },
     "execution_count": 4,
     "metadata": {},
     "output_type": "execute_result"
    }
   ],
   "source": [
    "client.indices.delete(index='trial_index')"
   ]
  },
  {
   "cell_type": "markdown",
   "id": "84b9c92c",
   "metadata": {},
   "source": [
    "# Queries\n",
    "\n",
    "If you wanna search for something"
   ]
  },
  {
   "cell_type": "code",
   "execution_count": 77,
   "id": "a8f57a5a",
   "metadata": {},
   "outputs": [],
   "source": [
    "def pretty_response(response):\n",
    "    if len(response[\"hits\"][\"hits\"]) == 0:\n",
    "        print(\"Your search returned no results.\")\n",
    "    else:\n",
    "        for hit in response[\"hits\"][\"hits\"]:\n",
    "            id = hit[\"_id\"]\n",
    "            git_hash = hit[\"_source\"][\"git hash\"]\n",
    "            time = hit[\"_source\"][\"time\"]\n",
    "            path_to_image = hit[\"_source\"][\"path to image\"]\n",
    "            eccentricity = hit[\"_source\"][\"eccentricity\"]\n",
    "            semimajor_axis = hit[\"_source\"][\"semi-major axis\"]\n",
    "            primarymass = hit[\"_source\"][\"primary mass\"]\n",
    "            pretty_output = f\"\\nID: {id}\\nGit hash: {git_hash}\\ntime: {time}\\n path to image: {path_to_image}\\neccentricity: {eccentricity}\\nsemi major axis: {semimajor_axis}\\nprimary mass: {primarymass}\"\n",
    "            print(pretty_output)\n"
   ]
  },
  {
   "cell_type": "code",
   "execution_count": 78,
   "id": "d2be4f31",
   "metadata": {},
   "outputs": [
    {
     "name": "stdout",
     "output_type": "stream",
     "text": [
      "\n",
      "ID: kxoj_ZIB2m-pINCabY4h\n",
      "Git hash: 8743b52063cd84097a65d1633f5c74f5\n",
      "time: 26997.225199188404\n",
      " path to image: /path/to/image_1.png\n",
      "eccentricity: 0.14867078912827159\n",
      "semi major axis: 4.7135573696277\n",
      "primary mass: 72419.07068018237\n",
      "\n",
      "ID: 9xop_ZIB2m-pINCakI4S\n",
      "Git hash: 8743b52063cd84097a65d1633f5c74f5\n",
      "time: 30202.858845965897\n",
      " path to image: /path/to/image_1.png\n",
      "eccentricity: 0.7436089083583735\n",
      "semi major axis: 6.680331363555909\n",
      "primary mass: 7988.655233781478\n",
      "\n",
      "ID: XBop_ZIB2m-pINCaq4-d\n",
      "Git hash: 8743b52063cd84097a65d1633f5c74f5\n",
      "time: 11537.91539363978\n",
      " path to image: /path/to/image_1.png\n",
      "eccentricity: 0.8965022019032595\n",
      "semi major axis: 1.5030274830953234\n",
      "primary mass: 82129.9734928058\n",
      "\n",
      "ID: wBpC_ZIB2m-pINCa1I89\n",
      "Git hash: 8743b52063cd84097a65d1633f5c74f5\n",
      "time: 11372.634024696366\n",
      " path to image: /path/to/image_1.png\n",
      "eccentricity: 0.6935322363256596\n",
      "semi major axis: 9.356162441292232\n",
      "primary mass: 24123.67365393174\n"
     ]
    }
   ],
   "source": [
    "\n",
    "#specific query\n",
    "response = client.search(\n",
    "    index=\"trial_index\",\n",
    "query={\"match\": {\"path to image\": {\"query\": \"/path/to/image_1.png\"}}}\n",
    ")\n",
    "pretty_response(response)\n",
    "\n"
   ]
  },
  {
   "cell_type": "code",
   "execution_count": 79,
   "id": "8cb6440f",
   "metadata": {},
   "outputs": [
    {
     "name": "stdout",
     "output_type": "stream",
     "text": [
      "\n",
      "ID: kRoj_ZIB2m-pINCabY4C\n",
      "Git hash: 8743b52063cd84097a65d1633f5c74f5\n",
      "time: 16964.27075460085\n",
      " path to image: /path/to/image_100.png\n",
      "eccentricity: 0.6710235651354755\n",
      "semi major axis: 7.607443895941159\n",
      "primary mass: 90806.05516269672\n",
      "\n",
      "ID: khoj_ZIB2m-pINCabY4h\n",
      "Git hash: 8743b52063cd84097a65d1633f5c74f5\n",
      "time: 34984.41159637372\n",
      " path to image: /path/to/image_0.png\n",
      "eccentricity: 0.34049718145008046\n",
      "semi major axis: 4.937621784322797\n",
      "primary mass: 56460.23565818521\n",
      "\n",
      "ID: kxoj_ZIB2m-pINCabY4h\n",
      "Git hash: 8743b52063cd84097a65d1633f5c74f5\n",
      "time: 26997.225199188404\n",
      " path to image: /path/to/image_1.png\n",
      "eccentricity: 0.14867078912827159\n",
      "semi major axis: 4.7135573696277\n",
      "primary mass: 72419.07068018237\n",
      "\n",
      "ID: lBoj_ZIB2m-pINCabY4h\n",
      "Git hash: 8743b52063cd84097a65d1633f5c74f5\n",
      "time: 33273.04307932191\n",
      " path to image: /path/to/image_2.png\n",
      "eccentricity: 0.062241446395312705\n",
      "semi major axis: 9.888259973299094\n",
      "primary mass: 57109.6802337451\n",
      "\n",
      "ID: lRoj_ZIB2m-pINCabY4h\n",
      "Git hash: 8743b52063cd84097a65d1633f5c74f5\n",
      "time: 37042.01673520302\n",
      " path to image: /path/to/image_3.png\n",
      "eccentricity: 0.001208223842579792\n",
      "semi major axis: 1.994509178540373\n",
      "primary mass: 49898.63192012364\n",
      "\n",
      "ID: lhoj_ZIB2m-pINCabY4h\n",
      "Git hash: 8743b52063cd84097a65d1633f5c74f5\n",
      "time: 17756.11959598789\n",
      " path to image: /path/to/image_4.png\n",
      "eccentricity: 0.7408175341962587\n",
      "semi major axis: 4.632866969743391\n",
      "primary mass: 18891.04698953423\n",
      "\n",
      "ID: lxoj_ZIB2m-pINCabY4h\n",
      "Git hash: 8743b52063cd84097a65d1633f5c74f5\n",
      "time: 38581.58405735324\n",
      " path to image: /path/to/image_5.png\n",
      "eccentricity: 0.9753438855451068\n",
      "semi major axis: 6.628047296033781\n",
      "primary mass: 72908.04908487787\n",
      "\n",
      "ID: mBoj_ZIB2m-pINCabY4h\n",
      "Git hash: 8743b52063cd84097a65d1633f5c74f5\n",
      "time: 35235.665191972264\n",
      " path to image: /path/to/image_6.png\n",
      "eccentricity: 0.7265546877762187\n",
      "semi major axis: 6.850835298341017\n",
      "primary mass: 22792.54378934445\n",
      "\n",
      "ID: mRoj_ZIB2m-pINCabY4h\n",
      "Git hash: 8743b52063cd84097a65d1633f5c74f5\n",
      "time: 10121.659042567699\n",
      " path to image: /path/to/image_7.png\n",
      "eccentricity: 0.6340175904086273\n",
      "semi major axis: 4.162222945337313\n",
      "primary mass: 6954.201651379845\n",
      "\n",
      "ID: mhoj_ZIB2m-pINCabY4h\n",
      "Git hash: 8743b52063cd84097a65d1633f5c74f5\n",
      "time: 39649.520365215816\n",
      " path to image: /path/to/image_8.png\n",
      "eccentricity: 0.5284255894334531\n",
      "semi major axis: 3.2628031879399417\n",
      "primary mass: 78108.91606770984\n"
     ]
    }
   ],
   "source": [
    "\n",
    "# Query all\n",
    "response = client.search(\n",
    ")\n",
    "pretty_response(response)"
   ]
  }
 ],
 "metadata": {
  "kernelspec": {
   "display_name": "Python 3",
   "language": "python",
   "name": "python3"
  },
  "language_info": {
   "codemirror_mode": {
    "name": "ipython",
    "version": 3
   },
   "file_extension": ".py",
   "mimetype": "text/x-python",
   "name": "python",
   "nbconvert_exporter": "python",
   "pygments_lexer": "ipython3",
   "version": "3.12.7"
  }
 },
 "nbformat": 4,
 "nbformat_minor": 5
}
